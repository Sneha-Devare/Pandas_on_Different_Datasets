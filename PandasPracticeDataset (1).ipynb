{
 "cells": [
  {
   "cell_type": "markdown",
   "id": "3f141f49-4b9a-4254-9c69-bdbcbd01eeb1",
   "metadata": {},
   "source": [
    "# **Pandas - Python Library**"
   ]
  },
  {
   "cell_type": "markdown",
   "id": "7a2a5137-97be-446b-8597-dcdb068a8755",
   "metadata": {},
   "source": [
    "### **What is Pandas ?**"
   ]
  },
  {
   "cell_type": "markdown",
   "id": "12add0f4-0ec4-4b02-9678-9c67142d8019",
   "metadata": {},
   "source": [
    "- **Pandas is a python library which helps in Data Analysis.**\n",
    "- **Used to analyze data.**\n",
    "- **Pandas has functions for analyzing, cleaning, exploring and manipulating data.**"
   ]
  },
  {
   "cell_type": "markdown",
   "id": "7076af64-3345-4d75-8c7e-15f540a77fad",
   "metadata": {},
   "source": [
    "### **Why Use Pandas ?**"
   ]
  },
  {
   "cell_type": "markdown",
   "id": "f0fd76f3-6e98-41c7-b82f-e933c47ebf3e",
   "metadata": {},
   "source": [
    "- **It helps to anlyze big data.**\n",
    "- **Makes conclusion on statistical theories.**\n",
    "- **Pandas can clean messy datasets.**\n",
    "- **Pandas methods can delete rows, clean data, rename columns, access specific data, filter data.**"
   ]
  },
  {
   "cell_type": "markdown",
   "id": "2f85edae-17ab-43db-8718-bf6c835c9750",
   "metadata": {},
   "source": [
    "### **Installing Pandas**"
   ]
  },
  {
   "cell_type": "raw",
   "id": "c2de6ab8-8564-41c6-b513-807490a85ddb",
   "metadata": {},
   "source": [
    "pip install pandas"
   ]
  },
  {
   "cell_type": "markdown",
   "id": "94ce7522-0de7-4e14-a105-ad201f8bbf5d",
   "metadata": {},
   "source": [
    "## **- Pandas Series**"
   ]
  },
  {
   "cell_type": "markdown",
   "id": "d2f1f455-a33c-439e-98e3-fd2f76add7e1",
   "metadata": {},
   "source": [
    "- **A pandas series is like column in a table.**\n",
    "- **It is one dimensional array holding data of any type.**"
   ]
  },
  {
   "cell_type": "markdown",
   "id": "6256c649-9303-4d99-812a-aacd489e9821",
   "metadata": {},
   "source": [
    "## **- Pandas Dataframes**"
   ]
  },
  {
   "cell_type": "markdown",
   "id": "dd485ab5-26f4-4937-9153-009aa3e751bf",
   "metadata": {},
   "source": [
    "- **Data sets in Pandas are usually multi-dimensional tables, called DataFrames.**\n",
    "- **Series is like a column, a DataFrame is the whole table.**\n",
    "- **Pandas dataframe is like 2 dimensional data structure, like two dimensional array, or table with columns and rows.**\n",
    "- **Dataframe is like table with columns and rows.**"
   ]
  },
  {
   "cell_type": "markdown",
   "id": "bfd315f3-97a5-4199-b59a-062ec8e0aa81",
   "metadata": {},
   "source": [
    "### **Import Pandas**"
   ]
  },
  {
   "cell_type": "code",
   "execution_count": 12,
   "id": "f623976c-e904-4265-a778-f94fd62e30e8",
   "metadata": {},
   "outputs": [],
   "source": [
    "# importing pandas library so we can use its methods in our notebook\n",
    "import pandas as pd     # here we create alias name for pandas library which is pd"
   ]
  },
  {
   "cell_type": "markdown",
   "id": "5fb65822-dce4-4d8b-8566-636ce90d77cd",
   "metadata": {},
   "source": [
    "### **Load Files into DataFrame**"
   ]
  },
  {
   "cell_type": "markdown",
   "id": "2078b470-d660-41fa-97bf-00b52f53c5d0",
   "metadata": {},
   "source": [
    "#### **Pandas - Read CSV file**"
   ]
  },
  {
   "cell_type": "code",
   "execution_count": 15,
   "id": "02295137-5977-4c15-84b8-2de3939ab058",
   "metadata": {},
   "outputs": [],
   "source": [
    "# loading given dataset using read_csv() method of pandas \n",
    "# here df is a variable that stores data which we reading from this pandas_practice1_dataset csv dataset\n",
    "df = pd.read_csv(\"C:\\\\Users\\\\HP\\\\Downloads\\\\pandas_practice1_dataset.csv\")"
   ]
  },
  {
   "cell_type": "markdown",
   "id": "d982781e-73dc-49d4-a3db-675909a9d0de",
   "metadata": {},
   "source": [
    "## **Functions -**"
   ]
  },
  {
   "cell_type": "markdown",
   "id": "5a09486a-c6eb-4f1f-92cf-b6fb712679af",
   "metadata": {},
   "source": [
    "### **1.head()** - Displaying rows / Used to view rows"
   ]
  },
  {
   "cell_type": "code",
   "execution_count": 18,
   "id": "e7e2ffb7-f8ad-4c91-a499-748afe17720f",
   "metadata": {},
   "outputs": [
    {
     "data": {
      "text/html": [
       "<div>\n",
       "<style scoped>\n",
       "    .dataframe tbody tr th:only-of-type {\n",
       "        vertical-align: middle;\n",
       "    }\n",
       "\n",
       "    .dataframe tbody tr th {\n",
       "        vertical-align: top;\n",
       "    }\n",
       "\n",
       "    .dataframe thead th {\n",
       "        text-align: right;\n",
       "    }\n",
       "</style>\n",
       "<table border=\"1\" class=\"dataframe\">\n",
       "  <thead>\n",
       "    <tr style=\"text-align: right;\">\n",
       "      <th></th>\n",
       "      <th>Product_ID</th>\n",
       "      <th>Product_Name</th>\n",
       "      <th>Brand</th>\n",
       "      <th>Category</th>\n",
       "      <th>Price</th>\n",
       "      <th>Stock_Units</th>\n",
       "      <th>Country_Of_Origin</th>\n",
       "      <th>Launch_Date</th>\n",
       "    </tr>\n",
       "  </thead>\n",
       "  <tbody>\n",
       "    <tr>\n",
       "      <th>0</th>\n",
       "      <td>1001</td>\n",
       "      <td>Router</td>\n",
       "      <td>Logitech</td>\n",
       "      <td>Accessories</td>\n",
       "      <td>574.15</td>\n",
       "      <td>188.0</td>\n",
       "      <td>Germany</td>\n",
       "      <td>2020-06-22</td>\n",
       "    </tr>\n",
       "    <tr>\n",
       "      <th>1</th>\n",
       "      <td>1002</td>\n",
       "      <td>Laptop</td>\n",
       "      <td>HP</td>\n",
       "      <td>Accessories</td>\n",
       "      <td>1644.89</td>\n",
       "      <td>203.0</td>\n",
       "      <td>UK</td>\n",
       "      <td>2023-10-15</td>\n",
       "    </tr>\n",
       "    <tr>\n",
       "      <th>2</th>\n",
       "      <td>1003</td>\n",
       "      <td>Mouse</td>\n",
       "      <td>Logitech</td>\n",
       "      <td>Peripherals</td>\n",
       "      <td>642.71</td>\n",
       "      <td>325.0</td>\n",
       "      <td>India</td>\n",
       "      <td>2019-02-22</td>\n",
       "    </tr>\n",
       "  </tbody>\n",
       "</table>\n",
       "</div>"
      ],
      "text/plain": [
       "   Product_ID Product_Name     Brand     Category    Price  Stock_Units  \\\n",
       "0        1001       Router  Logitech  Accessories   574.15        188.0   \n",
       "1        1002       Laptop        HP  Accessories  1644.89        203.0   \n",
       "2        1003        Mouse  Logitech  Peripherals   642.71        325.0   \n",
       "\n",
       "  Country_Of_Origin Launch_Date  \n",
       "0           Germany  2020-06-22  \n",
       "1                UK  2023-10-15  \n",
       "2             India  2019-02-22  "
      ]
     },
     "execution_count": 18,
     "metadata": {},
     "output_type": "execute_result"
    }
   ],
   "source": [
    "# displaying three rows \n",
    "df.head(3)"
   ]
  },
  {
   "cell_type": "code",
   "execution_count": 19,
   "id": "088c9d18-2e33-4697-ad38-ad79c2e55407",
   "metadata": {},
   "outputs": [
    {
     "data": {
      "text/html": [
       "<div>\n",
       "<style scoped>\n",
       "    .dataframe tbody tr th:only-of-type {\n",
       "        vertical-align: middle;\n",
       "    }\n",
       "\n",
       "    .dataframe tbody tr th {\n",
       "        vertical-align: top;\n",
       "    }\n",
       "\n",
       "    .dataframe thead th {\n",
       "        text-align: right;\n",
       "    }\n",
       "</style>\n",
       "<table border=\"1\" class=\"dataframe\">\n",
       "  <thead>\n",
       "    <tr style=\"text-align: right;\">\n",
       "      <th></th>\n",
       "      <th>Product_ID</th>\n",
       "      <th>Product_Name</th>\n",
       "      <th>Brand</th>\n",
       "      <th>Category</th>\n",
       "      <th>Price</th>\n",
       "      <th>Stock_Units</th>\n",
       "      <th>Country_Of_Origin</th>\n",
       "      <th>Launch_Date</th>\n",
       "    </tr>\n",
       "  </thead>\n",
       "  <tbody>\n",
       "    <tr>\n",
       "      <th>0</th>\n",
       "      <td>1001</td>\n",
       "      <td>Router</td>\n",
       "      <td>Logitech</td>\n",
       "      <td>Accessories</td>\n",
       "      <td>574.15</td>\n",
       "      <td>188.0</td>\n",
       "      <td>Germany</td>\n",
       "      <td>2020-06-22</td>\n",
       "    </tr>\n",
       "    <tr>\n",
       "      <th>1</th>\n",
       "      <td>1002</td>\n",
       "      <td>Laptop</td>\n",
       "      <td>HP</td>\n",
       "      <td>Accessories</td>\n",
       "      <td>1644.89</td>\n",
       "      <td>203.0</td>\n",
       "      <td>UK</td>\n",
       "      <td>2023-10-15</td>\n",
       "    </tr>\n",
       "    <tr>\n",
       "      <th>2</th>\n",
       "      <td>1003</td>\n",
       "      <td>Mouse</td>\n",
       "      <td>Logitech</td>\n",
       "      <td>Peripherals</td>\n",
       "      <td>642.71</td>\n",
       "      <td>325.0</td>\n",
       "      <td>India</td>\n",
       "      <td>2019-02-22</td>\n",
       "    </tr>\n",
       "    <tr>\n",
       "      <th>3</th>\n",
       "      <td>1004</td>\n",
       "      <td>Keyboard</td>\n",
       "      <td>Samsung</td>\n",
       "      <td>Peripherals</td>\n",
       "      <td>888.96</td>\n",
       "      <td>439.0</td>\n",
       "      <td>USA</td>\n",
       "      <td>2020-12-22</td>\n",
       "    </tr>\n",
       "    <tr>\n",
       "      <th>4</th>\n",
       "      <td>1005</td>\n",
       "      <td>Keyboard</td>\n",
       "      <td>Canon</td>\n",
       "      <td>Electronics</td>\n",
       "      <td>1500.41</td>\n",
       "      <td>51.0</td>\n",
       "      <td>Japan</td>\n",
       "      <td>2019-11-27</td>\n",
       "    </tr>\n",
       "  </tbody>\n",
       "</table>\n",
       "</div>"
      ],
      "text/plain": [
       "   Product_ID Product_Name     Brand     Category    Price  Stock_Units  \\\n",
       "0        1001       Router  Logitech  Accessories   574.15        188.0   \n",
       "1        1002       Laptop        HP  Accessories  1644.89        203.0   \n",
       "2        1003        Mouse  Logitech  Peripherals   642.71        325.0   \n",
       "3        1004     Keyboard   Samsung  Peripherals   888.96        439.0   \n",
       "4        1005     Keyboard     Canon  Electronics  1500.41         51.0   \n",
       "\n",
       "  Country_Of_Origin Launch_Date  \n",
       "0           Germany  2020-06-22  \n",
       "1                UK  2023-10-15  \n",
       "2             India  2019-02-22  \n",
       "3               USA  2020-12-22  \n",
       "4             Japan  2019-11-27  "
      ]
     },
     "execution_count": 19,
     "metadata": {},
     "output_type": "execute_result"
    }
   ],
   "source": [
    "# by default head() displays 5 rows\n",
    "df.head()"
   ]
  },
  {
   "cell_type": "markdown",
   "id": "bdb8fee3-3607-482a-8149-10e2a869523a",
   "metadata": {},
   "source": [
    "### **2. shape** - For displaying count of rows and columns"
   ]
  },
  {
   "cell_type": "code",
   "execution_count": 21,
   "id": "c4070b65-fa11-46a4-a251-3aa09bffb0f4",
   "metadata": {},
   "outputs": [
    {
     "data": {
      "text/plain": [
       "(515, 8)"
      ]
     },
     "execution_count": 21,
     "metadata": {},
     "output_type": "execute_result"
    }
   ],
   "source": [
    "# display the count of row and columns\n",
    "df.shape"
   ]
  },
  {
   "cell_type": "markdown",
   "id": "119ee37b-9887-48b8-a56d-6a01d0384b66",
   "metadata": {},
   "source": [
    "- **In this dataset 515 entries and 8 columns are available.**"
   ]
  },
  {
   "cell_type": "markdown",
   "id": "e2f7375e-f7f1-4d85-aeab-6b78d1cff7e5",
   "metadata": {},
   "source": [
    "### **3. columns** - Used to view column names"
   ]
  },
  {
   "cell_type": "code",
   "execution_count": 24,
   "id": "820a8186-7ef3-4ab8-93d5-d7daedea5a34",
   "metadata": {},
   "outputs": [
    {
     "data": {
      "text/plain": [
       "Index(['Product_ID', 'Product_Name', 'Brand', 'Category', 'Price',\n",
       "       'Stock_Units', 'Country_Of_Origin', 'Launch_Date'],\n",
       "      dtype='object')"
      ]
     },
     "execution_count": 24,
     "metadata": {},
     "output_type": "execute_result"
    }
   ],
   "source": [
    "# display the column names\n",
    "df.columns"
   ]
  },
  {
   "cell_type": "markdown",
   "id": "7fd053f5-cdba-46a1-8ebb-e57f2cfa1055",
   "metadata": {},
   "source": [
    "### **4. dtypes** - Used to view datatypes of each column"
   ]
  },
  {
   "cell_type": "code",
   "execution_count": 26,
   "id": "d12899f9-143f-424b-8070-3481857f73c4",
   "metadata": {},
   "outputs": [
    {
     "data": {
      "text/plain": [
       "Product_ID             int64\n",
       "Product_Name          object\n",
       "Brand                 object\n",
       "Category              object\n",
       "Price                float64\n",
       "Stock_Units          float64\n",
       "Country_Of_Origin     object\n",
       "Launch_Date           object\n",
       "dtype: object"
      ]
     },
     "execution_count": 26,
     "metadata": {},
     "output_type": "execute_result"
    }
   ],
   "source": [
    "# displaying datatypes of each column\n",
    "df.dtypes"
   ]
  },
  {
   "cell_type": "markdown",
   "id": "32f7de05-dabd-414e-9231-13271179da20",
   "metadata": {},
   "source": [
    "- **In this dataset Product_ID is of integer datatype**\n",
    "- **And Product_Name, Brand, Category, Country_Of_Origin, Launch_Date are of object datatype**\n",
    "- **And Price, Stock_Units are float datatype**"
   ]
  },
  {
   "cell_type": "markdown",
   "id": "9ef8f30d-7340-4cba-ad9d-6b89ed212a73",
   "metadata": {},
   "source": [
    "### **5. duplicated()** - Used to check duplicates"
   ]
  },
  {
   "cell_type": "code",
   "execution_count": 29,
   "id": "7671e0ec-bd83-4d26-a40f-071a24b643c1",
   "metadata": {},
   "outputs": [
    {
     "data": {
      "text/plain": [
       "0      False\n",
       "1      False\n",
       "2      False\n",
       "3      False\n",
       "4      False\n",
       "       ...  \n",
       "510     True\n",
       "511     True\n",
       "512     True\n",
       "513     True\n",
       "514     True\n",
       "Length: 515, dtype: bool"
      ]
     },
     "execution_count": 29,
     "metadata": {},
     "output_type": "execute_result"
    }
   ],
   "source": [
    "# check duplicate or not for each column in boolean\n",
    "df.duplicated()"
   ]
  },
  {
   "cell_type": "code",
   "execution_count": 30,
   "id": "b42c06ec-7cc0-4f2d-a276-c85dc004b922",
   "metadata": {},
   "outputs": [
    {
     "data": {
      "text/plain": [
       "15"
      ]
     },
     "execution_count": 30,
     "metadata": {},
     "output_type": "execute_result"
    }
   ],
   "source": [
    "# isnull() method checks if null and sum() method gives count of null values for each column\n",
    "df.duplicated().sum()"
   ]
  },
  {
   "cell_type": "markdown",
   "id": "f626daac-6c98-4c02-bc8d-5a9e23fbd733",
   "metadata": {},
   "source": [
    "- **In this data 15 duplicate values.**"
   ]
  },
  {
   "cell_type": "markdown",
   "id": "934f24aa-183c-4a88-882b-d1f7523662ca",
   "metadata": {},
   "source": [
    "### **6. drop_duplicates()** - Used to drop duplicates"
   ]
  },
  {
   "cell_type": "code",
   "execution_count": 33,
   "id": "71fd49b8-dc5f-4e06-a924-e63bc45e4dc8",
   "metadata": {},
   "outputs": [],
   "source": [
    "# drop all the duplicates\n",
    "df = df.drop_duplicates()"
   ]
  },
  {
   "cell_type": "code",
   "execution_count": 34,
   "id": "94bb4b1b-3b6b-45ee-ad12-fdb63f0d80d2",
   "metadata": {},
   "outputs": [
    {
     "data": {
      "text/plain": [
       "0"
      ]
     },
     "execution_count": 34,
     "metadata": {},
     "output_type": "execute_result"
    }
   ],
   "source": [
    "# check the count of duplicates now\n",
    "df.duplicated().sum()"
   ]
  },
  {
   "cell_type": "markdown",
   "id": "a0065c10-0335-4497-a4d8-344c5f1999a5",
   "metadata": {},
   "source": [
    "- **Now their are no duplicates in this data.**"
   ]
  },
  {
   "cell_type": "markdown",
   "id": "0a01a8a7-9752-4681-8d7a-977875c7aac7",
   "metadata": {},
   "source": [
    "### **7. isnull()** - For checking missing values"
   ]
  },
  {
   "cell_type": "code",
   "execution_count": 37,
   "id": "7f193057-8186-4d61-9960-b3e1421bcd7b",
   "metadata": {},
   "outputs": [
    {
     "data": {
      "text/html": [
       "<div>\n",
       "<style scoped>\n",
       "    .dataframe tbody tr th:only-of-type {\n",
       "        vertical-align: middle;\n",
       "    }\n",
       "\n",
       "    .dataframe tbody tr th {\n",
       "        vertical-align: top;\n",
       "    }\n",
       "\n",
       "    .dataframe thead th {\n",
       "        text-align: right;\n",
       "    }\n",
       "</style>\n",
       "<table border=\"1\" class=\"dataframe\">\n",
       "  <thead>\n",
       "    <tr style=\"text-align: right;\">\n",
       "      <th></th>\n",
       "      <th>Product_ID</th>\n",
       "      <th>Product_Name</th>\n",
       "      <th>Brand</th>\n",
       "      <th>Category</th>\n",
       "      <th>Price</th>\n",
       "      <th>Stock_Units</th>\n",
       "      <th>Country_Of_Origin</th>\n",
       "      <th>Launch_Date</th>\n",
       "    </tr>\n",
       "  </thead>\n",
       "  <tbody>\n",
       "    <tr>\n",
       "      <th>0</th>\n",
       "      <td>False</td>\n",
       "      <td>False</td>\n",
       "      <td>False</td>\n",
       "      <td>False</td>\n",
       "      <td>False</td>\n",
       "      <td>False</td>\n",
       "      <td>False</td>\n",
       "      <td>False</td>\n",
       "    </tr>\n",
       "    <tr>\n",
       "      <th>1</th>\n",
       "      <td>False</td>\n",
       "      <td>False</td>\n",
       "      <td>False</td>\n",
       "      <td>False</td>\n",
       "      <td>False</td>\n",
       "      <td>False</td>\n",
       "      <td>False</td>\n",
       "      <td>False</td>\n",
       "    </tr>\n",
       "    <tr>\n",
       "      <th>2</th>\n",
       "      <td>False</td>\n",
       "      <td>False</td>\n",
       "      <td>False</td>\n",
       "      <td>False</td>\n",
       "      <td>False</td>\n",
       "      <td>False</td>\n",
       "      <td>False</td>\n",
       "      <td>False</td>\n",
       "    </tr>\n",
       "    <tr>\n",
       "      <th>3</th>\n",
       "      <td>False</td>\n",
       "      <td>False</td>\n",
       "      <td>False</td>\n",
       "      <td>False</td>\n",
       "      <td>False</td>\n",
       "      <td>False</td>\n",
       "      <td>False</td>\n",
       "      <td>False</td>\n",
       "    </tr>\n",
       "    <tr>\n",
       "      <th>4</th>\n",
       "      <td>False</td>\n",
       "      <td>False</td>\n",
       "      <td>False</td>\n",
       "      <td>False</td>\n",
       "      <td>False</td>\n",
       "      <td>False</td>\n",
       "      <td>False</td>\n",
       "      <td>False</td>\n",
       "    </tr>\n",
       "    <tr>\n",
       "      <th>...</th>\n",
       "      <td>...</td>\n",
       "      <td>...</td>\n",
       "      <td>...</td>\n",
       "      <td>...</td>\n",
       "      <td>...</td>\n",
       "      <td>...</td>\n",
       "      <td>...</td>\n",
       "      <td>...</td>\n",
       "    </tr>\n",
       "    <tr>\n",
       "      <th>495</th>\n",
       "      <td>False</td>\n",
       "      <td>False</td>\n",
       "      <td>False</td>\n",
       "      <td>False</td>\n",
       "      <td>False</td>\n",
       "      <td>False</td>\n",
       "      <td>False</td>\n",
       "      <td>False</td>\n",
       "    </tr>\n",
       "    <tr>\n",
       "      <th>496</th>\n",
       "      <td>False</td>\n",
       "      <td>False</td>\n",
       "      <td>False</td>\n",
       "      <td>False</td>\n",
       "      <td>False</td>\n",
       "      <td>False</td>\n",
       "      <td>False</td>\n",
       "      <td>False</td>\n",
       "    </tr>\n",
       "    <tr>\n",
       "      <th>497</th>\n",
       "      <td>False</td>\n",
       "      <td>False</td>\n",
       "      <td>False</td>\n",
       "      <td>False</td>\n",
       "      <td>False</td>\n",
       "      <td>False</td>\n",
       "      <td>False</td>\n",
       "      <td>False</td>\n",
       "    </tr>\n",
       "    <tr>\n",
       "      <th>498</th>\n",
       "      <td>False</td>\n",
       "      <td>False</td>\n",
       "      <td>False</td>\n",
       "      <td>False</td>\n",
       "      <td>False</td>\n",
       "      <td>False</td>\n",
       "      <td>False</td>\n",
       "      <td>False</td>\n",
       "    </tr>\n",
       "    <tr>\n",
       "      <th>499</th>\n",
       "      <td>False</td>\n",
       "      <td>False</td>\n",
       "      <td>False</td>\n",
       "      <td>False</td>\n",
       "      <td>False</td>\n",
       "      <td>False</td>\n",
       "      <td>False</td>\n",
       "      <td>False</td>\n",
       "    </tr>\n",
       "  </tbody>\n",
       "</table>\n",
       "<p>500 rows × 8 columns</p>\n",
       "</div>"
      ],
      "text/plain": [
       "     Product_ID  Product_Name  Brand  Category  Price  Stock_Units  \\\n",
       "0         False         False  False     False  False        False   \n",
       "1         False         False  False     False  False        False   \n",
       "2         False         False  False     False  False        False   \n",
       "3         False         False  False     False  False        False   \n",
       "4         False         False  False     False  False        False   \n",
       "..          ...           ...    ...       ...    ...          ...   \n",
       "495       False         False  False     False  False        False   \n",
       "496       False         False  False     False  False        False   \n",
       "497       False         False  False     False  False        False   \n",
       "498       False         False  False     False  False        False   \n",
       "499       False         False  False     False  False        False   \n",
       "\n",
       "     Country_Of_Origin  Launch_Date  \n",
       "0                False        False  \n",
       "1                False        False  \n",
       "2                False        False  \n",
       "3                False        False  \n",
       "4                False        False  \n",
       "..                 ...          ...  \n",
       "495              False        False  \n",
       "496              False        False  \n",
       "497              False        False  \n",
       "498              False        False  \n",
       "499              False        False  \n",
       "\n",
       "[500 rows x 8 columns]"
      ]
     },
     "execution_count": 37,
     "metadata": {},
     "output_type": "execute_result"
    }
   ],
   "source": [
    "df.isnull()   # returns True where values are NAN and false otherwise and gives boolean output"
   ]
  },
  {
   "cell_type": "code",
   "execution_count": 38,
   "id": "bb504e5f-62b5-407b-845f-cb60949eb46d",
   "metadata": {},
   "outputs": [
    {
     "data": {
      "text/plain": [
       "Product_ID            0\n",
       "Product_Name          0\n",
       "Brand                20\n",
       "Category              0\n",
       "Price                20\n",
       "Stock_Units          20\n",
       "Country_Of_Origin     0\n",
       "Launch_Date           0\n",
       "dtype: int64"
      ]
     },
     "execution_count": 38,
     "metadata": {},
     "output_type": "execute_result"
    }
   ],
   "source": [
    "# check for missing values \n",
    "df.isnull().sum()    # isnull() method checks if null and sum() method gives count of null values for each column"
   ]
  },
  {
   "cell_type": "markdown",
   "id": "8b5899f6-4d52-4804-bd71-4c9d501a5896",
   "metadata": {},
   "source": [
    "- **In this dataset 20 missing values in Brand.**\n",
    "- **20 missing values in Price**\n",
    "- **20 missing values in Stock_Units**"
   ]
  },
  {
   "cell_type": "markdown",
   "id": "0ed64360-0b14-4274-b443-8acaa88e8d69",
   "metadata": {},
   "source": [
    "### **8. fillna()** - Used to fill missing data "
   ]
  },
  {
   "cell_type": "code",
   "execution_count": 41,
   "id": "04394dfc-d357-424d-8b3f-126e417e323b",
   "metadata": {},
   "outputs": [],
   "source": [
    "# filling missing value of Price with mean \n",
    "df[\"Price\"] = df[\"Price\"].fillna(df[\"Price\"].mean()) "
   ]
  },
  {
   "cell_type": "code",
   "execution_count": 42,
   "id": "1937e741-e64c-4d2f-b8a0-a9819d5ed762",
   "metadata": {},
   "outputs": [],
   "source": [
    "# filling missing value of Stock_Units with mean\n",
    "df[\"Stock_Units\"] = df[\"Stock_Units\"].fillna(df[\"Stock_Units\"].mean())"
   ]
  },
  {
   "cell_type": "code",
   "execution_count": 43,
   "id": "2d5e8232-15ae-4f2a-aff2-1f1457501ccf",
   "metadata": {},
   "outputs": [],
   "source": [
    "# filling missing value of Brand with most frequent value (mode)\n",
    "df['Brand'] = df['Brand'].fillna('Apple')"
   ]
  },
  {
   "cell_type": "code",
   "execution_count": 44,
   "id": "e329f918-2a3d-4c6b-8935-fe417e056f99",
   "metadata": {},
   "outputs": [
    {
     "data": {
      "text/plain": [
       "Product_ID           0\n",
       "Product_Name         0\n",
       "Brand                0\n",
       "Category             0\n",
       "Price                0\n",
       "Stock_Units          0\n",
       "Country_Of_Origin    0\n",
       "Launch_Date          0\n",
       "dtype: int64"
      ]
     },
     "execution_count": 44,
     "metadata": {},
     "output_type": "execute_result"
    }
   ],
   "source": [
    "# check how many missing values are now\n",
    "df.isnull().sum()"
   ]
  },
  {
   "cell_type": "markdown",
   "id": "cf3ce4f4-3f79-4df4-84a2-6f8a392e4a5e",
   "metadata": {},
   "source": [
    "- **Now their are no missing values in this data.**"
   ]
  },
  {
   "cell_type": "markdown",
   "id": "525958e3-49bf-40b4-b407-6bbe8ef3b5a6",
   "metadata": {},
   "source": [
    "### **9. describe()** - Used to get statistical summary of data"
   ]
  },
  {
   "cell_type": "code",
   "execution_count": 47,
   "id": "d96df93e-f9d8-4677-8682-4754c324ea7a",
   "metadata": {},
   "outputs": [
    {
     "data": {
      "text/html": [
       "<div>\n",
       "<style scoped>\n",
       "    .dataframe tbody tr th:only-of-type {\n",
       "        vertical-align: middle;\n",
       "    }\n",
       "\n",
       "    .dataframe tbody tr th {\n",
       "        vertical-align: top;\n",
       "    }\n",
       "\n",
       "    .dataframe thead th {\n",
       "        text-align: right;\n",
       "    }\n",
       "</style>\n",
       "<table border=\"1\" class=\"dataframe\">\n",
       "  <thead>\n",
       "    <tr style=\"text-align: right;\">\n",
       "      <th></th>\n",
       "      <th>Product_ID</th>\n",
       "      <th>Price</th>\n",
       "      <th>Stock_Units</th>\n",
       "    </tr>\n",
       "  </thead>\n",
       "  <tbody>\n",
       "    <tr>\n",
       "      <th>count</th>\n",
       "      <td>500.000000</td>\n",
       "      <td>500.000000</td>\n",
       "      <td>500.000000</td>\n",
       "    </tr>\n",
       "    <tr>\n",
       "      <th>mean</th>\n",
       "      <td>1250.500000</td>\n",
       "      <td>1022.956646</td>\n",
       "      <td>258.116667</td>\n",
       "    </tr>\n",
       "    <tr>\n",
       "      <th>std</th>\n",
       "      <td>144.481833</td>\n",
       "      <td>563.387959</td>\n",
       "      <td>141.535223</td>\n",
       "    </tr>\n",
       "    <tr>\n",
       "      <th>min</th>\n",
       "      <td>1001.000000</td>\n",
       "      <td>52.680000</td>\n",
       "      <td>0.000000</td>\n",
       "    </tr>\n",
       "    <tr>\n",
       "      <th>25%</th>\n",
       "      <td>1125.750000</td>\n",
       "      <td>533.472500</td>\n",
       "      <td>138.500000</td>\n",
       "    </tr>\n",
       "    <tr>\n",
       "      <th>50%</th>\n",
       "      <td>1250.500000</td>\n",
       "      <td>1022.956646</td>\n",
       "      <td>258.116667</td>\n",
       "    </tr>\n",
       "    <tr>\n",
       "      <th>75%</th>\n",
       "      <td>1375.250000</td>\n",
       "      <td>1547.385000</td>\n",
       "      <td>377.500000</td>\n",
       "    </tr>\n",
       "    <tr>\n",
       "      <th>max</th>\n",
       "      <td>1500.000000</td>\n",
       "      <td>1994.630000</td>\n",
       "      <td>497.000000</td>\n",
       "    </tr>\n",
       "  </tbody>\n",
       "</table>\n",
       "</div>"
      ],
      "text/plain": [
       "        Product_ID        Price  Stock_Units\n",
       "count   500.000000   500.000000   500.000000\n",
       "mean   1250.500000  1022.956646   258.116667\n",
       "std     144.481833   563.387959   141.535223\n",
       "min    1001.000000    52.680000     0.000000\n",
       "25%    1125.750000   533.472500   138.500000\n",
       "50%    1250.500000  1022.956646   258.116667\n",
       "75%    1375.250000  1547.385000   377.500000\n",
       "max    1500.000000  1994.630000   497.000000"
      ]
     },
     "execution_count": 47,
     "metadata": {},
     "output_type": "execute_result"
    }
   ],
   "source": [
    "# used to get basic statistical summary of numerical data\n",
    "df.describe()"
   ]
  },
  {
   "cell_type": "code",
   "execution_count": 48,
   "id": "60c77903-dfe3-4dfc-a01d-1b153fe80c84",
   "metadata": {},
   "outputs": [
    {
     "data": {
      "text/html": [
       "<div>\n",
       "<style scoped>\n",
       "    .dataframe tbody tr th:only-of-type {\n",
       "        vertical-align: middle;\n",
       "    }\n",
       "\n",
       "    .dataframe tbody tr th {\n",
       "        vertical-align: top;\n",
       "    }\n",
       "\n",
       "    .dataframe thead th {\n",
       "        text-align: right;\n",
       "    }\n",
       "</style>\n",
       "<table border=\"1\" class=\"dataframe\">\n",
       "  <thead>\n",
       "    <tr style=\"text-align: right;\">\n",
       "      <th></th>\n",
       "      <th>Product_ID</th>\n",
       "      <th>Product_Name</th>\n",
       "      <th>Brand</th>\n",
       "      <th>Category</th>\n",
       "      <th>Price</th>\n",
       "      <th>Stock_Units</th>\n",
       "      <th>Country_Of_Origin</th>\n",
       "      <th>Launch_Date</th>\n",
       "    </tr>\n",
       "  </thead>\n",
       "  <tbody>\n",
       "    <tr>\n",
       "      <th>count</th>\n",
       "      <td>500.000000</td>\n",
       "      <td>500</td>\n",
       "      <td>500</td>\n",
       "      <td>500</td>\n",
       "      <td>500.000000</td>\n",
       "      <td>500.000000</td>\n",
       "      <td>500</td>\n",
       "      <td>500</td>\n",
       "    </tr>\n",
       "    <tr>\n",
       "      <th>unique</th>\n",
       "      <td>NaN</td>\n",
       "      <td>10</td>\n",
       "      <td>8</td>\n",
       "      <td>3</td>\n",
       "      <td>NaN</td>\n",
       "      <td>NaN</td>\n",
       "      <td>6</td>\n",
       "      <td>440</td>\n",
       "    </tr>\n",
       "    <tr>\n",
       "      <th>top</th>\n",
       "      <td>NaN</td>\n",
       "      <td>Laptop</td>\n",
       "      <td>Apple</td>\n",
       "      <td>Peripherals</td>\n",
       "      <td>NaN</td>\n",
       "      <td>NaN</td>\n",
       "      <td>UK</td>\n",
       "      <td>2020-06-22</td>\n",
       "    </tr>\n",
       "    <tr>\n",
       "      <th>freq</th>\n",
       "      <td>NaN</td>\n",
       "      <td>62</td>\n",
       "      <td>85</td>\n",
       "      <td>175</td>\n",
       "      <td>NaN</td>\n",
       "      <td>NaN</td>\n",
       "      <td>90</td>\n",
       "      <td>3</td>\n",
       "    </tr>\n",
       "    <tr>\n",
       "      <th>mean</th>\n",
       "      <td>1250.500000</td>\n",
       "      <td>NaN</td>\n",
       "      <td>NaN</td>\n",
       "      <td>NaN</td>\n",
       "      <td>1022.956646</td>\n",
       "      <td>258.116667</td>\n",
       "      <td>NaN</td>\n",
       "      <td>NaN</td>\n",
       "    </tr>\n",
       "    <tr>\n",
       "      <th>std</th>\n",
       "      <td>144.481833</td>\n",
       "      <td>NaN</td>\n",
       "      <td>NaN</td>\n",
       "      <td>NaN</td>\n",
       "      <td>563.387959</td>\n",
       "      <td>141.535223</td>\n",
       "      <td>NaN</td>\n",
       "      <td>NaN</td>\n",
       "    </tr>\n",
       "    <tr>\n",
       "      <th>min</th>\n",
       "      <td>1001.000000</td>\n",
       "      <td>NaN</td>\n",
       "      <td>NaN</td>\n",
       "      <td>NaN</td>\n",
       "      <td>52.680000</td>\n",
       "      <td>0.000000</td>\n",
       "      <td>NaN</td>\n",
       "      <td>NaN</td>\n",
       "    </tr>\n",
       "    <tr>\n",
       "      <th>25%</th>\n",
       "      <td>1125.750000</td>\n",
       "      <td>NaN</td>\n",
       "      <td>NaN</td>\n",
       "      <td>NaN</td>\n",
       "      <td>533.472500</td>\n",
       "      <td>138.500000</td>\n",
       "      <td>NaN</td>\n",
       "      <td>NaN</td>\n",
       "    </tr>\n",
       "    <tr>\n",
       "      <th>50%</th>\n",
       "      <td>1250.500000</td>\n",
       "      <td>NaN</td>\n",
       "      <td>NaN</td>\n",
       "      <td>NaN</td>\n",
       "      <td>1022.956646</td>\n",
       "      <td>258.116667</td>\n",
       "      <td>NaN</td>\n",
       "      <td>NaN</td>\n",
       "    </tr>\n",
       "    <tr>\n",
       "      <th>75%</th>\n",
       "      <td>1375.250000</td>\n",
       "      <td>NaN</td>\n",
       "      <td>NaN</td>\n",
       "      <td>NaN</td>\n",
       "      <td>1547.385000</td>\n",
       "      <td>377.500000</td>\n",
       "      <td>NaN</td>\n",
       "      <td>NaN</td>\n",
       "    </tr>\n",
       "    <tr>\n",
       "      <th>max</th>\n",
       "      <td>1500.000000</td>\n",
       "      <td>NaN</td>\n",
       "      <td>NaN</td>\n",
       "      <td>NaN</td>\n",
       "      <td>1994.630000</td>\n",
       "      <td>497.000000</td>\n",
       "      <td>NaN</td>\n",
       "      <td>NaN</td>\n",
       "    </tr>\n",
       "  </tbody>\n",
       "</table>\n",
       "</div>"
      ],
      "text/plain": [
       "         Product_ID Product_Name  Brand     Category        Price  \\\n",
       "count    500.000000          500    500          500   500.000000   \n",
       "unique          NaN           10      8            3          NaN   \n",
       "top             NaN       Laptop  Apple  Peripherals          NaN   \n",
       "freq            NaN           62     85          175          NaN   \n",
       "mean    1250.500000          NaN    NaN          NaN  1022.956646   \n",
       "std      144.481833          NaN    NaN          NaN   563.387959   \n",
       "min     1001.000000          NaN    NaN          NaN    52.680000   \n",
       "25%     1125.750000          NaN    NaN          NaN   533.472500   \n",
       "50%     1250.500000          NaN    NaN          NaN  1022.956646   \n",
       "75%     1375.250000          NaN    NaN          NaN  1547.385000   \n",
       "max     1500.000000          NaN    NaN          NaN  1994.630000   \n",
       "\n",
       "        Stock_Units Country_Of_Origin Launch_Date  \n",
       "count    500.000000               500         500  \n",
       "unique          NaN                 6         440  \n",
       "top             NaN                UK  2020-06-22  \n",
       "freq            NaN                90           3  \n",
       "mean     258.116667               NaN         NaN  \n",
       "std      141.535223               NaN         NaN  \n",
       "min        0.000000               NaN         NaN  \n",
       "25%      138.500000               NaN         NaN  \n",
       "50%      258.116667               NaN         NaN  \n",
       "75%      377.500000               NaN         NaN  \n",
       "max      497.000000               NaN         NaN  "
      ]
     },
     "execution_count": 48,
     "metadata": {},
     "output_type": "execute_result"
    }
   ],
   "source": [
    "# get statistical summery of numerical columns as well as categorical columns\n",
    "df.describe(include = \"all\")"
   ]
  },
  {
   "cell_type": "markdown",
   "id": "2166aeaf-34b2-4e0b-943d-2482fe5769f8",
   "metadata": {},
   "source": [
    "- **Count :**\n",
    "   - **Count of the rows 515 and .**\n",
    "- **Missing Values :**\n",
    "   - **In this dataset 20 missing values in Brand.**\n",
    "   - **20 missing values in Price.**\n",
    "   - **20 missing values in Stock_Units.**\n",
    "- **Unique Values :**\n",
    "   - **Unique Product_Names are 10, unique brands are 8, unique categories are 3, unique Country_Of_Origin are 6 and Launch_Date 440.**\n",
    "- **Most Frequent Values :**\n",
    "   - **Most of the Product_Name are Laptop which occurs 63 times in a dataset.**\n",
    "   - **Most of the entries are of Brand Apple which occurs 67 times in a dataset.**\n",
    "   - **Most of category is Peripherals which occurs 182 times in a dataset.**\n",
    "   - **Most of the Country_Of_Origin is India which occurs 94 times in a dataset.**\n",
    "   - **Most of the Launch_Date of product is 2023-05-06 which occurs 4 times in a dataset.**\n",
    "- **Mean(Average) :**\n",
    "   - **Average price of products is 1027.03, min price of products is 52.68 and max price of products is 1994.63.**\n",
    "   - **Average stock units are 256.01, min stock units are 0 and max stock units are is 497.**\n",
    "- **Standard Deviation :**\n",
    "   - **Most of the values are fall nearby mean of Price and Stock_Units.**\n",
    "- **Quartiles :**\n",
    "   - **Product Price :**\n",
    "       - **25% of the products cost 533.47 and less.**\n",
    "       - **50% of products cost 1022 or less(this is the median).**\n",
    "       - **75% of products cost 1547.39 or less.**\n",
    "   - **Product Stock_Units :**\n",
    "       - **25% of products have 138.5 or fewer units in stock.**\n",
    "       - **50% have 258.12 or fewer units.**\n",
    "       - **75% have 377.5 or fewer units.**"
   ]
  },
  {
   "cell_type": "code",
   "execution_count": 50,
   "id": "2c56fe1c-02ef-45eb-8078-6cdd0f994563",
   "metadata": {},
   "outputs": [
    {
     "data": {
      "text/plain": [
       "Product_ID           0\n",
       "Product_Name         0\n",
       "Brand                0\n",
       "Category             0\n",
       "Price                0\n",
       "Stock_Units          0\n",
       "Country_Of_Origin    0\n",
       "Launch_Date          0\n",
       "dtype: int64"
      ]
     },
     "execution_count": 50,
     "metadata": {},
     "output_type": "execute_result"
    }
   ],
   "source": [
    "# check count of missing values\n",
    "df.isnull().sum()    # filled all missing values"
   ]
  },
  {
   "cell_type": "markdown",
   "id": "5b77aff1-748b-41bd-835d-f6bf85170ee9",
   "metadata": {},
   "source": [
    "### **10. unique()** - Used to get unique values from a specific column "
   ]
  },
  {
   "cell_type": "code",
   "execution_count": 52,
   "id": "85bc5b31-2298-421d-bd49-222c418ea087",
   "metadata": {},
   "outputs": [
    {
     "data": {
      "text/plain": [
       "array(['Logitech', 'HP', 'Samsung', 'Canon', 'Apple', 'Asus', 'Lenovo',\n",
       "       'Dell'], dtype=object)"
      ]
     },
     "execution_count": 52,
     "metadata": {},
     "output_type": "execute_result"
    }
   ],
   "source": [
    "# get the unique values in brand column\n",
    "df['Brand'].unique()"
   ]
  },
  {
   "cell_type": "code",
   "execution_count": 53,
   "id": "6c79cda4-cda7-4688-832c-e3fa190006e8",
   "metadata": {},
   "outputs": [
    {
     "data": {
      "text/plain": [
       "array(['Router', 'Laptop', 'Mouse', 'Keyboard', 'Tablet', 'Smartphone',\n",
       "       'Headphones', 'Monitor', 'Webcam', 'Printer'], dtype=object)"
      ]
     },
     "execution_count": 53,
     "metadata": {},
     "output_type": "execute_result"
    }
   ],
   "source": [
    "# get the unique values in Product_Name column\n",
    "df['Product_Name'].unique()"
   ]
  },
  {
   "cell_type": "code",
   "execution_count": 54,
   "id": "877eb10e-501a-469f-8a15-be1be067cbe0",
   "metadata": {},
   "outputs": [
    {
     "data": {
      "text/plain": [
       "array(['Accessories', 'Peripherals', 'Electronics'], dtype=object)"
      ]
     },
     "execution_count": 54,
     "metadata": {},
     "output_type": "execute_result"
    }
   ],
   "source": [
    "# get the unique values in Category column\n",
    "df['Category'].unique()"
   ]
  },
  {
   "cell_type": "code",
   "execution_count": 55,
   "id": "e38ed0b7-b4b4-4216-b653-1ba348ddf0db",
   "metadata": {},
   "outputs": [
    {
     "data": {
      "text/plain": [
       "array(['Germany', 'UK', 'India', 'USA', 'Japan', 'China'], dtype=object)"
      ]
     },
     "execution_count": 55,
     "metadata": {},
     "output_type": "execute_result"
    }
   ],
   "source": [
    "# get the unique values in Country_Of_Origin column\n",
    "df['Country_Of_Origin'].unique()"
   ]
  },
  {
   "cell_type": "markdown",
   "id": "4e254bf2-7e54-439c-9b3f-623ff73ac972",
   "metadata": {},
   "source": [
    "### **11. nunique()** - Count no of unique values in a column "
   ]
  },
  {
   "cell_type": "code",
   "execution_count": 57,
   "id": "6b60bbf6-c61a-4dcd-be2a-7d4ff541fe14",
   "metadata": {},
   "outputs": [
    {
     "data": {
      "text/plain": [
       "6"
      ]
     },
     "execution_count": 57,
     "metadata": {},
     "output_type": "execute_result"
    }
   ],
   "source": [
    "# find the number of unique Country_Of_Origin\n",
    "df['Country_Of_Origin'].nunique()"
   ]
  },
  {
   "cell_type": "code",
   "execution_count": 58,
   "id": "6215a994-1275-4e59-b6f3-3b17c72e6b3c",
   "metadata": {},
   "outputs": [
    {
     "data": {
      "text/plain": [
       "3"
      ]
     },
     "execution_count": 58,
     "metadata": {},
     "output_type": "execute_result"
    }
   ],
   "source": [
    "# find the number of unique Category\n",
    "df['Category'].nunique()"
   ]
  },
  {
   "cell_type": "code",
   "execution_count": 59,
   "id": "b593687a-a5cf-4d3f-9969-72d89c79b933",
   "metadata": {},
   "outputs": [
    {
     "data": {
      "text/plain": [
       "10"
      ]
     },
     "execution_count": 59,
     "metadata": {},
     "output_type": "execute_result"
    }
   ],
   "source": [
    "# find the number of unique Product_Name\n",
    "df['Product_Name'].nunique()"
   ]
  },
  {
   "cell_type": "code",
   "execution_count": 60,
   "id": "8148f908-4bb8-4f27-a600-86f3afc6e598",
   "metadata": {},
   "outputs": [
    {
     "data": {
      "text/plain": [
       "8"
      ]
     },
     "execution_count": 60,
     "metadata": {},
     "output_type": "execute_result"
    }
   ],
   "source": [
    "# find the number of unique Brand\n",
    "df['Brand'].nunique()"
   ]
  },
  {
   "cell_type": "markdown",
   "id": "09cb9b40-a3fe-4a54-971a-ffe42068f564",
   "metadata": {},
   "source": [
    "### **12. value_counts()** - Count the number of occurences of each unique value"
   ]
  },
  {
   "cell_type": "code",
   "execution_count": 62,
   "id": "4635b812-a25a-4353-9161-7b15be75a452",
   "metadata": {},
   "outputs": [
    {
     "data": {
      "text/plain": [
       "Brand\n",
       "Apple       85\n",
       "Lenovo      64\n",
       "Samsung     61\n",
       "Dell        60\n",
       "Asus        59\n",
       "Canon       58\n",
       "Logitech    57\n",
       "HP          56\n",
       "Name: count, dtype: int64"
      ]
     },
     "execution_count": 62,
     "metadata": {},
     "output_type": "execute_result"
    }
   ],
   "source": [
    "# count the number of products of each Brand\n",
    "df['Brand'].value_counts()"
   ]
  },
  {
   "cell_type": "code",
   "execution_count": 63,
   "id": "484ff516-26e4-46f7-96b4-b87a9fc8395e",
   "metadata": {},
   "outputs": [
    {
     "data": {
      "text/plain": [
       "Category\n",
       "Peripherals    175\n",
       "Accessories    168\n",
       "Electronics    157\n",
       "Name: count, dtype: int64"
      ]
     },
     "execution_count": 63,
     "metadata": {},
     "output_type": "execute_result"
    }
   ],
   "source": [
    "# count the number of products of each category\n",
    "df['Category'].value_counts()"
   ]
  },
  {
   "cell_type": "code",
   "execution_count": 64,
   "id": "4b504cef-d46f-478e-8c0c-f515eeb348bb",
   "metadata": {},
   "outputs": [
    {
     "data": {
      "text/plain": [
       "Product_Name\n",
       "Laptop        62\n",
       "Smartphone    55\n",
       "Mouse         54\n",
       "Keyboard      52\n",
       "Monitor       51\n",
       "Printer       51\n",
       "Webcam        48\n",
       "Tablet        47\n",
       "Headphones    44\n",
       "Router        36\n",
       "Name: count, dtype: int64"
      ]
     },
     "execution_count": 64,
     "metadata": {},
     "output_type": "execute_result"
    }
   ],
   "source": [
    "# count the number of products of each Product Name\n",
    "df['Product_Name'].value_counts()"
   ]
  },
  {
   "cell_type": "code",
   "execution_count": 65,
   "id": "a01f5724-43e9-4e15-9e38-38f314a5adcd",
   "metadata": {},
   "outputs": [
    {
     "data": {
      "text/plain": [
       "Country_Of_Origin\n",
       "UK         90\n",
       "India      90\n",
       "Germany    87\n",
       "USA        79\n",
       "Japan      79\n",
       "China      75\n",
       "Name: count, dtype: int64"
      ]
     },
     "execution_count": 65,
     "metadata": {},
     "output_type": "execute_result"
    }
   ],
   "source": [
    "# count the number of products from which country\n",
    "df['Country_Of_Origin'].value_counts()"
   ]
  },
  {
   "cell_type": "markdown",
   "id": "d0785a88-b1ff-47d4-802c-8a4c20cb22dc",
   "metadata": {},
   "source": [
    "### **13. index()** - Return the row index"
   ]
  },
  {
   "cell_type": "code",
   "execution_count": 67,
   "id": "55cf1fee-a0b6-4ef2-8dd3-ae6f9b7ebd21",
   "metadata": {},
   "outputs": [
    {
     "data": {
      "text/plain": [
       "Index([  0,   1,   2,   3,   4,   5,   6,   7,   8,   9,\n",
       "       ...\n",
       "       490, 491, 492, 493, 494, 495, 496, 497, 498, 499],\n",
       "      dtype='int64', length=500)"
      ]
     },
     "execution_count": 67,
     "metadata": {},
     "output_type": "execute_result"
    }
   ],
   "source": [
    "# get the row index\n",
    "df.index    "
   ]
  },
  {
   "cell_type": "markdown",
   "id": "63d2d9fa-8a7c-4ab5-af91-0b72108385d5",
   "metadata": {},
   "source": [
    "### **14. len()** - length or entries in dataframe"
   ]
  },
  {
   "cell_type": "code",
   "execution_count": 69,
   "id": "fd101b23-33aa-409c-9428-937bb6f79675",
   "metadata": {},
   "outputs": [
    {
     "data": {
      "text/plain": [
       "500"
      ]
     },
     "execution_count": 69,
     "metadata": {},
     "output_type": "execute_result"
    }
   ],
   "source": [
    "# get length of the dataframe\n",
    "len(df)"
   ]
  },
  {
   "cell_type": "markdown",
   "id": "b1f70a72-9425-489e-8dc6-ff867fdcc748",
   "metadata": {},
   "source": [
    "### **15. sum()** - Used to calculate sum of elements in a dataframe"
   ]
  },
  {
   "cell_type": "code",
   "execution_count": 71,
   "id": "a7fc1248-15b6-462d-96b9-ba06bed8a174",
   "metadata": {},
   "outputs": [
    {
     "data": {
      "text/plain": [
       "47"
      ]
     },
     "execution_count": 71,
     "metadata": {},
     "output_type": "execute_result"
    }
   ],
   "source": [
    "(df['Product_Name'] == 'Tablet').sum()"
   ]
  },
  {
   "cell_type": "code",
   "execution_count": 72,
   "id": "9a6b851f-fccd-428f-9eb2-9fc87b06000d",
   "metadata": {},
   "outputs": [
    {
     "data": {
      "text/plain": [
       "90"
      ]
     },
     "execution_count": 72,
     "metadata": {},
     "output_type": "execute_result"
    }
   ],
   "source": [
    "(df['Country_Of_Origin'] == 'India').sum()"
   ]
  },
  {
   "cell_type": "markdown",
   "id": "0fe187d3-945c-4716-8e29-fd690de68623",
   "metadata": {},
   "source": [
    "### **16. info()** -  Used to get summary of dataframe"
   ]
  },
  {
   "cell_type": "code",
   "execution_count": 74,
   "id": "32ba0e03-ab1b-4033-8984-19e5f60d49b1",
   "metadata": {},
   "outputs": [
    {
     "name": "stdout",
     "output_type": "stream",
     "text": [
      "<class 'pandas.core.frame.DataFrame'>\n",
      "Index: 500 entries, 0 to 499\n",
      "Data columns (total 8 columns):\n",
      " #   Column             Non-Null Count  Dtype  \n",
      "---  ------             --------------  -----  \n",
      " 0   Product_ID         500 non-null    int64  \n",
      " 1   Product_Name       500 non-null    object \n",
      " 2   Brand              500 non-null    object \n",
      " 3   Category           500 non-null    object \n",
      " 4   Price              500 non-null    float64\n",
      " 5   Stock_Units        500 non-null    float64\n",
      " 6   Country_Of_Origin  500 non-null    object \n",
      " 7   Launch_Date        500 non-null    object \n",
      "dtypes: float64(2), int64(1), object(5)\n",
      "memory usage: 35.2+ KB\n"
     ]
    }
   ],
   "source": [
    "df.info()"
   ]
  },
  {
   "cell_type": "markdown",
   "id": "a6c9c91e-879e-422a-95fc-cc3aeeaa5735",
   "metadata": {},
   "source": [
    "### **17. max() / min()** - Returns maximum and minimum values"
   ]
  },
  {
   "cell_type": "code",
   "execution_count": 76,
   "id": "7babf753-6243-4fa6-b2a5-a3400d38f83e",
   "metadata": {},
   "outputs": [
    {
     "name": "stdout",
     "output_type": "stream",
     "text": [
      "Max price is : 1994.63\n",
      "Min price is : 52.68\n"
     ]
    }
   ],
   "source": [
    "# what is maximum and minimum price of products\n",
    "print(\"Max price is :\", df['Price'].max())\n",
    "print(\"Min price is :\", df['Price'].min())"
   ]
  },
  {
   "cell_type": "markdown",
   "id": "d0371cb4-6d82-4bf6-b7cc-66a333badef5",
   "metadata": {},
   "source": [
    "### **18. rename()** - Rename the specified column or row"
   ]
  },
  {
   "cell_type": "code",
   "execution_count": 78,
   "id": "b7a675c1-f89d-4382-967a-107429212303",
   "metadata": {},
   "outputs": [],
   "source": [
    "# rename Product_ID to ID\n",
    "df.rename(columns = {'Product_ID' : 'ID'}, inplace = True)"
   ]
  },
  {
   "cell_type": "code",
   "execution_count": 79,
   "id": "dcdce1f7-98c5-4473-92a3-242cf5aa4921",
   "metadata": {},
   "outputs": [
    {
     "data": {
      "text/html": [
       "<div>\n",
       "<style scoped>\n",
       "    .dataframe tbody tr th:only-of-type {\n",
       "        vertical-align: middle;\n",
       "    }\n",
       "\n",
       "    .dataframe tbody tr th {\n",
       "        vertical-align: top;\n",
       "    }\n",
       "\n",
       "    .dataframe thead th {\n",
       "        text-align: right;\n",
       "    }\n",
       "</style>\n",
       "<table border=\"1\" class=\"dataframe\">\n",
       "  <thead>\n",
       "    <tr style=\"text-align: right;\">\n",
       "      <th></th>\n",
       "      <th>ID</th>\n",
       "      <th>Product_Name</th>\n",
       "      <th>Brand</th>\n",
       "      <th>Category</th>\n",
       "      <th>Price</th>\n",
       "      <th>Stock_Units</th>\n",
       "      <th>Country_Of_Origin</th>\n",
       "      <th>Launch_Date</th>\n",
       "    </tr>\n",
       "  </thead>\n",
       "  <tbody>\n",
       "    <tr>\n",
       "      <th>0</th>\n",
       "      <td>1001</td>\n",
       "      <td>Router</td>\n",
       "      <td>Logitech</td>\n",
       "      <td>Accessories</td>\n",
       "      <td>574.15</td>\n",
       "      <td>188.0</td>\n",
       "      <td>Germany</td>\n",
       "      <td>2020-06-22</td>\n",
       "    </tr>\n",
       "    <tr>\n",
       "      <th>1</th>\n",
       "      <td>1002</td>\n",
       "      <td>Laptop</td>\n",
       "      <td>HP</td>\n",
       "      <td>Accessories</td>\n",
       "      <td>1644.89</td>\n",
       "      <td>203.0</td>\n",
       "      <td>UK</td>\n",
       "      <td>2023-10-15</td>\n",
       "    </tr>\n",
       "    <tr>\n",
       "      <th>2</th>\n",
       "      <td>1003</td>\n",
       "      <td>Mouse</td>\n",
       "      <td>Logitech</td>\n",
       "      <td>Peripherals</td>\n",
       "      <td>642.71</td>\n",
       "      <td>325.0</td>\n",
       "      <td>India</td>\n",
       "      <td>2019-02-22</td>\n",
       "    </tr>\n",
       "    <tr>\n",
       "      <th>3</th>\n",
       "      <td>1004</td>\n",
       "      <td>Keyboard</td>\n",
       "      <td>Samsung</td>\n",
       "      <td>Peripherals</td>\n",
       "      <td>888.96</td>\n",
       "      <td>439.0</td>\n",
       "      <td>USA</td>\n",
       "      <td>2020-12-22</td>\n",
       "    </tr>\n",
       "    <tr>\n",
       "      <th>4</th>\n",
       "      <td>1005</td>\n",
       "      <td>Keyboard</td>\n",
       "      <td>Canon</td>\n",
       "      <td>Electronics</td>\n",
       "      <td>1500.41</td>\n",
       "      <td>51.0</td>\n",
       "      <td>Japan</td>\n",
       "      <td>2019-11-27</td>\n",
       "    </tr>\n",
       "  </tbody>\n",
       "</table>\n",
       "</div>"
      ],
      "text/plain": [
       "     ID Product_Name     Brand     Category    Price  Stock_Units  \\\n",
       "0  1001       Router  Logitech  Accessories   574.15        188.0   \n",
       "1  1002       Laptop        HP  Accessories  1644.89        203.0   \n",
       "2  1003        Mouse  Logitech  Peripherals   642.71        325.0   \n",
       "3  1004     Keyboard   Samsung  Peripherals   888.96        439.0   \n",
       "4  1005     Keyboard     Canon  Electronics  1500.41         51.0   \n",
       "\n",
       "  Country_Of_Origin Launch_Date  \n",
       "0           Germany  2020-06-22  \n",
       "1                UK  2023-10-15  \n",
       "2             India  2019-02-22  \n",
       "3               USA  2020-12-22  \n",
       "4             Japan  2019-11-27  "
      ]
     },
     "execution_count": 79,
     "metadata": {},
     "output_type": "execute_result"
    }
   ],
   "source": [
    "# display first five rows\n",
    "df.head()"
   ]
  },
  {
   "cell_type": "markdown",
   "id": "7dfc7779-5674-4baa-adfd-55b5a71f2103",
   "metadata": {},
   "source": [
    "### **19. sort_values()** - Sort values in specific order"
   ]
  },
  {
   "cell_type": "code",
   "execution_count": 81,
   "id": "efb99af8-e3c4-4f75-b9b0-7568c75c1ab7",
   "metadata": {},
   "outputs": [
    {
     "data": {
      "text/html": [
       "<div>\n",
       "<style scoped>\n",
       "    .dataframe tbody tr th:only-of-type {\n",
       "        vertical-align: middle;\n",
       "    }\n",
       "\n",
       "    .dataframe tbody tr th {\n",
       "        vertical-align: top;\n",
       "    }\n",
       "\n",
       "    .dataframe thead th {\n",
       "        text-align: right;\n",
       "    }\n",
       "</style>\n",
       "<table border=\"1\" class=\"dataframe\">\n",
       "  <thead>\n",
       "    <tr style=\"text-align: right;\">\n",
       "      <th></th>\n",
       "      <th>ID</th>\n",
       "      <th>Product_Name</th>\n",
       "      <th>Brand</th>\n",
       "      <th>Category</th>\n",
       "      <th>Price</th>\n",
       "      <th>Stock_Units</th>\n",
       "      <th>Country_Of_Origin</th>\n",
       "      <th>Launch_Date</th>\n",
       "    </tr>\n",
       "  </thead>\n",
       "  <tbody>\n",
       "    <tr>\n",
       "      <th>44</th>\n",
       "      <td>1045</td>\n",
       "      <td>Laptop</td>\n",
       "      <td>Apple</td>\n",
       "      <td>Electronics</td>\n",
       "      <td>1994.63</td>\n",
       "      <td>323.0</td>\n",
       "      <td>Germany</td>\n",
       "      <td>2023-12-30</td>\n",
       "    </tr>\n",
       "    <tr>\n",
       "      <th>121</th>\n",
       "      <td>1122</td>\n",
       "      <td>Webcam</td>\n",
       "      <td>HP</td>\n",
       "      <td>Accessories</td>\n",
       "      <td>1987.56</td>\n",
       "      <td>110.0</td>\n",
       "      <td>Germany</td>\n",
       "      <td>2020-09-13</td>\n",
       "    </tr>\n",
       "    <tr>\n",
       "      <th>482</th>\n",
       "      <td>1483</td>\n",
       "      <td>Mouse</td>\n",
       "      <td>Canon</td>\n",
       "      <td>Electronics</td>\n",
       "      <td>1983.72</td>\n",
       "      <td>447.0</td>\n",
       "      <td>USA</td>\n",
       "      <td>2020-08-19</td>\n",
       "    </tr>\n",
       "    <tr>\n",
       "      <th>184</th>\n",
       "      <td>1185</td>\n",
       "      <td>Webcam</td>\n",
       "      <td>Canon</td>\n",
       "      <td>Electronics</td>\n",
       "      <td>1979.61</td>\n",
       "      <td>386.0</td>\n",
       "      <td>USA</td>\n",
       "      <td>2022-04-06</td>\n",
       "    </tr>\n",
       "    <tr>\n",
       "      <th>17</th>\n",
       "      <td>1018</td>\n",
       "      <td>Monitor</td>\n",
       "      <td>Samsung</td>\n",
       "      <td>Accessories</td>\n",
       "      <td>1975.86</td>\n",
       "      <td>372.0</td>\n",
       "      <td>China</td>\n",
       "      <td>2022-09-16</td>\n",
       "    </tr>\n",
       "  </tbody>\n",
       "</table>\n",
       "</div>"
      ],
      "text/plain": [
       "       ID Product_Name    Brand     Category    Price  Stock_Units  \\\n",
       "44   1045       Laptop    Apple  Electronics  1994.63        323.0   \n",
       "121  1122       Webcam       HP  Accessories  1987.56        110.0   \n",
       "482  1483        Mouse    Canon  Electronics  1983.72        447.0   \n",
       "184  1185       Webcam    Canon  Electronics  1979.61        386.0   \n",
       "17   1018      Monitor  Samsung  Accessories  1975.86        372.0   \n",
       "\n",
       "    Country_Of_Origin Launch_Date  \n",
       "44            Germany  2023-12-30  \n",
       "121           Germany  2020-09-13  \n",
       "482               USA  2020-08-19  \n",
       "184               USA  2022-04-06  \n",
       "17              China  2022-09-16  "
      ]
     },
     "execution_count": 81,
     "metadata": {},
     "output_type": "execute_result"
    }
   ],
   "source": [
    "# sort the records by Price of product descending\n",
    "df.sort_values(by = \"Price\", ascending = False).head()"
   ]
  },
  {
   "cell_type": "code",
   "execution_count": 82,
   "id": "0d2b3f13-dd8c-4ee2-b01f-c14a7739b817",
   "metadata": {},
   "outputs": [
    {
     "data": {
      "text/html": [
       "<div>\n",
       "<style scoped>\n",
       "    .dataframe tbody tr th:only-of-type {\n",
       "        vertical-align: middle;\n",
       "    }\n",
       "\n",
       "    .dataframe tbody tr th {\n",
       "        vertical-align: top;\n",
       "    }\n",
       "\n",
       "    .dataframe thead th {\n",
       "        text-align: right;\n",
       "    }\n",
       "</style>\n",
       "<table border=\"1\" class=\"dataframe\">\n",
       "  <thead>\n",
       "    <tr style=\"text-align: right;\">\n",
       "      <th></th>\n",
       "      <th>ID</th>\n",
       "      <th>Product_Name</th>\n",
       "      <th>Brand</th>\n",
       "      <th>Category</th>\n",
       "      <th>Price</th>\n",
       "      <th>Stock_Units</th>\n",
       "      <th>Country_Of_Origin</th>\n",
       "      <th>Launch_Date</th>\n",
       "    </tr>\n",
       "  </thead>\n",
       "  <tbody>\n",
       "    <tr>\n",
       "      <th>367</th>\n",
       "      <td>1368</td>\n",
       "      <td>Monitor</td>\n",
       "      <td>Apple</td>\n",
       "      <td>Accessories</td>\n",
       "      <td>1177.950000</td>\n",
       "      <td>497.0</td>\n",
       "      <td>Japan</td>\n",
       "      <td>2021-07-10</td>\n",
       "    </tr>\n",
       "    <tr>\n",
       "      <th>30</th>\n",
       "      <td>1031</td>\n",
       "      <td>Laptop</td>\n",
       "      <td>Samsung</td>\n",
       "      <td>Peripherals</td>\n",
       "      <td>1817.930000</td>\n",
       "      <td>497.0</td>\n",
       "      <td>Germany</td>\n",
       "      <td>2021-11-03</td>\n",
       "    </tr>\n",
       "    <tr>\n",
       "      <th>170</th>\n",
       "      <td>1171</td>\n",
       "      <td>Webcam</td>\n",
       "      <td>Lenovo</td>\n",
       "      <td>Accessories</td>\n",
       "      <td>1022.956646</td>\n",
       "      <td>496.0</td>\n",
       "      <td>USA</td>\n",
       "      <td>2020-06-22</td>\n",
       "    </tr>\n",
       "    <tr>\n",
       "      <th>20</th>\n",
       "      <td>1021</td>\n",
       "      <td>Printer</td>\n",
       "      <td>Logitech</td>\n",
       "      <td>Electronics</td>\n",
       "      <td>272.000000</td>\n",
       "      <td>496.0</td>\n",
       "      <td>India</td>\n",
       "      <td>2021-02-27</td>\n",
       "    </tr>\n",
       "    <tr>\n",
       "      <th>260</th>\n",
       "      <td>1261</td>\n",
       "      <td>Mouse</td>\n",
       "      <td>HP</td>\n",
       "      <td>Accessories</td>\n",
       "      <td>226.710000</td>\n",
       "      <td>496.0</td>\n",
       "      <td>USA</td>\n",
       "      <td>2020-02-16</td>\n",
       "    </tr>\n",
       "  </tbody>\n",
       "</table>\n",
       "</div>"
      ],
      "text/plain": [
       "       ID Product_Name     Brand     Category        Price  Stock_Units  \\\n",
       "367  1368      Monitor     Apple  Accessories  1177.950000        497.0   \n",
       "30   1031       Laptop   Samsung  Peripherals  1817.930000        497.0   \n",
       "170  1171       Webcam    Lenovo  Accessories  1022.956646        496.0   \n",
       "20   1021      Printer  Logitech  Electronics   272.000000        496.0   \n",
       "260  1261        Mouse        HP  Accessories   226.710000        496.0   \n",
       "\n",
       "    Country_Of_Origin Launch_Date  \n",
       "367             Japan  2021-07-10  \n",
       "30            Germany  2021-11-03  \n",
       "170               USA  2020-06-22  \n",
       "20              India  2021-02-27  \n",
       "260               USA  2020-02-16  "
      ]
     },
     "execution_count": 82,
     "metadata": {},
     "output_type": "execute_result"
    }
   ],
   "source": [
    "# sort the records by stock units descending\n",
    "df.sort_values(by = \"Stock_Units\", ascending = False).head()"
   ]
  },
  {
   "cell_type": "markdown",
   "id": "668d9204-4685-4313-96cd-7622803a8968",
   "metadata": {},
   "source": [
    "### **20. tail()** - View last rows"
   ]
  },
  {
   "cell_type": "code",
   "execution_count": 84,
   "id": "8ae200f9-285e-4ff7-b042-753edbd5c49a",
   "metadata": {},
   "outputs": [
    {
     "data": {
      "text/html": [
       "<div>\n",
       "<style scoped>\n",
       "    .dataframe tbody tr th:only-of-type {\n",
       "        vertical-align: middle;\n",
       "    }\n",
       "\n",
       "    .dataframe tbody tr th {\n",
       "        vertical-align: top;\n",
       "    }\n",
       "\n",
       "    .dataframe thead th {\n",
       "        text-align: right;\n",
       "    }\n",
       "</style>\n",
       "<table border=\"1\" class=\"dataframe\">\n",
       "  <thead>\n",
       "    <tr style=\"text-align: right;\">\n",
       "      <th></th>\n",
       "      <th>ID</th>\n",
       "      <th>Product_Name</th>\n",
       "      <th>Brand</th>\n",
       "      <th>Category</th>\n",
       "      <th>Price</th>\n",
       "      <th>Stock_Units</th>\n",
       "      <th>Country_Of_Origin</th>\n",
       "      <th>Launch_Date</th>\n",
       "    </tr>\n",
       "  </thead>\n",
       "  <tbody>\n",
       "    <tr>\n",
       "      <th>497</th>\n",
       "      <td>1498</td>\n",
       "      <td>Headphones</td>\n",
       "      <td>Canon</td>\n",
       "      <td>Peripherals</td>\n",
       "      <td>644.31</td>\n",
       "      <td>300.0</td>\n",
       "      <td>China</td>\n",
       "      <td>2018-11-08</td>\n",
       "    </tr>\n",
       "    <tr>\n",
       "      <th>498</th>\n",
       "      <td>1499</td>\n",
       "      <td>Headphones</td>\n",
       "      <td>Lenovo</td>\n",
       "      <td>Accessories</td>\n",
       "      <td>816.06</td>\n",
       "      <td>232.0</td>\n",
       "      <td>India</td>\n",
       "      <td>2021-10-26</td>\n",
       "    </tr>\n",
       "    <tr>\n",
       "      <th>499</th>\n",
       "      <td>1500</td>\n",
       "      <td>Laptop</td>\n",
       "      <td>Dell</td>\n",
       "      <td>Accessories</td>\n",
       "      <td>1162.04</td>\n",
       "      <td>338.0</td>\n",
       "      <td>USA</td>\n",
       "      <td>2021-01-31</td>\n",
       "    </tr>\n",
       "  </tbody>\n",
       "</table>\n",
       "</div>"
      ],
      "text/plain": [
       "       ID Product_Name   Brand     Category    Price  Stock_Units  \\\n",
       "497  1498   Headphones   Canon  Peripherals   644.31        300.0   \n",
       "498  1499   Headphones  Lenovo  Accessories   816.06        232.0   \n",
       "499  1500       Laptop    Dell  Accessories  1162.04        338.0   \n",
       "\n",
       "    Country_Of_Origin Launch_Date  \n",
       "497             China  2018-11-08  \n",
       "498             India  2021-10-26  \n",
       "499               USA  2021-01-31  "
      ]
     },
     "execution_count": 84,
     "metadata": {},
     "output_type": "execute_result"
    }
   ],
   "source": [
    "# display last 3 rows\n",
    "df.tail(3)"
   ]
  },
  {
   "cell_type": "code",
   "execution_count": 85,
   "id": "f1f9afa1-1f71-4d2c-b3c8-110b80f9a2b1",
   "metadata": {},
   "outputs": [
    {
     "data": {
      "text/html": [
       "<div>\n",
       "<style scoped>\n",
       "    .dataframe tbody tr th:only-of-type {\n",
       "        vertical-align: middle;\n",
       "    }\n",
       "\n",
       "    .dataframe tbody tr th {\n",
       "        vertical-align: top;\n",
       "    }\n",
       "\n",
       "    .dataframe thead th {\n",
       "        text-align: right;\n",
       "    }\n",
       "</style>\n",
       "<table border=\"1\" class=\"dataframe\">\n",
       "  <thead>\n",
       "    <tr style=\"text-align: right;\">\n",
       "      <th></th>\n",
       "      <th>ID</th>\n",
       "      <th>Product_Name</th>\n",
       "      <th>Brand</th>\n",
       "      <th>Category</th>\n",
       "      <th>Price</th>\n",
       "      <th>Stock_Units</th>\n",
       "      <th>Country_Of_Origin</th>\n",
       "      <th>Launch_Date</th>\n",
       "    </tr>\n",
       "  </thead>\n",
       "  <tbody>\n",
       "    <tr>\n",
       "      <th>495</th>\n",
       "      <td>1496</td>\n",
       "      <td>Webcam</td>\n",
       "      <td>Apple</td>\n",
       "      <td>Peripherals</td>\n",
       "      <td>1679.25</td>\n",
       "      <td>364.0</td>\n",
       "      <td>USA</td>\n",
       "      <td>2021-08-05</td>\n",
       "    </tr>\n",
       "    <tr>\n",
       "      <th>496</th>\n",
       "      <td>1497</td>\n",
       "      <td>Mouse</td>\n",
       "      <td>Dell</td>\n",
       "      <td>Peripherals</td>\n",
       "      <td>1480.08</td>\n",
       "      <td>293.0</td>\n",
       "      <td>UK</td>\n",
       "      <td>2018-10-17</td>\n",
       "    </tr>\n",
       "    <tr>\n",
       "      <th>497</th>\n",
       "      <td>1498</td>\n",
       "      <td>Headphones</td>\n",
       "      <td>Canon</td>\n",
       "      <td>Peripherals</td>\n",
       "      <td>644.31</td>\n",
       "      <td>300.0</td>\n",
       "      <td>China</td>\n",
       "      <td>2018-11-08</td>\n",
       "    </tr>\n",
       "    <tr>\n",
       "      <th>498</th>\n",
       "      <td>1499</td>\n",
       "      <td>Headphones</td>\n",
       "      <td>Lenovo</td>\n",
       "      <td>Accessories</td>\n",
       "      <td>816.06</td>\n",
       "      <td>232.0</td>\n",
       "      <td>India</td>\n",
       "      <td>2021-10-26</td>\n",
       "    </tr>\n",
       "    <tr>\n",
       "      <th>499</th>\n",
       "      <td>1500</td>\n",
       "      <td>Laptop</td>\n",
       "      <td>Dell</td>\n",
       "      <td>Accessories</td>\n",
       "      <td>1162.04</td>\n",
       "      <td>338.0</td>\n",
       "      <td>USA</td>\n",
       "      <td>2021-01-31</td>\n",
       "    </tr>\n",
       "  </tbody>\n",
       "</table>\n",
       "</div>"
      ],
      "text/plain": [
       "       ID Product_Name   Brand     Category    Price  Stock_Units  \\\n",
       "495  1496       Webcam   Apple  Peripherals  1679.25        364.0   \n",
       "496  1497        Mouse    Dell  Peripherals  1480.08        293.0   \n",
       "497  1498   Headphones   Canon  Peripherals   644.31        300.0   \n",
       "498  1499   Headphones  Lenovo  Accessories   816.06        232.0   \n",
       "499  1500       Laptop    Dell  Accessories  1162.04        338.0   \n",
       "\n",
       "    Country_Of_Origin Launch_Date  \n",
       "495               USA  2021-08-05  \n",
       "496                UK  2018-10-17  \n",
       "497             China  2018-11-08  \n",
       "498             India  2021-10-26  \n",
       "499               USA  2021-01-31  "
      ]
     },
     "execution_count": 85,
     "metadata": {},
     "output_type": "execute_result"
    }
   ],
   "source": [
    "# display last 5 rows \n",
    "# by default tail displays last 5 rows\n",
    "df.tail()"
   ]
  },
  {
   "cell_type": "markdown",
   "id": "cd682ec4-8f90-4e4a-9525-f4b6cff8d864",
   "metadata": {},
   "source": [
    "### **21. Filtering** - Selecting rows and columns that meets condition"
   ]
  },
  {
   "cell_type": "code",
   "execution_count": 87,
   "id": "a4d17069-f3e8-4c85-9d06-480a127f9054",
   "metadata": {},
   "outputs": [
    {
     "data": {
      "text/html": [
       "<div>\n",
       "<style scoped>\n",
       "    .dataframe tbody tr th:only-of-type {\n",
       "        vertical-align: middle;\n",
       "    }\n",
       "\n",
       "    .dataframe tbody tr th {\n",
       "        vertical-align: top;\n",
       "    }\n",
       "\n",
       "    .dataframe thead th {\n",
       "        text-align: right;\n",
       "    }\n",
       "</style>\n",
       "<table border=\"1\" class=\"dataframe\">\n",
       "  <thead>\n",
       "    <tr style=\"text-align: right;\">\n",
       "      <th></th>\n",
       "      <th>ID</th>\n",
       "      <th>Product_Name</th>\n",
       "      <th>Brand</th>\n",
       "      <th>Category</th>\n",
       "      <th>Price</th>\n",
       "      <th>Stock_Units</th>\n",
       "      <th>Country_Of_Origin</th>\n",
       "      <th>Launch_Date</th>\n",
       "    </tr>\n",
       "  </thead>\n",
       "  <tbody>\n",
       "    <tr>\n",
       "      <th>19</th>\n",
       "      <td>1020</td>\n",
       "      <td>Webcam</td>\n",
       "      <td>Dell</td>\n",
       "      <td>Electronics</td>\n",
       "      <td>1104.10</td>\n",
       "      <td>120.0</td>\n",
       "      <td>UK</td>\n",
       "      <td>2023-05-22</td>\n",
       "    </tr>\n",
       "    <tr>\n",
       "      <th>23</th>\n",
       "      <td>1024</td>\n",
       "      <td>Webcam</td>\n",
       "      <td>Apple</td>\n",
       "      <td>Accessories</td>\n",
       "      <td>549.76</td>\n",
       "      <td>256.0</td>\n",
       "      <td>USA</td>\n",
       "      <td>2018-11-17</td>\n",
       "    </tr>\n",
       "    <tr>\n",
       "      <th>35</th>\n",
       "      <td>1036</td>\n",
       "      <td>Webcam</td>\n",
       "      <td>Canon</td>\n",
       "      <td>Accessories</td>\n",
       "      <td>651.67</td>\n",
       "      <td>44.0</td>\n",
       "      <td>Japan</td>\n",
       "      <td>2018-11-21</td>\n",
       "    </tr>\n",
       "    <tr>\n",
       "      <th>59</th>\n",
       "      <td>1060</td>\n",
       "      <td>Webcam</td>\n",
       "      <td>Lenovo</td>\n",
       "      <td>Accessories</td>\n",
       "      <td>975.79</td>\n",
       "      <td>189.0</td>\n",
       "      <td>India</td>\n",
       "      <td>2018-04-23</td>\n",
       "    </tr>\n",
       "    <tr>\n",
       "      <th>78</th>\n",
       "      <td>1079</td>\n",
       "      <td>Webcam</td>\n",
       "      <td>Dell</td>\n",
       "      <td>Electronics</td>\n",
       "      <td>970.23</td>\n",
       "      <td>118.0</td>\n",
       "      <td>India</td>\n",
       "      <td>2022-10-18</td>\n",
       "    </tr>\n",
       "  </tbody>\n",
       "</table>\n",
       "</div>"
      ],
      "text/plain": [
       "      ID Product_Name   Brand     Category    Price  Stock_Units  \\\n",
       "19  1020       Webcam    Dell  Electronics  1104.10        120.0   \n",
       "23  1024       Webcam   Apple  Accessories   549.76        256.0   \n",
       "35  1036       Webcam   Canon  Accessories   651.67         44.0   \n",
       "59  1060       Webcam  Lenovo  Accessories   975.79        189.0   \n",
       "78  1079       Webcam    Dell  Electronics   970.23        118.0   \n",
       "\n",
       "   Country_Of_Origin Launch_Date  \n",
       "19                UK  2023-05-22  \n",
       "23               USA  2018-11-17  \n",
       "35             Japan  2018-11-21  \n",
       "59             India  2018-04-23  \n",
       "78             India  2022-10-18  "
      ]
     },
     "execution_count": 87,
     "metadata": {},
     "output_type": "execute_result"
    }
   ],
   "source": [
    "# filter the data get info of product name is webcam\n",
    "df[df['Product_Name'] == 'Webcam'].head()"
   ]
  },
  {
   "cell_type": "code",
   "execution_count": 88,
   "id": "a03e5a03-1e05-4f32-9ead-4d5749820818",
   "metadata": {},
   "outputs": [
    {
     "data": {
      "text/html": [
       "<div>\n",
       "<style scoped>\n",
       "    .dataframe tbody tr th:only-of-type {\n",
       "        vertical-align: middle;\n",
       "    }\n",
       "\n",
       "    .dataframe tbody tr th {\n",
       "        vertical-align: top;\n",
       "    }\n",
       "\n",
       "    .dataframe thead th {\n",
       "        text-align: right;\n",
       "    }\n",
       "</style>\n",
       "<table border=\"1\" class=\"dataframe\">\n",
       "  <thead>\n",
       "    <tr style=\"text-align: right;\">\n",
       "      <th></th>\n",
       "      <th>ID</th>\n",
       "      <th>Product_Name</th>\n",
       "      <th>Brand</th>\n",
       "      <th>Category</th>\n",
       "      <th>Price</th>\n",
       "      <th>Stock_Units</th>\n",
       "      <th>Country_Of_Origin</th>\n",
       "      <th>Launch_Date</th>\n",
       "    </tr>\n",
       "  </thead>\n",
       "  <tbody>\n",
       "    <tr>\n",
       "      <th>1</th>\n",
       "      <td>1002</td>\n",
       "      <td>Laptop</td>\n",
       "      <td>HP</td>\n",
       "      <td>Accessories</td>\n",
       "      <td>1644.89</td>\n",
       "      <td>203.0</td>\n",
       "      <td>UK</td>\n",
       "      <td>2023-10-15</td>\n",
       "    </tr>\n",
       "    <tr>\n",
       "      <th>4</th>\n",
       "      <td>1005</td>\n",
       "      <td>Keyboard</td>\n",
       "      <td>Canon</td>\n",
       "      <td>Electronics</td>\n",
       "      <td>1500.41</td>\n",
       "      <td>51.0</td>\n",
       "      <td>Japan</td>\n",
       "      <td>2019-11-27</td>\n",
       "    </tr>\n",
       "    <tr>\n",
       "      <th>5</th>\n",
       "      <td>1006</td>\n",
       "      <td>Router</td>\n",
       "      <td>Apple</td>\n",
       "      <td>Electronics</td>\n",
       "      <td>1575.61</td>\n",
       "      <td>256.0</td>\n",
       "      <td>India</td>\n",
       "      <td>2021-06-13</td>\n",
       "    </tr>\n",
       "    <tr>\n",
       "      <th>8</th>\n",
       "      <td>1009</td>\n",
       "      <td>Smartphone</td>\n",
       "      <td>Lenovo</td>\n",
       "      <td>Electronics</td>\n",
       "      <td>1548.60</td>\n",
       "      <td>238.0</td>\n",
       "      <td>China</td>\n",
       "      <td>2020-04-07</td>\n",
       "    </tr>\n",
       "    <tr>\n",
       "      <th>10</th>\n",
       "      <td>1011</td>\n",
       "      <td>Laptop</td>\n",
       "      <td>HP</td>\n",
       "      <td>Peripherals</td>\n",
       "      <td>1663.45</td>\n",
       "      <td>267.0</td>\n",
       "      <td>UK</td>\n",
       "      <td>2022-03-10</td>\n",
       "    </tr>\n",
       "  </tbody>\n",
       "</table>\n",
       "</div>"
      ],
      "text/plain": [
       "      ID Product_Name   Brand     Category    Price  Stock_Units  \\\n",
       "1   1002       Laptop      HP  Accessories  1644.89        203.0   \n",
       "4   1005     Keyboard   Canon  Electronics  1500.41         51.0   \n",
       "5   1006       Router   Apple  Electronics  1575.61        256.0   \n",
       "8   1009   Smartphone  Lenovo  Electronics  1548.60        238.0   \n",
       "10  1011       Laptop      HP  Peripherals  1663.45        267.0   \n",
       "\n",
       "   Country_Of_Origin Launch_Date  \n",
       "1                 UK  2023-10-15  \n",
       "4              Japan  2019-11-27  \n",
       "5              India  2021-06-13  \n",
       "8              China  2020-04-07  \n",
       "10                UK  2022-03-10  "
      ]
     },
     "execution_count": 88,
     "metadata": {},
     "output_type": "execute_result"
    }
   ],
   "source": [
    "# access the records with price > 1000\n",
    "df[df['Price'] > 1000].head()"
   ]
  },
  {
   "cell_type": "code",
   "execution_count": 89,
   "id": "2d1a216c-4726-4824-b34e-f10e50c466ba",
   "metadata": {},
   "outputs": [
    {
     "data": {
      "text/html": [
       "<div>\n",
       "<style scoped>\n",
       "    .dataframe tbody tr th:only-of-type {\n",
       "        vertical-align: middle;\n",
       "    }\n",
       "\n",
       "    .dataframe tbody tr th {\n",
       "        vertical-align: top;\n",
       "    }\n",
       "\n",
       "    .dataframe thead th {\n",
       "        text-align: right;\n",
       "    }\n",
       "</style>\n",
       "<table border=\"1\" class=\"dataframe\">\n",
       "  <thead>\n",
       "    <tr style=\"text-align: right;\">\n",
       "      <th></th>\n",
       "      <th>ID</th>\n",
       "      <th>Product_Name</th>\n",
       "      <th>Brand</th>\n",
       "      <th>Category</th>\n",
       "      <th>Price</th>\n",
       "      <th>Stock_Units</th>\n",
       "      <th>Country_Of_Origin</th>\n",
       "      <th>Launch_Date</th>\n",
       "    </tr>\n",
       "  </thead>\n",
       "  <tbody>\n",
       "    <tr>\n",
       "      <th>0</th>\n",
       "      <td>1001</td>\n",
       "      <td>Router</td>\n",
       "      <td>Logitech</td>\n",
       "      <td>Accessories</td>\n",
       "      <td>574.15</td>\n",
       "      <td>188.0</td>\n",
       "      <td>Germany</td>\n",
       "      <td>2020-06-22</td>\n",
       "    </tr>\n",
       "    <tr>\n",
       "      <th>1</th>\n",
       "      <td>1002</td>\n",
       "      <td>Laptop</td>\n",
       "      <td>HP</td>\n",
       "      <td>Accessories</td>\n",
       "      <td>1644.89</td>\n",
       "      <td>203.0</td>\n",
       "      <td>UK</td>\n",
       "      <td>2023-10-15</td>\n",
       "    </tr>\n",
       "    <tr>\n",
       "      <th>4</th>\n",
       "      <td>1005</td>\n",
       "      <td>Keyboard</td>\n",
       "      <td>Canon</td>\n",
       "      <td>Electronics</td>\n",
       "      <td>1500.41</td>\n",
       "      <td>51.0</td>\n",
       "      <td>Japan</td>\n",
       "      <td>2019-11-27</td>\n",
       "    </tr>\n",
       "    <tr>\n",
       "      <th>5</th>\n",
       "      <td>1006</td>\n",
       "      <td>Router</td>\n",
       "      <td>Apple</td>\n",
       "      <td>Electronics</td>\n",
       "      <td>1575.61</td>\n",
       "      <td>256.0</td>\n",
       "      <td>India</td>\n",
       "      <td>2021-06-13</td>\n",
       "    </tr>\n",
       "    <tr>\n",
       "      <th>8</th>\n",
       "      <td>1009</td>\n",
       "      <td>Smartphone</td>\n",
       "      <td>Lenovo</td>\n",
       "      <td>Electronics</td>\n",
       "      <td>1548.60</td>\n",
       "      <td>238.0</td>\n",
       "      <td>China</td>\n",
       "      <td>2020-04-07</td>\n",
       "    </tr>\n",
       "  </tbody>\n",
       "</table>\n",
       "</div>"
      ],
      "text/plain": [
       "     ID Product_Name     Brand     Category    Price  Stock_Units  \\\n",
       "0  1001       Router  Logitech  Accessories   574.15        188.0   \n",
       "1  1002       Laptop        HP  Accessories  1644.89        203.0   \n",
       "4  1005     Keyboard     Canon  Electronics  1500.41         51.0   \n",
       "5  1006       Router     Apple  Electronics  1575.61        256.0   \n",
       "8  1009   Smartphone    Lenovo  Electronics  1548.60        238.0   \n",
       "\n",
       "  Country_Of_Origin Launch_Date  \n",
       "0           Germany  2020-06-22  \n",
       "1                UK  2023-10-15  \n",
       "4             Japan  2019-11-27  \n",
       "5             India  2021-06-13  \n",
       "8             China  2020-04-07  "
      ]
     },
     "execution_count": 89,
     "metadata": {},
     "output_type": "execute_result"
    }
   ],
   "source": [
    "# access the records having category accessories and electronics\n",
    "df[df['Category'].isin(['Accessories','Electronics'])].head()"
   ]
  },
  {
   "cell_type": "markdown",
   "id": "8aba9537-15a7-46f5-8086-4fbae76ba7ca",
   "metadata": {},
   "source": [
    "### **22. loc()** - Used to access rows and columns (Label - based - indexing)"
   ]
  },
  {
   "cell_type": "code",
   "execution_count": 91,
   "id": "5f50a77c-b8dc-4748-b79c-7f0ae0191432",
   "metadata": {},
   "outputs": [
    {
     "data": {
      "text/html": [
       "<div>\n",
       "<style scoped>\n",
       "    .dataframe tbody tr th:only-of-type {\n",
       "        vertical-align: middle;\n",
       "    }\n",
       "\n",
       "    .dataframe tbody tr th {\n",
       "        vertical-align: top;\n",
       "    }\n",
       "\n",
       "    .dataframe thead th {\n",
       "        text-align: right;\n",
       "    }\n",
       "</style>\n",
       "<table border=\"1\" class=\"dataframe\">\n",
       "  <thead>\n",
       "    <tr style=\"text-align: right;\">\n",
       "      <th></th>\n",
       "      <th>Product_Name</th>\n",
       "      <th>Brand</th>\n",
       "      <th>Category</th>\n",
       "    </tr>\n",
       "  </thead>\n",
       "  <tbody>\n",
       "    <tr>\n",
       "      <th>0</th>\n",
       "      <td>Router</td>\n",
       "      <td>Logitech</td>\n",
       "      <td>Accessories</td>\n",
       "    </tr>\n",
       "    <tr>\n",
       "      <th>1</th>\n",
       "      <td>Laptop</td>\n",
       "      <td>HP</td>\n",
       "      <td>Accessories</td>\n",
       "    </tr>\n",
       "    <tr>\n",
       "      <th>2</th>\n",
       "      <td>Mouse</td>\n",
       "      <td>Logitech</td>\n",
       "      <td>Peripherals</td>\n",
       "    </tr>\n",
       "    <tr>\n",
       "      <th>3</th>\n",
       "      <td>Keyboard</td>\n",
       "      <td>Samsung</td>\n",
       "      <td>Peripherals</td>\n",
       "    </tr>\n",
       "    <tr>\n",
       "      <th>4</th>\n",
       "      <td>Keyboard</td>\n",
       "      <td>Canon</td>\n",
       "      <td>Electronics</td>\n",
       "    </tr>\n",
       "  </tbody>\n",
       "</table>\n",
       "</div>"
      ],
      "text/plain": [
       "  Product_Name     Brand     Category\n",
       "0       Router  Logitech  Accessories\n",
       "1       Laptop        HP  Accessories\n",
       "2        Mouse  Logitech  Peripherals\n",
       "3     Keyboard   Samsung  Peripherals\n",
       "4     Keyboard     Canon  Electronics"
      ]
     },
     "execution_count": 91,
     "metadata": {},
     "output_type": "execute_result"
    }
   ],
   "source": [
    "# access product name, brand, category of all records\n",
    "df.loc[:,['Product_Name','Brand','Category']].head()"
   ]
  },
  {
   "cell_type": "code",
   "execution_count": 92,
   "id": "e3be1df2-29f4-4f4c-94da-36ebaf9f10b2",
   "metadata": {},
   "outputs": [
    {
     "data": {
      "text/html": [
       "<div>\n",
       "<style scoped>\n",
       "    .dataframe tbody tr th:only-of-type {\n",
       "        vertical-align: middle;\n",
       "    }\n",
       "\n",
       "    .dataframe tbody tr th {\n",
       "        vertical-align: top;\n",
       "    }\n",
       "\n",
       "    .dataframe thead th {\n",
       "        text-align: right;\n",
       "    }\n",
       "</style>\n",
       "<table border=\"1\" class=\"dataframe\">\n",
       "  <thead>\n",
       "    <tr style=\"text-align: right;\">\n",
       "      <th></th>\n",
       "      <th>Brand</th>\n",
       "      <th>Category</th>\n",
       "      <th>Price</th>\n",
       "    </tr>\n",
       "  </thead>\n",
       "  <tbody>\n",
       "    <tr>\n",
       "      <th>0</th>\n",
       "      <td>Logitech</td>\n",
       "      <td>Accessories</td>\n",
       "      <td>574.15</td>\n",
       "    </tr>\n",
       "    <tr>\n",
       "      <th>1</th>\n",
       "      <td>HP</td>\n",
       "      <td>Accessories</td>\n",
       "      <td>1644.89</td>\n",
       "    </tr>\n",
       "    <tr>\n",
       "      <th>2</th>\n",
       "      <td>Logitech</td>\n",
       "      <td>Peripherals</td>\n",
       "      <td>642.71</td>\n",
       "    </tr>\n",
       "    <tr>\n",
       "      <th>3</th>\n",
       "      <td>Samsung</td>\n",
       "      <td>Peripherals</td>\n",
       "      <td>888.96</td>\n",
       "    </tr>\n",
       "    <tr>\n",
       "      <th>4</th>\n",
       "      <td>Canon</td>\n",
       "      <td>Electronics</td>\n",
       "      <td>1500.41</td>\n",
       "    </tr>\n",
       "  </tbody>\n",
       "</table>\n",
       "</div>"
      ],
      "text/plain": [
       "      Brand     Category    Price\n",
       "0  Logitech  Accessories   574.15\n",
       "1        HP  Accessories  1644.89\n",
       "2  Logitech  Peripherals   642.71\n",
       "3   Samsung  Peripherals   888.96\n",
       "4     Canon  Electronics  1500.41"
      ]
     },
     "execution_count": 92,
     "metadata": {},
     "output_type": "execute_result"
    }
   ],
   "source": [
    "# access first five records and their brand, category and price\n",
    "df.loc[0:4,['Brand','Category','Price']]"
   ]
  },
  {
   "cell_type": "code",
   "execution_count": 93,
   "id": "1ec81113-d98b-4dbe-9a5a-209fa7cbedd4",
   "metadata": {},
   "outputs": [
    {
     "data": {
      "text/html": [
       "<div>\n",
       "<style scoped>\n",
       "    .dataframe tbody tr th:only-of-type {\n",
       "        vertical-align: middle;\n",
       "    }\n",
       "\n",
       "    .dataframe tbody tr th {\n",
       "        vertical-align: top;\n",
       "    }\n",
       "\n",
       "    .dataframe thead th {\n",
       "        text-align: right;\n",
       "    }\n",
       "</style>\n",
       "<table border=\"1\" class=\"dataframe\">\n",
       "  <thead>\n",
       "    <tr style=\"text-align: right;\">\n",
       "      <th></th>\n",
       "      <th>ID</th>\n",
       "      <th>Product_Name</th>\n",
       "      <th>Brand</th>\n",
       "      <th>Category</th>\n",
       "      <th>Price</th>\n",
       "      <th>Stock_Units</th>\n",
       "      <th>Country_Of_Origin</th>\n",
       "      <th>Launch_Date</th>\n",
       "    </tr>\n",
       "  </thead>\n",
       "  <tbody>\n",
       "    <tr>\n",
       "      <th>0</th>\n",
       "      <td>1001</td>\n",
       "      <td>Router</td>\n",
       "      <td>Logitech</td>\n",
       "      <td>Accessories</td>\n",
       "      <td>574.15</td>\n",
       "      <td>188.0</td>\n",
       "      <td>Germany</td>\n",
       "      <td>2020-06-22</td>\n",
       "    </tr>\n",
       "    <tr>\n",
       "      <th>1</th>\n",
       "      <td>1002</td>\n",
       "      <td>Laptop</td>\n",
       "      <td>HP</td>\n",
       "      <td>Accessories</td>\n",
       "      <td>1644.89</td>\n",
       "      <td>203.0</td>\n",
       "      <td>UK</td>\n",
       "      <td>2023-10-15</td>\n",
       "    </tr>\n",
       "    <tr>\n",
       "      <th>2</th>\n",
       "      <td>1003</td>\n",
       "      <td>Mouse</td>\n",
       "      <td>Logitech</td>\n",
       "      <td>Peripherals</td>\n",
       "      <td>642.71</td>\n",
       "      <td>325.0</td>\n",
       "      <td>India</td>\n",
       "      <td>2019-02-22</td>\n",
       "    </tr>\n",
       "    <tr>\n",
       "      <th>3</th>\n",
       "      <td>1004</td>\n",
       "      <td>Keyboard</td>\n",
       "      <td>Samsung</td>\n",
       "      <td>Peripherals</td>\n",
       "      <td>888.96</td>\n",
       "      <td>439.0</td>\n",
       "      <td>USA</td>\n",
       "      <td>2020-12-22</td>\n",
       "    </tr>\n",
       "    <tr>\n",
       "      <th>4</th>\n",
       "      <td>1005</td>\n",
       "      <td>Keyboard</td>\n",
       "      <td>Canon</td>\n",
       "      <td>Electronics</td>\n",
       "      <td>1500.41</td>\n",
       "      <td>51.0</td>\n",
       "      <td>Japan</td>\n",
       "      <td>2019-11-27</td>\n",
       "    </tr>\n",
       "    <tr>\n",
       "      <th>5</th>\n",
       "      <td>1006</td>\n",
       "      <td>Router</td>\n",
       "      <td>Apple</td>\n",
       "      <td>Electronics</td>\n",
       "      <td>1575.61</td>\n",
       "      <td>256.0</td>\n",
       "      <td>India</td>\n",
       "      <td>2021-06-13</td>\n",
       "    </tr>\n",
       "  </tbody>\n",
       "</table>\n",
       "</div>"
      ],
      "text/plain": [
       "     ID Product_Name     Brand     Category    Price  Stock_Units  \\\n",
       "0  1001       Router  Logitech  Accessories   574.15        188.0   \n",
       "1  1002       Laptop        HP  Accessories  1644.89        203.0   \n",
       "2  1003        Mouse  Logitech  Peripherals   642.71        325.0   \n",
       "3  1004     Keyboard   Samsung  Peripherals   888.96        439.0   \n",
       "4  1005     Keyboard     Canon  Electronics  1500.41         51.0   \n",
       "5  1006       Router     Apple  Electronics  1575.61        256.0   \n",
       "\n",
       "  Country_Of_Origin Launch_Date  \n",
       "0           Germany  2020-06-22  \n",
       "1                UK  2023-10-15  \n",
       "2             India  2019-02-22  \n",
       "3               USA  2020-12-22  \n",
       "4             Japan  2019-11-27  \n",
       "5             India  2021-06-13  "
      ]
     },
     "execution_count": 93,
     "metadata": {},
     "output_type": "execute_result"
    }
   ],
   "source": [
    "# access 6 records with all columns\n",
    "df.loc[0:5,:]"
   ]
  },
  {
   "cell_type": "markdown",
   "id": "1167ddd4-46bd-436a-bb81-453c781799bd",
   "metadata": {},
   "source": [
    "### **23. iloc()** - Used to access rows and columns (position - based - indexing)"
   ]
  },
  {
   "cell_type": "code",
   "execution_count": 95,
   "id": "8ac4a9ab-cdb3-4f42-83b5-24a309fe8911",
   "metadata": {},
   "outputs": [
    {
     "data": {
      "text/html": [
       "<div>\n",
       "<style scoped>\n",
       "    .dataframe tbody tr th:only-of-type {\n",
       "        vertical-align: middle;\n",
       "    }\n",
       "\n",
       "    .dataframe tbody tr th {\n",
       "        vertical-align: top;\n",
       "    }\n",
       "\n",
       "    .dataframe thead th {\n",
       "        text-align: right;\n",
       "    }\n",
       "</style>\n",
       "<table border=\"1\" class=\"dataframe\">\n",
       "  <thead>\n",
       "    <tr style=\"text-align: right;\">\n",
       "      <th></th>\n",
       "      <th>ID</th>\n",
       "      <th>Product_Name</th>\n",
       "      <th>Brand</th>\n",
       "      <th>Category</th>\n",
       "      <th>Price</th>\n",
       "      <th>Stock_Units</th>\n",
       "      <th>Country_Of_Origin</th>\n",
       "      <th>Launch_Date</th>\n",
       "    </tr>\n",
       "  </thead>\n",
       "  <tbody>\n",
       "    <tr>\n",
       "      <th>0</th>\n",
       "      <td>1001</td>\n",
       "      <td>Router</td>\n",
       "      <td>Logitech</td>\n",
       "      <td>Accessories</td>\n",
       "      <td>574.15</td>\n",
       "      <td>188.0</td>\n",
       "      <td>Germany</td>\n",
       "      <td>2020-06-22</td>\n",
       "    </tr>\n",
       "    <tr>\n",
       "      <th>1</th>\n",
       "      <td>1002</td>\n",
       "      <td>Laptop</td>\n",
       "      <td>HP</td>\n",
       "      <td>Accessories</td>\n",
       "      <td>1644.89</td>\n",
       "      <td>203.0</td>\n",
       "      <td>UK</td>\n",
       "      <td>2023-10-15</td>\n",
       "    </tr>\n",
       "    <tr>\n",
       "      <th>2</th>\n",
       "      <td>1003</td>\n",
       "      <td>Mouse</td>\n",
       "      <td>Logitech</td>\n",
       "      <td>Peripherals</td>\n",
       "      <td>642.71</td>\n",
       "      <td>325.0</td>\n",
       "      <td>India</td>\n",
       "      <td>2019-02-22</td>\n",
       "    </tr>\n",
       "    <tr>\n",
       "      <th>3</th>\n",
       "      <td>1004</td>\n",
       "      <td>Keyboard</td>\n",
       "      <td>Samsung</td>\n",
       "      <td>Peripherals</td>\n",
       "      <td>888.96</td>\n",
       "      <td>439.0</td>\n",
       "      <td>USA</td>\n",
       "      <td>2020-12-22</td>\n",
       "    </tr>\n",
       "    <tr>\n",
       "      <th>4</th>\n",
       "      <td>1005</td>\n",
       "      <td>Keyboard</td>\n",
       "      <td>Canon</td>\n",
       "      <td>Electronics</td>\n",
       "      <td>1500.41</td>\n",
       "      <td>51.0</td>\n",
       "      <td>Japan</td>\n",
       "      <td>2019-11-27</td>\n",
       "    </tr>\n",
       "    <tr>\n",
       "      <th>...</th>\n",
       "      <td>...</td>\n",
       "      <td>...</td>\n",
       "      <td>...</td>\n",
       "      <td>...</td>\n",
       "      <td>...</td>\n",
       "      <td>...</td>\n",
       "      <td>...</td>\n",
       "      <td>...</td>\n",
       "    </tr>\n",
       "    <tr>\n",
       "      <th>495</th>\n",
       "      <td>1496</td>\n",
       "      <td>Webcam</td>\n",
       "      <td>Apple</td>\n",
       "      <td>Peripherals</td>\n",
       "      <td>1679.25</td>\n",
       "      <td>364.0</td>\n",
       "      <td>USA</td>\n",
       "      <td>2021-08-05</td>\n",
       "    </tr>\n",
       "    <tr>\n",
       "      <th>496</th>\n",
       "      <td>1497</td>\n",
       "      <td>Mouse</td>\n",
       "      <td>Dell</td>\n",
       "      <td>Peripherals</td>\n",
       "      <td>1480.08</td>\n",
       "      <td>293.0</td>\n",
       "      <td>UK</td>\n",
       "      <td>2018-10-17</td>\n",
       "    </tr>\n",
       "    <tr>\n",
       "      <th>497</th>\n",
       "      <td>1498</td>\n",
       "      <td>Headphones</td>\n",
       "      <td>Canon</td>\n",
       "      <td>Peripherals</td>\n",
       "      <td>644.31</td>\n",
       "      <td>300.0</td>\n",
       "      <td>China</td>\n",
       "      <td>2018-11-08</td>\n",
       "    </tr>\n",
       "    <tr>\n",
       "      <th>498</th>\n",
       "      <td>1499</td>\n",
       "      <td>Headphones</td>\n",
       "      <td>Lenovo</td>\n",
       "      <td>Accessories</td>\n",
       "      <td>816.06</td>\n",
       "      <td>232.0</td>\n",
       "      <td>India</td>\n",
       "      <td>2021-10-26</td>\n",
       "    </tr>\n",
       "    <tr>\n",
       "      <th>499</th>\n",
       "      <td>1500</td>\n",
       "      <td>Laptop</td>\n",
       "      <td>Dell</td>\n",
       "      <td>Accessories</td>\n",
       "      <td>1162.04</td>\n",
       "      <td>338.0</td>\n",
       "      <td>USA</td>\n",
       "      <td>2021-01-31</td>\n",
       "    </tr>\n",
       "  </tbody>\n",
       "</table>\n",
       "<p>500 rows × 8 columns</p>\n",
       "</div>"
      ],
      "text/plain": [
       "       ID Product_Name     Brand     Category    Price  Stock_Units  \\\n",
       "0    1001       Router  Logitech  Accessories   574.15        188.0   \n",
       "1    1002       Laptop        HP  Accessories  1644.89        203.0   \n",
       "2    1003        Mouse  Logitech  Peripherals   642.71        325.0   \n",
       "3    1004     Keyboard   Samsung  Peripherals   888.96        439.0   \n",
       "4    1005     Keyboard     Canon  Electronics  1500.41         51.0   \n",
       "..    ...          ...       ...          ...      ...          ...   \n",
       "495  1496       Webcam     Apple  Peripherals  1679.25        364.0   \n",
       "496  1497        Mouse      Dell  Peripherals  1480.08        293.0   \n",
       "497  1498   Headphones     Canon  Peripherals   644.31        300.0   \n",
       "498  1499   Headphones    Lenovo  Accessories   816.06        232.0   \n",
       "499  1500       Laptop      Dell  Accessories  1162.04        338.0   \n",
       "\n",
       "    Country_Of_Origin Launch_Date  \n",
       "0             Germany  2020-06-22  \n",
       "1                  UK  2023-10-15  \n",
       "2               India  2019-02-22  \n",
       "3                 USA  2020-12-22  \n",
       "4               Japan  2019-11-27  \n",
       "..                ...         ...  \n",
       "495               USA  2021-08-05  \n",
       "496                UK  2018-10-17  \n",
       "497             China  2018-11-08  \n",
       "498             India  2021-10-26  \n",
       "499               USA  2021-01-31  \n",
       "\n",
       "[500 rows x 8 columns]"
      ]
     },
     "execution_count": 95,
     "metadata": {},
     "output_type": "execute_result"
    }
   ],
   "source": [
    "# access all records with all columns\n",
    "df.iloc[:,:]"
   ]
  },
  {
   "cell_type": "code",
   "execution_count": 96,
   "id": "6c588c75-257f-4bb7-a139-b81548cc500d",
   "metadata": {},
   "outputs": [
    {
     "data": {
      "text/html": [
       "<div>\n",
       "<style scoped>\n",
       "    .dataframe tbody tr th:only-of-type {\n",
       "        vertical-align: middle;\n",
       "    }\n",
       "\n",
       "    .dataframe tbody tr th {\n",
       "        vertical-align: top;\n",
       "    }\n",
       "\n",
       "    .dataframe thead th {\n",
       "        text-align: right;\n",
       "    }\n",
       "</style>\n",
       "<table border=\"1\" class=\"dataframe\">\n",
       "  <thead>\n",
       "    <tr style=\"text-align: right;\">\n",
       "      <th></th>\n",
       "      <th>ID</th>\n",
       "      <th>Product_Name</th>\n",
       "      <th>Brand</th>\n",
       "      <th>Category</th>\n",
       "    </tr>\n",
       "  </thead>\n",
       "  <tbody>\n",
       "    <tr>\n",
       "      <th>0</th>\n",
       "      <td>1001</td>\n",
       "      <td>Router</td>\n",
       "      <td>Logitech</td>\n",
       "      <td>Accessories</td>\n",
       "    </tr>\n",
       "    <tr>\n",
       "      <th>1</th>\n",
       "      <td>1002</td>\n",
       "      <td>Laptop</td>\n",
       "      <td>HP</td>\n",
       "      <td>Accessories</td>\n",
       "    </tr>\n",
       "    <tr>\n",
       "      <th>2</th>\n",
       "      <td>1003</td>\n",
       "      <td>Mouse</td>\n",
       "      <td>Logitech</td>\n",
       "      <td>Peripherals</td>\n",
       "    </tr>\n",
       "    <tr>\n",
       "      <th>3</th>\n",
       "      <td>1004</td>\n",
       "      <td>Keyboard</td>\n",
       "      <td>Samsung</td>\n",
       "      <td>Peripherals</td>\n",
       "    </tr>\n",
       "    <tr>\n",
       "      <th>4</th>\n",
       "      <td>1005</td>\n",
       "      <td>Keyboard</td>\n",
       "      <td>Canon</td>\n",
       "      <td>Electronics</td>\n",
       "    </tr>\n",
       "  </tbody>\n",
       "</table>\n",
       "</div>"
      ],
      "text/plain": [
       "     ID Product_Name     Brand     Category\n",
       "0  1001       Router  Logitech  Accessories\n",
       "1  1002       Laptop        HP  Accessories\n",
       "2  1003        Mouse  Logitech  Peripherals\n",
       "3  1004     Keyboard   Samsung  Peripherals\n",
       "4  1005     Keyboard     Canon  Electronics"
      ]
     },
     "execution_count": 96,
     "metadata": {},
     "output_type": "execute_result"
    }
   ],
   "source": [
    "# access 6 entries with first 4 columns\n",
    "df.iloc[:5 , :4]"
   ]
  },
  {
   "cell_type": "markdown",
   "id": "329119e6-ee8f-48e5-b3ac-e504171c9d80",
   "metadata": {},
   "source": [
    "### **24. Add column**"
   ]
  },
  {
   "cell_type": "code",
   "execution_count": 98,
   "id": "20c0702c-b960-4444-8916-a5706a9be361",
   "metadata": {},
   "outputs": [],
   "source": [
    "# add column tax and add 2 % tax on price\n",
    "df['Tax'] = df['Price'] * (5/100)"
   ]
  },
  {
   "cell_type": "code",
   "execution_count": 99,
   "id": "14ab578c-fa08-4581-9208-a03d3d7bd73f",
   "metadata": {},
   "outputs": [
    {
     "data": {
      "text/html": [
       "<div>\n",
       "<style scoped>\n",
       "    .dataframe tbody tr th:only-of-type {\n",
       "        vertical-align: middle;\n",
       "    }\n",
       "\n",
       "    .dataframe tbody tr th {\n",
       "        vertical-align: top;\n",
       "    }\n",
       "\n",
       "    .dataframe thead th {\n",
       "        text-align: right;\n",
       "    }\n",
       "</style>\n",
       "<table border=\"1\" class=\"dataframe\">\n",
       "  <thead>\n",
       "    <tr style=\"text-align: right;\">\n",
       "      <th></th>\n",
       "      <th>ID</th>\n",
       "      <th>Product_Name</th>\n",
       "      <th>Brand</th>\n",
       "      <th>Category</th>\n",
       "      <th>Price</th>\n",
       "      <th>Stock_Units</th>\n",
       "      <th>Country_Of_Origin</th>\n",
       "      <th>Launch_Date</th>\n",
       "      <th>Tax</th>\n",
       "    </tr>\n",
       "  </thead>\n",
       "  <tbody>\n",
       "    <tr>\n",
       "      <th>0</th>\n",
       "      <td>1001</td>\n",
       "      <td>Router</td>\n",
       "      <td>Logitech</td>\n",
       "      <td>Accessories</td>\n",
       "      <td>574.15</td>\n",
       "      <td>188.0</td>\n",
       "      <td>Germany</td>\n",
       "      <td>2020-06-22</td>\n",
       "      <td>28.7075</td>\n",
       "    </tr>\n",
       "    <tr>\n",
       "      <th>1</th>\n",
       "      <td>1002</td>\n",
       "      <td>Laptop</td>\n",
       "      <td>HP</td>\n",
       "      <td>Accessories</td>\n",
       "      <td>1644.89</td>\n",
       "      <td>203.0</td>\n",
       "      <td>UK</td>\n",
       "      <td>2023-10-15</td>\n",
       "      <td>82.2445</td>\n",
       "    </tr>\n",
       "    <tr>\n",
       "      <th>2</th>\n",
       "      <td>1003</td>\n",
       "      <td>Mouse</td>\n",
       "      <td>Logitech</td>\n",
       "      <td>Peripherals</td>\n",
       "      <td>642.71</td>\n",
       "      <td>325.0</td>\n",
       "      <td>India</td>\n",
       "      <td>2019-02-22</td>\n",
       "      <td>32.1355</td>\n",
       "    </tr>\n",
       "    <tr>\n",
       "      <th>3</th>\n",
       "      <td>1004</td>\n",
       "      <td>Keyboard</td>\n",
       "      <td>Samsung</td>\n",
       "      <td>Peripherals</td>\n",
       "      <td>888.96</td>\n",
       "      <td>439.0</td>\n",
       "      <td>USA</td>\n",
       "      <td>2020-12-22</td>\n",
       "      <td>44.4480</td>\n",
       "    </tr>\n",
       "    <tr>\n",
       "      <th>4</th>\n",
       "      <td>1005</td>\n",
       "      <td>Keyboard</td>\n",
       "      <td>Canon</td>\n",
       "      <td>Electronics</td>\n",
       "      <td>1500.41</td>\n",
       "      <td>51.0</td>\n",
       "      <td>Japan</td>\n",
       "      <td>2019-11-27</td>\n",
       "      <td>75.0205</td>\n",
       "    </tr>\n",
       "  </tbody>\n",
       "</table>\n",
       "</div>"
      ],
      "text/plain": [
       "     ID Product_Name     Brand     Category    Price  Stock_Units  \\\n",
       "0  1001       Router  Logitech  Accessories   574.15        188.0   \n",
       "1  1002       Laptop        HP  Accessories  1644.89        203.0   \n",
       "2  1003        Mouse  Logitech  Peripherals   642.71        325.0   \n",
       "3  1004     Keyboard   Samsung  Peripherals   888.96        439.0   \n",
       "4  1005     Keyboard     Canon  Electronics  1500.41         51.0   \n",
       "\n",
       "  Country_Of_Origin Launch_Date      Tax  \n",
       "0           Germany  2020-06-22  28.7075  \n",
       "1                UK  2023-10-15  82.2445  \n",
       "2             India  2019-02-22  32.1355  \n",
       "3               USA  2020-12-22  44.4480  \n",
       "4             Japan  2019-11-27  75.0205  "
      ]
     },
     "execution_count": 99,
     "metadata": {},
     "output_type": "execute_result"
    }
   ],
   "source": [
    "# display dataset\n",
    "df.head()"
   ]
  },
  {
   "cell_type": "markdown",
   "id": "ffef7885-5715-4d5f-a034-33686df71a27",
   "metadata": {},
   "source": [
    "### **25. Drop Column**"
   ]
  },
  {
   "cell_type": "code",
   "execution_count": 101,
   "id": "2b47b8be-5241-40ea-b14a-76597dcf8180",
   "metadata": {},
   "outputs": [],
   "source": [
    "# drop tax column\n",
    "df.drop('Tax', axis = 1, inplace = True) "
   ]
  },
  {
   "cell_type": "raw",
   "id": "8185bd35-82a3-4918-a563-c5a1728ca0fb",
   "metadata": {},
   "source": [
    "axis = 1 for columns\n",
    "axis = 0 for rows\n",
    "inplace = True for change in original dataframe"
   ]
  },
  {
   "cell_type": "code",
   "execution_count": 102,
   "id": "0247f902-a2b6-46dd-be99-18d5bddf8dbf",
   "metadata": {},
   "outputs": [
    {
     "data": {
      "text/html": [
       "<div>\n",
       "<style scoped>\n",
       "    .dataframe tbody tr th:only-of-type {\n",
       "        vertical-align: middle;\n",
       "    }\n",
       "\n",
       "    .dataframe tbody tr th {\n",
       "        vertical-align: top;\n",
       "    }\n",
       "\n",
       "    .dataframe thead th {\n",
       "        text-align: right;\n",
       "    }\n",
       "</style>\n",
       "<table border=\"1\" class=\"dataframe\">\n",
       "  <thead>\n",
       "    <tr style=\"text-align: right;\">\n",
       "      <th></th>\n",
       "      <th>ID</th>\n",
       "      <th>Product_Name</th>\n",
       "      <th>Brand</th>\n",
       "      <th>Category</th>\n",
       "      <th>Price</th>\n",
       "      <th>Stock_Units</th>\n",
       "      <th>Country_Of_Origin</th>\n",
       "      <th>Launch_Date</th>\n",
       "    </tr>\n",
       "  </thead>\n",
       "  <tbody>\n",
       "    <tr>\n",
       "      <th>0</th>\n",
       "      <td>1001</td>\n",
       "      <td>Router</td>\n",
       "      <td>Logitech</td>\n",
       "      <td>Accessories</td>\n",
       "      <td>574.15</td>\n",
       "      <td>188.0</td>\n",
       "      <td>Germany</td>\n",
       "      <td>2020-06-22</td>\n",
       "    </tr>\n",
       "    <tr>\n",
       "      <th>1</th>\n",
       "      <td>1002</td>\n",
       "      <td>Laptop</td>\n",
       "      <td>HP</td>\n",
       "      <td>Accessories</td>\n",
       "      <td>1644.89</td>\n",
       "      <td>203.0</td>\n",
       "      <td>UK</td>\n",
       "      <td>2023-10-15</td>\n",
       "    </tr>\n",
       "    <tr>\n",
       "      <th>2</th>\n",
       "      <td>1003</td>\n",
       "      <td>Mouse</td>\n",
       "      <td>Logitech</td>\n",
       "      <td>Peripherals</td>\n",
       "      <td>642.71</td>\n",
       "      <td>325.0</td>\n",
       "      <td>India</td>\n",
       "      <td>2019-02-22</td>\n",
       "    </tr>\n",
       "    <tr>\n",
       "      <th>3</th>\n",
       "      <td>1004</td>\n",
       "      <td>Keyboard</td>\n",
       "      <td>Samsung</td>\n",
       "      <td>Peripherals</td>\n",
       "      <td>888.96</td>\n",
       "      <td>439.0</td>\n",
       "      <td>USA</td>\n",
       "      <td>2020-12-22</td>\n",
       "    </tr>\n",
       "    <tr>\n",
       "      <th>4</th>\n",
       "      <td>1005</td>\n",
       "      <td>Keyboard</td>\n",
       "      <td>Canon</td>\n",
       "      <td>Electronics</td>\n",
       "      <td>1500.41</td>\n",
       "      <td>51.0</td>\n",
       "      <td>Japan</td>\n",
       "      <td>2019-11-27</td>\n",
       "    </tr>\n",
       "  </tbody>\n",
       "</table>\n",
       "</div>"
      ],
      "text/plain": [
       "     ID Product_Name     Brand     Category    Price  Stock_Units  \\\n",
       "0  1001       Router  Logitech  Accessories   574.15        188.0   \n",
       "1  1002       Laptop        HP  Accessories  1644.89        203.0   \n",
       "2  1003        Mouse  Logitech  Peripherals   642.71        325.0   \n",
       "3  1004     Keyboard   Samsung  Peripherals   888.96        439.0   \n",
       "4  1005     Keyboard     Canon  Electronics  1500.41         51.0   \n",
       "\n",
       "  Country_Of_Origin Launch_Date  \n",
       "0           Germany  2020-06-22  \n",
       "1                UK  2023-10-15  \n",
       "2             India  2019-02-22  \n",
       "3               USA  2020-12-22  \n",
       "4             Japan  2019-11-27  "
      ]
     },
     "execution_count": 102,
     "metadata": {},
     "output_type": "execute_result"
    }
   ],
   "source": [
    "# display dataset\n",
    "df.head()"
   ]
  },
  {
   "cell_type": "markdown",
   "id": "62759bc9-8e83-483c-bece-819f2b90224f",
   "metadata": {},
   "source": [
    "### **26. rank()** - Rank values in a column. Assigning numerical position based on ranks"
   ]
  },
  {
   "cell_type": "code",
   "execution_count": 104,
   "id": "3d6e742c-f4bd-4e81-9c7b-0b38b0d31bf2",
   "metadata": {},
   "outputs": [
    {
     "data": {
      "text/plain": [
       "0    370.0\n",
       "1     95.0\n",
       "2    349.0\n",
       "3    286.0\n",
       "4    140.0\n",
       "Name: Price, dtype: float64"
      ]
     },
     "execution_count": 104,
     "metadata": {},
     "output_type": "execute_result"
    }
   ],
   "source": [
    "# rank entries as per price of products\n",
    "df['Price'].rank(ascending = False).head()"
   ]
  },
  {
   "cell_type": "markdown",
   "id": "038c83bd-1892-405d-8ee7-5cad4ee2d88c",
   "metadata": {},
   "source": [
    "### **27. astype()** - Converts the datatype of column"
   ]
  },
  {
   "cell_type": "code",
   "execution_count": 106,
   "id": "bc2b2bc1-3dc2-4478-9d7b-2fe295741a89",
   "metadata": {},
   "outputs": [
    {
     "data": {
      "text/plain": [
       "0     574\n",
       "1    1644\n",
       "2     642\n",
       "3     888\n",
       "4    1500\n",
       "Name: Price, dtype: int32"
      ]
     },
     "execution_count": 106,
     "metadata": {},
     "output_type": "execute_result"
    }
   ],
   "source": [
    "# convert datatype of price column\n",
    "df['Price'].astype(int).head()"
   ]
  },
  {
   "cell_type": "markdown",
   "id": "7eeed5ea-d3e1-4879-a9d8-3ab5e223dce9",
   "metadata": {},
   "source": [
    "### **28. apply()** - Used to apply function to each row or column "
   ]
  },
  {
   "cell_type": "code",
   "execution_count": 108,
   "id": "a0dc7381-f226-4c1b-8c9f-109f15cdd60d",
   "metadata": {},
   "outputs": [],
   "source": [
    "# make Is_Laptop column and if product is laptop print yes, no otherwise\n",
    "df[\"Is_Laptop\"] = df[\"Product_Name\"].apply(lambda x : \"Yes\" if x == 'Laptop' else \"no\")"
   ]
  },
  {
   "cell_type": "code",
   "execution_count": 109,
   "id": "819bf328-8ffa-4df4-8a57-5490fcd89c12",
   "metadata": {},
   "outputs": [
    {
     "data": {
      "text/html": [
       "<div>\n",
       "<style scoped>\n",
       "    .dataframe tbody tr th:only-of-type {\n",
       "        vertical-align: middle;\n",
       "    }\n",
       "\n",
       "    .dataframe tbody tr th {\n",
       "        vertical-align: top;\n",
       "    }\n",
       "\n",
       "    .dataframe thead th {\n",
       "        text-align: right;\n",
       "    }\n",
       "</style>\n",
       "<table border=\"1\" class=\"dataframe\">\n",
       "  <thead>\n",
       "    <tr style=\"text-align: right;\">\n",
       "      <th></th>\n",
       "      <th>ID</th>\n",
       "      <th>Product_Name</th>\n",
       "      <th>Brand</th>\n",
       "      <th>Category</th>\n",
       "      <th>Price</th>\n",
       "      <th>Stock_Units</th>\n",
       "      <th>Country_Of_Origin</th>\n",
       "      <th>Launch_Date</th>\n",
       "      <th>Is_Laptop</th>\n",
       "    </tr>\n",
       "  </thead>\n",
       "  <tbody>\n",
       "    <tr>\n",
       "      <th>0</th>\n",
       "      <td>1001</td>\n",
       "      <td>Router</td>\n",
       "      <td>Logitech</td>\n",
       "      <td>Accessories</td>\n",
       "      <td>574.15</td>\n",
       "      <td>188.0</td>\n",
       "      <td>Germany</td>\n",
       "      <td>2020-06-22</td>\n",
       "      <td>no</td>\n",
       "    </tr>\n",
       "    <tr>\n",
       "      <th>1</th>\n",
       "      <td>1002</td>\n",
       "      <td>Laptop</td>\n",
       "      <td>HP</td>\n",
       "      <td>Accessories</td>\n",
       "      <td>1644.89</td>\n",
       "      <td>203.0</td>\n",
       "      <td>UK</td>\n",
       "      <td>2023-10-15</td>\n",
       "      <td>Yes</td>\n",
       "    </tr>\n",
       "    <tr>\n",
       "      <th>2</th>\n",
       "      <td>1003</td>\n",
       "      <td>Mouse</td>\n",
       "      <td>Logitech</td>\n",
       "      <td>Peripherals</td>\n",
       "      <td>642.71</td>\n",
       "      <td>325.0</td>\n",
       "      <td>India</td>\n",
       "      <td>2019-02-22</td>\n",
       "      <td>no</td>\n",
       "    </tr>\n",
       "    <tr>\n",
       "      <th>3</th>\n",
       "      <td>1004</td>\n",
       "      <td>Keyboard</td>\n",
       "      <td>Samsung</td>\n",
       "      <td>Peripherals</td>\n",
       "      <td>888.96</td>\n",
       "      <td>439.0</td>\n",
       "      <td>USA</td>\n",
       "      <td>2020-12-22</td>\n",
       "      <td>no</td>\n",
       "    </tr>\n",
       "    <tr>\n",
       "      <th>4</th>\n",
       "      <td>1005</td>\n",
       "      <td>Keyboard</td>\n",
       "      <td>Canon</td>\n",
       "      <td>Electronics</td>\n",
       "      <td>1500.41</td>\n",
       "      <td>51.0</td>\n",
       "      <td>Japan</td>\n",
       "      <td>2019-11-27</td>\n",
       "      <td>no</td>\n",
       "    </tr>\n",
       "  </tbody>\n",
       "</table>\n",
       "</div>"
      ],
      "text/plain": [
       "     ID Product_Name     Brand     Category    Price  Stock_Units  \\\n",
       "0  1001       Router  Logitech  Accessories   574.15        188.0   \n",
       "1  1002       Laptop        HP  Accessories  1644.89        203.0   \n",
       "2  1003        Mouse  Logitech  Peripherals   642.71        325.0   \n",
       "3  1004     Keyboard   Samsung  Peripherals   888.96        439.0   \n",
       "4  1005     Keyboard     Canon  Electronics  1500.41         51.0   \n",
       "\n",
       "  Country_Of_Origin Launch_Date Is_Laptop  \n",
       "0           Germany  2020-06-22        no  \n",
       "1                UK  2023-10-15       Yes  \n",
       "2             India  2019-02-22        no  \n",
       "3               USA  2020-12-22        no  \n",
       "4             Japan  2019-11-27        no  "
      ]
     },
     "execution_count": 109,
     "metadata": {},
     "output_type": "execute_result"
    }
   ],
   "source": [
    "df.head()"
   ]
  },
  {
   "cell_type": "markdown",
   "id": "c2c5d6dc-78c6-408e-86a2-63b1b6491258",
   "metadata": {},
   "source": [
    "### **29. query()** - Uses sql like queries to filter data "
   ]
  },
  {
   "cell_type": "code",
   "execution_count": 111,
   "id": "5deac0fc-a60c-4ccd-863a-566ffc9a0574",
   "metadata": {},
   "outputs": [
    {
     "data": {
      "text/html": [
       "<div>\n",
       "<style scoped>\n",
       "    .dataframe tbody tr th:only-of-type {\n",
       "        vertical-align: middle;\n",
       "    }\n",
       "\n",
       "    .dataframe tbody tr th {\n",
       "        vertical-align: top;\n",
       "    }\n",
       "\n",
       "    .dataframe thead th {\n",
       "        text-align: right;\n",
       "    }\n",
       "</style>\n",
       "<table border=\"1\" class=\"dataframe\">\n",
       "  <thead>\n",
       "    <tr style=\"text-align: right;\">\n",
       "      <th></th>\n",
       "      <th>ID</th>\n",
       "      <th>Product_Name</th>\n",
       "      <th>Brand</th>\n",
       "      <th>Category</th>\n",
       "      <th>Price</th>\n",
       "      <th>Stock_Units</th>\n",
       "      <th>Country_Of_Origin</th>\n",
       "      <th>Launch_Date</th>\n",
       "      <th>Is_Laptop</th>\n",
       "    </tr>\n",
       "  </thead>\n",
       "  <tbody>\n",
       "    <tr>\n",
       "      <th>1</th>\n",
       "      <td>1002</td>\n",
       "      <td>Laptop</td>\n",
       "      <td>HP</td>\n",
       "      <td>Accessories</td>\n",
       "      <td>1644.89</td>\n",
       "      <td>203.0</td>\n",
       "      <td>UK</td>\n",
       "      <td>2023-10-15</td>\n",
       "      <td>Yes</td>\n",
       "    </tr>\n",
       "    <tr>\n",
       "      <th>10</th>\n",
       "      <td>1011</td>\n",
       "      <td>Laptop</td>\n",
       "      <td>HP</td>\n",
       "      <td>Peripherals</td>\n",
       "      <td>1663.45</td>\n",
       "      <td>267.0</td>\n",
       "      <td>UK</td>\n",
       "      <td>2022-03-10</td>\n",
       "      <td>Yes</td>\n",
       "    </tr>\n",
       "    <tr>\n",
       "      <th>30</th>\n",
       "      <td>1031</td>\n",
       "      <td>Laptop</td>\n",
       "      <td>Samsung</td>\n",
       "      <td>Peripherals</td>\n",
       "      <td>1817.93</td>\n",
       "      <td>497.0</td>\n",
       "      <td>Germany</td>\n",
       "      <td>2021-11-03</td>\n",
       "      <td>Yes</td>\n",
       "    </tr>\n",
       "    <tr>\n",
       "      <th>41</th>\n",
       "      <td>1042</td>\n",
       "      <td>Laptop</td>\n",
       "      <td>Dell</td>\n",
       "      <td>Accessories</td>\n",
       "      <td>1256.04</td>\n",
       "      <td>268.0</td>\n",
       "      <td>India</td>\n",
       "      <td>2023-05-06</td>\n",
       "      <td>Yes</td>\n",
       "    </tr>\n",
       "    <tr>\n",
       "      <th>44</th>\n",
       "      <td>1045</td>\n",
       "      <td>Laptop</td>\n",
       "      <td>Apple</td>\n",
       "      <td>Electronics</td>\n",
       "      <td>1994.63</td>\n",
       "      <td>323.0</td>\n",
       "      <td>Germany</td>\n",
       "      <td>2023-12-30</td>\n",
       "      <td>Yes</td>\n",
       "    </tr>\n",
       "  </tbody>\n",
       "</table>\n",
       "</div>"
      ],
      "text/plain": [
       "      ID Product_Name    Brand     Category    Price  Stock_Units  \\\n",
       "1   1002       Laptop       HP  Accessories  1644.89        203.0   \n",
       "10  1011       Laptop       HP  Peripherals  1663.45        267.0   \n",
       "30  1031       Laptop  Samsung  Peripherals  1817.93        497.0   \n",
       "41  1042       Laptop     Dell  Accessories  1256.04        268.0   \n",
       "44  1045       Laptop    Apple  Electronics  1994.63        323.0   \n",
       "\n",
       "   Country_Of_Origin Launch_Date Is_Laptop  \n",
       "1                 UK  2023-10-15       Yes  \n",
       "10                UK  2022-03-10       Yes  \n",
       "30           Germany  2021-11-03       Yes  \n",
       "41             India  2023-05-06       Yes  \n",
       "44           Germany  2023-12-30       Yes  "
      ]
     },
     "execution_count": 111,
     "metadata": {},
     "output_type": "execute_result"
    }
   ],
   "source": [
    "df.query(\"Product_Name == 'Laptop' and Price > 1200 \").head()"
   ]
  },
  {
   "cell_type": "markdown",
   "id": "b1904f50-1338-4049-85b9-e7a6f11794ae",
   "metadata": {},
   "source": [
    "### **30. nlargest** - Top n rows with highest values"
   ]
  },
  {
   "cell_type": "code",
   "execution_count": 113,
   "id": "146b9891-defa-4586-80b8-bbc08951a030",
   "metadata": {},
   "outputs": [
    {
     "data": {
      "text/html": [
       "<div>\n",
       "<style scoped>\n",
       "    .dataframe tbody tr th:only-of-type {\n",
       "        vertical-align: middle;\n",
       "    }\n",
       "\n",
       "    .dataframe tbody tr th {\n",
       "        vertical-align: top;\n",
       "    }\n",
       "\n",
       "    .dataframe thead th {\n",
       "        text-align: right;\n",
       "    }\n",
       "</style>\n",
       "<table border=\"1\" class=\"dataframe\">\n",
       "  <thead>\n",
       "    <tr style=\"text-align: right;\">\n",
       "      <th></th>\n",
       "      <th>ID</th>\n",
       "      <th>Product_Name</th>\n",
       "      <th>Brand</th>\n",
       "      <th>Category</th>\n",
       "      <th>Price</th>\n",
       "      <th>Stock_Units</th>\n",
       "      <th>Country_Of_Origin</th>\n",
       "      <th>Launch_Date</th>\n",
       "      <th>Is_Laptop</th>\n",
       "    </tr>\n",
       "  </thead>\n",
       "  <tbody>\n",
       "    <tr>\n",
       "      <th>30</th>\n",
       "      <td>1031</td>\n",
       "      <td>Laptop</td>\n",
       "      <td>Samsung</td>\n",
       "      <td>Peripherals</td>\n",
       "      <td>1817.930000</td>\n",
       "      <td>497.0</td>\n",
       "      <td>Germany</td>\n",
       "      <td>2021-11-03</td>\n",
       "      <td>Yes</td>\n",
       "    </tr>\n",
       "    <tr>\n",
       "      <th>367</th>\n",
       "      <td>1368</td>\n",
       "      <td>Monitor</td>\n",
       "      <td>Apple</td>\n",
       "      <td>Accessories</td>\n",
       "      <td>1177.950000</td>\n",
       "      <td>497.0</td>\n",
       "      <td>Japan</td>\n",
       "      <td>2021-07-10</td>\n",
       "      <td>no</td>\n",
       "    </tr>\n",
       "    <tr>\n",
       "      <th>20</th>\n",
       "      <td>1021</td>\n",
       "      <td>Printer</td>\n",
       "      <td>Logitech</td>\n",
       "      <td>Electronics</td>\n",
       "      <td>272.000000</td>\n",
       "      <td>496.0</td>\n",
       "      <td>India</td>\n",
       "      <td>2021-02-27</td>\n",
       "      <td>no</td>\n",
       "    </tr>\n",
       "    <tr>\n",
       "      <th>170</th>\n",
       "      <td>1171</td>\n",
       "      <td>Webcam</td>\n",
       "      <td>Lenovo</td>\n",
       "      <td>Accessories</td>\n",
       "      <td>1022.956646</td>\n",
       "      <td>496.0</td>\n",
       "      <td>USA</td>\n",
       "      <td>2020-06-22</td>\n",
       "      <td>no</td>\n",
       "    </tr>\n",
       "  </tbody>\n",
       "</table>\n",
       "</div>"
      ],
      "text/plain": [
       "       ID Product_Name     Brand     Category        Price  Stock_Units  \\\n",
       "30   1031       Laptop   Samsung  Peripherals  1817.930000        497.0   \n",
       "367  1368      Monitor     Apple  Accessories  1177.950000        497.0   \n",
       "20   1021      Printer  Logitech  Electronics   272.000000        496.0   \n",
       "170  1171       Webcam    Lenovo  Accessories  1022.956646        496.0   \n",
       "\n",
       "    Country_Of_Origin Launch_Date Is_Laptop  \n",
       "30            Germany  2021-11-03       Yes  \n",
       "367             Japan  2021-07-10        no  \n",
       "20              India  2021-02-27        no  \n",
       "170               USA  2020-06-22        no  "
      ]
     },
     "execution_count": 113,
     "metadata": {},
     "output_type": "execute_result"
    }
   ],
   "source": [
    "df.nlargest(4,\"Stock_Units\")"
   ]
  },
  {
   "cell_type": "markdown",
   "id": "556eda47-7f56-4107-972d-4eef5cd58d1d",
   "metadata": {},
   "source": [
    "### **31. nsmallest** - Top n rows with smallest values"
   ]
  },
  {
   "cell_type": "code",
   "execution_count": 115,
   "id": "6e2d363e-7179-4afd-87ae-b6cd29a84873",
   "metadata": {},
   "outputs": [
    {
     "data": {
      "text/html": [
       "<div>\n",
       "<style scoped>\n",
       "    .dataframe tbody tr th:only-of-type {\n",
       "        vertical-align: middle;\n",
       "    }\n",
       "\n",
       "    .dataframe tbody tr th {\n",
       "        vertical-align: top;\n",
       "    }\n",
       "\n",
       "    .dataframe thead th {\n",
       "        text-align: right;\n",
       "    }\n",
       "</style>\n",
       "<table border=\"1\" class=\"dataframe\">\n",
       "  <thead>\n",
       "    <tr style=\"text-align: right;\">\n",
       "      <th></th>\n",
       "      <th>ID</th>\n",
       "      <th>Product_Name</th>\n",
       "      <th>Brand</th>\n",
       "      <th>Category</th>\n",
       "      <th>Price</th>\n",
       "      <th>Stock_Units</th>\n",
       "      <th>Country_Of_Origin</th>\n",
       "      <th>Launch_Date</th>\n",
       "      <th>Is_Laptop</th>\n",
       "    </tr>\n",
       "  </thead>\n",
       "  <tbody>\n",
       "    <tr>\n",
       "      <th>375</th>\n",
       "      <td>1376</td>\n",
       "      <td>Monitor</td>\n",
       "      <td>Dell</td>\n",
       "      <td>Electronics</td>\n",
       "      <td>52.68</td>\n",
       "      <td>437.0</td>\n",
       "      <td>Japan</td>\n",
       "      <td>2019-12-30</td>\n",
       "      <td>no</td>\n",
       "    </tr>\n",
       "    <tr>\n",
       "      <th>255</th>\n",
       "      <td>1256</td>\n",
       "      <td>Webcam</td>\n",
       "      <td>Asus</td>\n",
       "      <td>Accessories</td>\n",
       "      <td>57.36</td>\n",
       "      <td>330.0</td>\n",
       "      <td>UK</td>\n",
       "      <td>2021-07-17</td>\n",
       "      <td>no</td>\n",
       "    </tr>\n",
       "    <tr>\n",
       "      <th>398</th>\n",
       "      <td>1399</td>\n",
       "      <td>Laptop</td>\n",
       "      <td>Apple</td>\n",
       "      <td>Peripherals</td>\n",
       "      <td>60.53</td>\n",
       "      <td>231.0</td>\n",
       "      <td>India</td>\n",
       "      <td>2019-07-07</td>\n",
       "      <td>Yes</td>\n",
       "    </tr>\n",
       "    <tr>\n",
       "      <th>382</th>\n",
       "      <td>1383</td>\n",
       "      <td>Monitor</td>\n",
       "      <td>Asus</td>\n",
       "      <td>Peripherals</td>\n",
       "      <td>61.24</td>\n",
       "      <td>327.0</td>\n",
       "      <td>China</td>\n",
       "      <td>2021-05-26</td>\n",
       "      <td>no</td>\n",
       "    </tr>\n",
       "    <tr>\n",
       "      <th>39</th>\n",
       "      <td>1040</td>\n",
       "      <td>Headphones</td>\n",
       "      <td>Lenovo</td>\n",
       "      <td>Peripherals</td>\n",
       "      <td>63.92</td>\n",
       "      <td>263.0</td>\n",
       "      <td>China</td>\n",
       "      <td>2020-08-19</td>\n",
       "      <td>no</td>\n",
       "    </tr>\n",
       "    <tr>\n",
       "      <th>146</th>\n",
       "      <td>1147</td>\n",
       "      <td>Mouse</td>\n",
       "      <td>Samsung</td>\n",
       "      <td>Electronics</td>\n",
       "      <td>67.78</td>\n",
       "      <td>121.0</td>\n",
       "      <td>Japan</td>\n",
       "      <td>2021-01-26</td>\n",
       "      <td>no</td>\n",
       "    </tr>\n",
       "  </tbody>\n",
       "</table>\n",
       "</div>"
      ],
      "text/plain": [
       "       ID Product_Name    Brand     Category  Price  Stock_Units  \\\n",
       "375  1376      Monitor     Dell  Electronics  52.68        437.0   \n",
       "255  1256       Webcam     Asus  Accessories  57.36        330.0   \n",
       "398  1399       Laptop    Apple  Peripherals  60.53        231.0   \n",
       "382  1383      Monitor     Asus  Peripherals  61.24        327.0   \n",
       "39   1040   Headphones   Lenovo  Peripherals  63.92        263.0   \n",
       "146  1147        Mouse  Samsung  Electronics  67.78        121.0   \n",
       "\n",
       "    Country_Of_Origin Launch_Date Is_Laptop  \n",
       "375             Japan  2019-12-30        no  \n",
       "255                UK  2021-07-17        no  \n",
       "398             India  2019-07-07       Yes  \n",
       "382             China  2021-05-26        no  \n",
       "39              China  2020-08-19        no  \n",
       "146             Japan  2021-01-26        no  "
      ]
     },
     "execution_count": 115,
     "metadata": {},
     "output_type": "execute_result"
    }
   ],
   "source": [
    "df.nsmallest(6,\"Price\")"
   ]
  },
  {
   "cell_type": "markdown",
   "id": "0c4c6bd4-d7ab-41bd-9c9c-b1d824077772",
   "metadata": {},
   "source": [
    "### **32. group_by()** - Used to group data based on one or more columns and then apply a aggregate function "
   ]
  },
  {
   "cell_type": "code",
   "execution_count": 117,
   "id": "437eb6e1-4e6c-4176-abb8-568e029da112",
   "metadata": {},
   "outputs": [
    {
     "data": {
      "text/plain": [
       "Category\n",
       "Accessories     999.261804\n",
       "Electronics    1005.506518\n",
       "Peripherals    1061.358952\n",
       "Name: Price, dtype: float64"
      ]
     },
     "execution_count": 117,
     "metadata": {},
     "output_type": "execute_result"
    }
   ],
   "source": [
    "# what is the average price for each category\n",
    "df.groupby('Category')['Price'].mean()"
   ]
  },
  {
   "cell_type": "code",
   "execution_count": 118,
   "id": "158ca6ab-d49f-4e08-94c8-5eb1088b2aca",
   "metadata": {},
   "outputs": [
    {
     "data": {
      "text/plain": [
       "Product_Name\n",
       "Headphones    1034.316438\n",
       "Keyboard      1034.766794\n",
       "Laptop        1078.148709\n",
       "Monitor        942.304965\n",
       "Mouse          989.177345\n",
       "Printer       1021.840000\n",
       "Router         939.935833\n",
       "Smartphone    1007.308303\n",
       "Tablet        1067.435461\n",
       "Webcam        1089.983817\n",
       "Name: Price, dtype: float64"
      ]
     },
     "execution_count": 118,
     "metadata": {},
     "output_type": "execute_result"
    }
   ],
   "source": [
    "# what is the average price for each product\n",
    "df.groupby('Product_Name')['Price'].mean()"
   ]
  },
  {
   "cell_type": "markdown",
   "id": "2b1db5c8-96ea-4985-912f-61beab67fa82",
   "metadata": {},
   "source": [
    "### **33. mean()** - Used to get average of datapoints"
   ]
  },
  {
   "cell_type": "code",
   "execution_count": 120,
   "id": "a546efe9-437e-4ec7-9c31-dd94b5d411da",
   "metadata": {},
   "outputs": [
    {
     "data": {
      "text/plain": [
       "1022.9566458333334"
      ]
     },
     "execution_count": 120,
     "metadata": {},
     "output_type": "execute_result"
    }
   ],
   "source": [
    "# get average of price column\n",
    "df['Price'].mean()"
   ]
  },
  {
   "cell_type": "code",
   "execution_count": 121,
   "id": "a83579b6-40f0-4492-8904-792f96adbeec",
   "metadata": {},
   "outputs": [
    {
     "data": {
      "text/plain": [
       "258.1166666666667"
      ]
     },
     "execution_count": 121,
     "metadata": {},
     "output_type": "execute_result"
    }
   ],
   "source": [
    "# get average of stock unit column\n",
    "df['Stock_Units'].mean()"
   ]
  },
  {
   "cell_type": "markdown",
   "id": "fba3f1da-ac94-44af-87bc-86210e139ad2",
   "metadata": {},
   "source": [
    "### **34. mode()** - Used to get most frequent value"
   ]
  },
  {
   "cell_type": "code",
   "execution_count": 123,
   "id": "18b40758-4aff-4dd6-9c50-7257fcad3711",
   "metadata": {},
   "outputs": [
    {
     "data": {
      "text/plain": [
       "0    Peripherals\n",
       "Name: Category, dtype: object"
      ]
     },
     "execution_count": 123,
     "metadata": {},
     "output_type": "execute_result"
    }
   ],
   "source": [
    "# get most frequent value of category\n",
    "df['Category'].mode()"
   ]
  },
  {
   "cell_type": "markdown",
   "id": "cdec6d8f-bc98-4944-b214-6e5dd4f586d7",
   "metadata": {},
   "source": [
    "## **Correlation** - Correlation means how two things change together."
   ]
  },
  {
   "cell_type": "markdown",
   "id": "5b6c7823-8533-4684-99da-9a1a378616b8",
   "metadata": {},
   "source": [
    "- **Correlation is the relation between two or more variables.**\n",
    "- **How one variable affects another.**\n",
    "- **If temperature increases, and ice cream sales also increase, they have a positive correlation.**\n",
    "- **If price increases, and demand decreases, they have a negative correlation.**"
   ]
  },
  {
   "cell_type": "markdown",
   "id": "36d2653e-0d14-4820-a628-f05a575fd6ef",
   "metadata": {},
   "source": [
    "### **Types of correlations -**"
   ]
  },
  {
   "cell_type": "markdown",
   "id": "5748b8d8-0233-4c10-a337-634e80de8e80",
   "metadata": {},
   "source": [
    "- **Positive Correlation** – Both things increase or decrease together.\n",
    "\n",
    "    Example: Height and weight.\n",
    "\n",
    "- **Negative Correlation** – One increases, the other decreases.\n",
    "\n",
    "    Example: Price and demand.\n",
    "\n",
    "- **Zero Correlation** – No connection between the two.\n",
    "\n",
    "    Example: Shoe size and intelligence."
   ]
  },
  {
   "cell_type": "markdown",
   "id": "de8b195e-4299-42c6-87c8-ef348cca934b",
   "metadata": {},
   "source": [
    "### **35. corr()** - Used to get correlation between numerical columns"
   ]
  },
  {
   "cell_type": "code",
   "execution_count": 125,
   "id": "90edc2eb-17f1-4f4e-9fdd-54f9e9dfae5e",
   "metadata": {},
   "outputs": [],
   "source": [
    "num_columns = ['Price','Stock_Units']"
   ]
  },
  {
   "cell_type": "code",
   "execution_count": 126,
   "id": "d3ae7957-8e52-407f-8714-7be990e44977",
   "metadata": {},
   "outputs": [
    {
     "name": "stdout",
     "output_type": "stream",
     "text": [
      "                Price  Stock_Units\n",
      "Price        1.000000    -0.000777\n",
      "Stock_Units -0.000777     1.000000\n"
     ]
    }
   ],
   "source": [
    "correlation = df[num_columns].corr()\n",
    "print(correlation)"
   ]
  },
  {
   "cell_type": "markdown",
   "id": "d5bb3174-b15c-4308-aa0b-3aff1e893fc0",
   "metadata": {},
   "source": [
    "- **Value of correlation is near zero that indicates no correlation or zero correlation between Price and Stock_Units**"
   ]
  },
  {
   "cell_type": "code",
   "execution_count": null,
   "id": "b36ec38d-fe91-4e6f-974b-fcf7c736f045",
   "metadata": {},
   "outputs": [],
   "source": []
  }
 ],
 "metadata": {
  "kernelspec": {
   "display_name": "Python [conda env:base] *",
   "language": "python",
   "name": "conda-base-py"
  },
  "language_info": {
   "codemirror_mode": {
    "name": "ipython",
    "version": 3
   },
   "file_extension": ".py",
   "mimetype": "text/x-python",
   "name": "python",
   "nbconvert_exporter": "python",
   "pygments_lexer": "ipython3",
   "version": "3.12.7"
  }
 },
 "nbformat": 4,
 "nbformat_minor": 5
}
