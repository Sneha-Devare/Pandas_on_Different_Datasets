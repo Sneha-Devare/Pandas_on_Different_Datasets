{
 "cells": [
  {
   "cell_type": "markdown",
   "id": "9c998eda-74a4-4607-91bf-6933f4d0b659",
   "metadata": {},
   "source": [
    "# **Pandas - Python Library**"
   ]
  },
  {
   "cell_type": "markdown",
   "id": "78cd379c-9728-4e31-87a5-c93ea6e64293",
   "metadata": {},
   "source": [
    "### **What is Pandas ?**"
   ]
  },
  {
   "cell_type": "markdown",
   "id": "bf944300-c36b-4b28-a507-1e9eb5bd62f8",
   "metadata": {},
   "source": [
    "- **Pandas is a python library which helps in Data Analysis**\n",
    "- **Used to analyze data**\n",
    "- **Pandas has functions for analyzing, cleaning, exploring and manipulating data**"
   ]
  },
  {
   "cell_type": "markdown",
   "id": "52ef76f7-7c32-4acc-a284-0e3aba3f2839",
   "metadata": {},
   "source": [
    "### **Why Use Pandas ?**"
   ]
  },
  {
   "cell_type": "markdown",
   "id": "39fe86a9-2434-490d-b5b9-c1c9bde3ac5e",
   "metadata": {},
   "source": [
    "- **It helps to anlyze big data**\n",
    "- **Makes conclusion on statistical theories**\n",
    "- **Pandas can clean messy datasets**\n",
    "- **Pandas methods can delete rows, clean data, rename columns, access specific data, filter data**"
   ]
  },
  {
   "cell_type": "markdown",
   "id": "712ba56c-ffa5-4d64-8bcf-e3ae70dc88e6",
   "metadata": {},
   "source": [
    "### **Installing Pandas**"
   ]
  },
  {
   "cell_type": "raw",
   "id": "dbf2027f-c122-4ac7-9cb8-0fe999990255",
   "metadata": {},
   "source": [
    "pip install pandas"
   ]
  },
  {
   "cell_type": "markdown",
   "id": "aa533785-eddf-4c4e-a481-745ee81e43c3",
   "metadata": {},
   "source": [
    "## **- Pandas Series**"
   ]
  },
  {
   "cell_type": "markdown",
   "id": "386f1fc2-aafd-4f3c-a124-f4b064ecf8f5",
   "metadata": {},
   "source": [
    "- **A pandas series is like column in a table**\n",
    "- **It is one dimensional array holding data of any type**"
   ]
  },
  {
   "cell_type": "markdown",
   "id": "20440b79-cf0d-436e-9d4d-b9d23319e9b8",
   "metadata": {},
   "source": [
    "## **- Pandas Dataframes**"
   ]
  },
  {
   "cell_type": "markdown",
   "id": "76ac1217-55ad-4a0f-8c35-15e1724f637b",
   "metadata": {},
   "source": [
    "- **Data sets in Pandas are usually multi-dimensional tables, called DataFrames.**\n",
    "- **Series is like a column, a DataFrame is the whole table.**\n",
    "- **Pandas dataframe is like 2 dimensional data structure, like two dimensional array, or table with columns and rows**\n",
    "- **Dataframe is like table with columns and rows**"
   ]
  },
  {
   "cell_type": "markdown",
   "id": "16aba5d3-9cce-481b-8eb6-796951521461",
   "metadata": {},
   "source": [
    "### **Import Pandas**"
   ]
  },
  {
   "cell_type": "code",
   "execution_count": null,
   "id": "323ed936-4d82-4a84-a12f-3e1186aa3c07",
   "metadata": {},
   "outputs": [],
   "source": [
    "# importing pandas library so we can use its methods in our notebook\n",
    "import pandas as pd     # here we create alias name for pandas library which is pd"
   ]
  },
  {
   "cell_type": "markdown",
   "id": "1b66e60e-a663-452d-ad7a-40274e086faf",
   "metadata": {},
   "source": [
    "### **Load Files into DataFrame**"
   ]
  },
  {
   "cell_type": "markdown",
   "id": "1ab873ec-d517-4965-b8cf-4c3f624a0ab2",
   "metadata": {},
   "source": [
    "#### **Pandas - Read CSV file**"
   ]
  },
  {
   "cell_type": "code",
   "execution_count": null,
   "id": "8aa13afc-f0bf-4e43-8f79-ea9a25eb3d90",
   "metadata": {},
   "outputs": [],
   "source": [
    "# loading given dataset using read_csv() method of pandas \n",
    "# here df is a variable that stores data which we reading from this student_csv dataset\n",
    "df = pd.read_csv(\"C:\\\\Users\\\\HP\\\\Documents\\\\student_dataset.csv\")"
   ]
  },
  {
   "cell_type": "markdown",
   "id": "8145aeb9-a223-4f05-b8ff-119a19b730f7",
   "metadata": {},
   "source": [
    "## **Functions -**"
   ]
  },
  {
   "cell_type": "markdown",
   "id": "5b3d7af6-2505-4112-86ac-d37a47a87721",
   "metadata": {},
   "source": [
    "### **1. shape** - Returns number of rows and columns"
   ]
  },
  {
   "cell_type": "code",
   "execution_count": null,
   "id": "51650542-e2e8-4894-b3b4-26ec43bea83e",
   "metadata": {},
   "outputs": [],
   "source": [
    "# how many rows and columns are there\n",
    "df.shape"
   ]
  },
  {
   "cell_type": "markdown",
   "id": "439ec033-a964-4672-b696-631582956845",
   "metadata": {},
   "source": [
    "- **In this dataset their are 150 rows and 8 columns**"
   ]
  },
  {
   "cell_type": "markdown",
   "id": "05120dc9-955e-414c-bb51-9718d4ebab2d",
   "metadata": {},
   "source": [
    "### **2. head()** - Used to view rows"
   ]
  },
  {
   "cell_type": "code",
   "execution_count": null,
   "id": "93b64b10-d150-4760-9e32-d31111dcd212",
   "metadata": {},
   "outputs": [],
   "source": [
    "# display the first 3 rows\n",
    "df.head(3)"
   ]
  },
  {
   "cell_type": "code",
   "execution_count": null,
   "id": "bd209279-df9c-44c4-9071-961e6be8faf9",
   "metadata": {},
   "outputs": [],
   "source": [
    "# display first 5 rows\n",
    "df.head()    # head() fuction display 5 rows in default "
   ]
  },
  {
   "cell_type": "markdown",
   "id": "00c1d730-354a-4e49-ac78-63dd764db9dd",
   "metadata": {},
   "source": [
    "### **3. columns** - Used to view column names"
   ]
  },
  {
   "cell_type": "code",
   "execution_count": null,
   "id": "3426ac1e-55dc-47ad-b468-3353c6471be2",
   "metadata": {},
   "outputs": [],
   "source": [
    "# display the column names\n",
    "df.columns"
   ]
  },
  {
   "cell_type": "markdown",
   "id": "1e83ff7e-fed8-4d77-b397-5a0e44cc5f67",
   "metadata": {},
   "source": [
    "### **4. dtypes** - Used to view datatype of each column"
   ]
  },
  {
   "cell_type": "code",
   "execution_count": null,
   "id": "72c50b4f-3918-494b-81c9-522c8277d7b8",
   "metadata": {},
   "outputs": [],
   "source": [
    "# display datatypes of all columns\n",
    "df.dtypes"
   ]
  },
  {
   "cell_type": "markdown",
   "id": "4fcf8f3f-61ab-4320-b86a-feab240a7993",
   "metadata": {},
   "source": [
    "1. **In this dataset StudentID, Age, Marks are of integer datatype**\n",
    "2. **And Name, Gender, Course, Grade, City are of object datatype**"
   ]
  },
  {
   "cell_type": "markdown",
   "id": "5ee0ff9e-cf54-475f-a5a1-fee0d46bf46d",
   "metadata": {},
   "source": [
    "### **5. isnull()** - For checking missing values"
   ]
  },
  {
   "cell_type": "code",
   "execution_count": null,
   "id": "baaf945f-2a25-468e-a176-69fbb916d6be",
   "metadata": {},
   "outputs": [],
   "source": [
    "df.isnull()   # returns True where values are NAN and false otherwise and gives boolean output"
   ]
  },
  {
   "cell_type": "code",
   "execution_count": null,
   "id": "4305716c-0dc3-4799-bcb4-c720ddf4be4d",
   "metadata": {},
   "outputs": [],
   "source": [
    "# check for missing values \n",
    "df.isnull().sum()    # isnull() method checks if null and sum() method gives count of null values for each column"
   ]
  },
  {
   "cell_type": "markdown",
   "id": "c02ac4c4-4819-4bb0-97e7-5d99221c7d3c",
   "metadata": {},
   "source": [
    "### **6. duplicated()** - Used to check duplicates"
   ]
  },
  {
   "cell_type": "code",
   "execution_count": null,
   "id": "fa247f38-36ad-47fa-8172-533f84ec79f0",
   "metadata": {},
   "outputs": [],
   "source": [
    "# check duplicate or not for each row\n",
    "df.duplicated()    # check each row is duplicate or not and return boolean output"
   ]
  },
  {
   "cell_type": "code",
   "execution_count": null,
   "id": "83a17b05-9024-447d-8370-e6ae29e600d6",
   "metadata": {},
   "outputs": [],
   "source": [
    "# get how many duplicate records in this dataset\n",
    "df.duplicated().sum()   "
   ]
  },
  {
   "cell_type": "code",
   "execution_count": null,
   "id": "fbe21dd0-26b9-4d9e-933b-355f4ed50286",
   "metadata": {},
   "outputs": [],
   "source": [
    "df['Name'].duplicated().sum()     # duplicates in Name column"
   ]
  },
  {
   "cell_type": "markdown",
   "id": "6f45838a-f21b-4d59-887a-5111dfb50fa3",
   "metadata": {},
   "source": [
    "### **7. describe()** - Used to get statistical summary of dataframe"
   ]
  },
  {
   "cell_type": "code",
   "execution_count": null,
   "id": "815ec279-546f-4a88-b3cd-fa01d40c6a51",
   "metadata": {},
   "outputs": [],
   "source": [
    "# get the basic statistical summary of numerical columns\n",
    "df.describe()"
   ]
  },
  {
   "cell_type": "code",
   "execution_count": null,
   "id": "f28d91af-7ed0-418f-94db-f6b51669537c",
   "metadata": {},
   "outputs": [],
   "source": [
    "# get the basic statistical summary of data of numerical and categorical columns\n",
    "df.describe(include = \"all\")"
   ]
  },
  {
   "cell_type": "markdown",
   "id": "1fef9074-6b6b-4902-b2f0-6af9d81bce5f",
   "metadata": {},
   "source": [
    "- **This dataset has 150 entries with no missing and duplicate values**\n",
    "- **The average age of the students is 24**\n",
    "- **The minimum age of the students is 18**\n",
    "- **The maximum age of the students is 30**\n",
    "- **The average marks of the students is 67**\n",
    "- **The minimum marks of the students is 40**\n",
    "- **The maximum marks of the students is 100**"
   ]
  },
  {
   "cell_type": "markdown",
   "id": "60a87d8e-229c-476f-80a6-1dfb316fb1b0",
   "metadata": {},
   "source": [
    "### **8. unique()** - Used to get unique values from a specific column "
   ]
  },
  {
   "cell_type": "code",
   "execution_count": null,
   "id": "b3b2bb48-5ae3-4261-9c0d-47201d7af4e4",
   "metadata": {},
   "outputs": [],
   "source": [
    "# display unique values in a name column\n",
    "df['Name'].unique()"
   ]
  },
  {
   "cell_type": "code",
   "execution_count": null,
   "id": "9f4ead94-76a4-47af-84d3-ebd9509ee189",
   "metadata": {},
   "outputs": [],
   "source": [
    "# display the unique values in gender column\n",
    "df['Gender'].unique()"
   ]
  },
  {
   "cell_type": "code",
   "execution_count": null,
   "id": "21b41beb-2522-4687-b413-4ea69800709b",
   "metadata": {},
   "outputs": [],
   "source": [
    "# display the unique values in course column\n",
    "df['Course'].unique()"
   ]
  },
  {
   "cell_type": "code",
   "execution_count": null,
   "id": "162667fa-ce7b-47b7-80ab-e6fbcc878b4e",
   "metadata": {},
   "outputs": [],
   "source": [
    "# display the unique values in city column\n",
    "df['City'].unique()"
   ]
  },
  {
   "cell_type": "markdown",
   "id": "45b03178-b560-410f-88ad-8d59d59fcb5f",
   "metadata": {},
   "source": [
    "### **9. value_counts()** - Count the number of occurences of each unique value in a column"
   ]
  },
  {
   "cell_type": "code",
   "execution_count": null,
   "id": "58b7b65c-ffd1-4ac8-bc99-6dd7c043af99",
   "metadata": {},
   "outputs": [],
   "source": [
    "# count the number of students in each course \n",
    "df['Course'].value_counts()"
   ]
  },
  {
   "cell_type": "code",
   "execution_count": null,
   "id": "8c033497-97ba-4c2c-aab0-07c1951bb907",
   "metadata": {},
   "outputs": [],
   "source": [
    "# count the number of students of each gender\n",
    "df['Gender'].value_counts()"
   ]
  },
  {
   "cell_type": "code",
   "execution_count": null,
   "id": "2a274ea7-3131-4756-9eea-70ec4c73542f",
   "metadata": {},
   "outputs": [],
   "source": [
    "# find no of students from each city\n",
    "df['City'].value_counts()"
   ]
  },
  {
   "cell_type": "code",
   "execution_count": null,
   "id": "3a66eeb2-f259-454e-8c98-fa262ecc5ac6",
   "metadata": {},
   "outputs": [],
   "source": [
    "# find the count of each grade\n",
    "df['Grade'].value_counts()"
   ]
  },
  {
   "cell_type": "markdown",
   "id": "26a39a05-73a6-431d-b058-de8d4f979b7f",
   "metadata": {},
   "source": [
    "### **10. nunique()** - Count no of unique values in a column"
   ]
  },
  {
   "cell_type": "code",
   "execution_count": null,
   "id": "54f9ed32-d9d7-435a-8dd9-3c84d015185a",
   "metadata": {},
   "outputs": [],
   "source": [
    "# find the number of unique cities\n",
    "df['City'].nunique()"
   ]
  },
  {
   "cell_type": "code",
   "execution_count": null,
   "id": "2ca4a276-544e-4660-8ec2-9524befad876",
   "metadata": {},
   "outputs": [],
   "source": [
    "# find the number of unique Gender\n",
    "df['Gender'].nunique()"
   ]
  },
  {
   "cell_type": "code",
   "execution_count": null,
   "id": "bb657c2e-0537-46be-848d-908b7bb1e3f0",
   "metadata": {},
   "outputs": [],
   "source": [
    "# find the number of unique Grades\n",
    "df['Grade'].nunique()"
   ]
  },
  {
   "cell_type": "code",
   "execution_count": null,
   "id": "44d23e2b-3174-4654-bebf-cf954fa85c69",
   "metadata": {},
   "outputs": [],
   "source": [
    "# find the number of unique courses\n",
    "df['Course'].nunique()"
   ]
  },
  {
   "cell_type": "code",
   "execution_count": null,
   "id": "e198f727-4234-4418-b440-b2ee14c367e9",
   "metadata": {},
   "outputs": [],
   "source": [
    "# find the number of unique result\n",
    "df['Marks'].nunique()"
   ]
  },
  {
   "cell_type": "markdown",
   "id": "6fe80592-6df2-4fb7-b1e4-c1a31ab0aa7c",
   "metadata": {},
   "source": [
    "### **11. info()** -  Used to get summary of dataframe"
   ]
  },
  {
   "cell_type": "code",
   "execution_count": null,
   "id": "605b3143-cb2b-4464-8308-e826bd16fcfa",
   "metadata": {},
   "outputs": [],
   "source": [
    "df.info()"
   ]
  },
  {
   "cell_type": "markdown",
   "id": "c486dafa-45be-4fb1-ae53-2642005812bd",
   "metadata": {},
   "source": [
    "### **12. max() / min()** - Returns maximum and minimum values"
   ]
  },
  {
   "cell_type": "code",
   "execution_count": null,
   "id": "86d6944d-159b-4373-873f-98edb95e3378",
   "metadata": {},
   "outputs": [],
   "source": [
    "# what is maximum and minimum marks obtained by the students\n",
    "print(\"Max marks are :\", df['Marks'].max())\n",
    "print(\"Min marks are :\", df['Marks'].min())"
   ]
  },
  {
   "cell_type": "markdown",
   "id": "75b7702a-5242-4a05-bf5f-5fd3a5b4eda2",
   "metadata": {},
   "source": [
    "### **13. sum()** - Used to calculate sum of elements in a dataframe"
   ]
  },
  {
   "cell_type": "code",
   "execution_count": null,
   "id": "31bd0976-fa01-49fb-be7b-d17a3135c9ef",
   "metadata": {},
   "outputs": [],
   "source": [
    "# how many students got grade \"A\"\n",
    "(df['Grade'] == \"A\").sum()"
   ]
  },
  {
   "cell_type": "code",
   "execution_count": null,
   "id": "797a3371-6fae-4dd0-80cb-809f348ed77d",
   "metadata": {},
   "outputs": [],
   "source": [
    "# how many students are failed\n",
    "(df['Grade'] == \"F\").sum()"
   ]
  },
  {
   "cell_type": "code",
   "execution_count": null,
   "id": "9c45e99a-e6f2-4f67-a9fa-f8046cfaa9bb",
   "metadata": {},
   "outputs": [],
   "source": [
    "# how many females are\n",
    "(df['Gender'] == 'Female').sum()"
   ]
  },
  {
   "cell_type": "markdown",
   "id": "3c0c7693-fa5f-4afa-be31-8571d90ab02a",
   "metadata": {},
   "source": [
    "### **14. len()** - length or entries in dataframe"
   ]
  },
  {
   "cell_type": "code",
   "execution_count": null,
   "id": "4854a195-5c42-428f-9028-6e7695d92a2f",
   "metadata": {},
   "outputs": [],
   "source": [
    "len(df)"
   ]
  },
  {
   "cell_type": "markdown",
   "id": "73b64d22-d8c5-4f4b-9145-0bc27faf7675",
   "metadata": {},
   "source": [
    "### **15. index()** - Returns the row index"
   ]
  },
  {
   "cell_type": "code",
   "execution_count": null,
   "id": "bbdbbf4c-fe95-407b-b0b8-e21fdf29b528",
   "metadata": {},
   "outputs": [],
   "source": [
    "df.index"
   ]
  },
  {
   "cell_type": "markdown",
   "id": "0058e3f9-840f-4db3-9ea3-e4d133de23e8",
   "metadata": {},
   "source": [
    "### **16. rename()** - rename the specified column or row"
   ]
  },
  {
   "cell_type": "code",
   "execution_count": null,
   "id": "07d0364e-96e0-4848-b5bc-a2f0f29986b7",
   "metadata": {},
   "outputs": [],
   "source": [
    "df.rename(columns = {'Score':'Marks'}, inplace = True)  # change score column to marks"
   ]
  },
  {
   "cell_type": "code",
   "execution_count": null,
   "id": "9d422083-85a7-407d-8424-94f2be79bf99",
   "metadata": {},
   "outputs": [],
   "source": [
    "df.rename(columns = {\"StudentID\":\"ID\"}, inplace = True)"
   ]
  },
  {
   "cell_type": "code",
   "execution_count": null,
   "id": "7863ebf2-7d4c-43c7-9fbf-e25149741548",
   "metadata": {},
   "outputs": [],
   "source": [
    "df.head()    # display first five rows"
   ]
  },
  {
   "cell_type": "markdown",
   "id": "4311fc13-49f2-4415-83b5-33b13fd78d6e",
   "metadata": {},
   "source": [
    "### **17. sort_values()** - Sort values"
   ]
  },
  {
   "cell_type": "code",
   "execution_count": null,
   "id": "b573b911-4ea2-4ff1-aa55-652d22cba59f",
   "metadata": {},
   "outputs": [],
   "source": [
    "# sort the records by age in descending\n",
    "df.sort_values(by = 'Age', ascending = False).head()"
   ]
  },
  {
   "cell_type": "code",
   "execution_count": null,
   "id": "d52c8c7b-83c7-4da2-b54a-ed452dd1b85e",
   "metadata": {},
   "outputs": [],
   "source": [
    "# sort the records by marks descending\n",
    "df.sort_values(by = 'Marks', ascending = False).head()"
   ]
  },
  {
   "cell_type": "code",
   "execution_count": null,
   "id": "4fa8b5b7-0e2a-49e3-bee6-9ca41c37d371",
   "metadata": {},
   "outputs": [],
   "source": [
    "# sort the records by city\n",
    "df.sort_values(by = \"City\", ascending = True).head()"
   ]
  },
  {
   "cell_type": "code",
   "execution_count": null,
   "id": "dd4beab8-8bcc-415b-b887-c78e332e4a9a",
   "metadata": {},
   "outputs": [],
   "source": [
    "# axis = 0 for rows\n",
    "# axis = 1 for columns"
   ]
  },
  {
   "cell_type": "markdown",
   "id": "4cb2bf27-cae1-4777-bfda-3cef618646f5",
   "metadata": {},
   "source": [
    "### **18. Filtering** - Selecting rows and columns that meets condition"
   ]
  },
  {
   "cell_type": "code",
   "execution_count": null,
   "id": "00b8a189-d550-46c6-a9d6-5bb02c190a2d",
   "metadata": {},
   "outputs": [],
   "source": [
    "# Show the details of students from city hyderabad\n",
    "df[df['City'] == 'Hyderabad'].head()"
   ]
  },
  {
   "cell_type": "code",
   "execution_count": null,
   "id": "419fc354-0488-47ac-a7b8-21db095b24fc",
   "metadata": {},
   "outputs": [],
   "source": [
    "# show the details of females\n",
    "df[df['Gender'] == \"Female\"].head()"
   ]
  },
  {
   "cell_type": "code",
   "execution_count": null,
   "id": "f6b6e541-43fb-45f8-bff2-0c6c3eb281c0",
   "metadata": {},
   "outputs": [],
   "source": [
    "# show the name of all students who scored more than 80\n",
    "df[df['Marks'] > 80].head()"
   ]
  },
  {
   "cell_type": "code",
   "execution_count": null,
   "id": "9ef007f3-2642-4b8b-a749-cf6d56bf51d3",
   "metadata": {},
   "outputs": [],
   "source": [
    "# get records of age less than 20 \n",
    "df[df['Age'] < 20].head()"
   ]
  },
  {
   "cell_type": "code",
   "execution_count": null,
   "id": "cbbc2eba-fb69-4870-b00a-8e359c6ff3e2",
   "metadata": {},
   "outputs": [],
   "source": [
    "# get students whose course is data science\n",
    "df[df['Course'] == 'Data Science'].head()"
   ]
  },
  {
   "cell_type": "markdown",
   "id": "cbeae748-c38b-438e-ab59-cc1984cadc85",
   "metadata": {},
   "source": [
    "### **19. loc()** - Used to access rows and columns (Label - based - indexing)"
   ]
  },
  {
   "cell_type": "code",
   "execution_count": null,
   "id": "ef573d96-7c52-4364-b42a-521713452839",
   "metadata": {},
   "outputs": [],
   "source": [
    "# get name of the students with course name and return 5 records\n",
    "df.loc[:4,['Name','Course']]"
   ]
  },
  {
   "cell_type": "code",
   "execution_count": null,
   "id": "0f4b623d-eb91-46b1-8016-58267950affc",
   "metadata": {},
   "outputs": [],
   "source": [
    "# get first 3 columns with all records\n",
    "df.loc[:,['Name','Course','Gender']].head()"
   ]
  },
  {
   "cell_type": "markdown",
   "id": "1882017e-af9f-4e5a-ab31-6b13fcae7fac",
   "metadata": {},
   "source": [
    "### **20. iloc()** - Used to access rows and columns (position - based - indexing)"
   ]
  },
  {
   "cell_type": "code",
   "execution_count": null,
   "id": "ade1208a-6f21-4c14-b41e-e634c9c3a7e7",
   "metadata": {},
   "outputs": [],
   "source": [
    "# get info of third record \n",
    "df.iloc[2]   # its index is 2"
   ]
  },
  {
   "cell_type": "code",
   "execution_count": null,
   "id": "046fa103-88bd-46a1-a3a1-866ad4da8713",
   "metadata": {},
   "outputs": [],
   "source": [
    "# access records 6 with first five columns \n",
    "df.iloc[0:6, 0:5]"
   ]
  },
  {
   "cell_type": "markdown",
   "id": "d0333707-9ecc-4a3d-bb55-b366b7b6ba2b",
   "metadata": {},
   "source": [
    "### **21. Add column**"
   ]
  },
  {
   "cell_type": "code",
   "execution_count": null,
   "id": "8d290d2f-05cf-4ecc-9449-ad5b958a385c",
   "metadata": {},
   "outputs": [],
   "source": [
    "df[\"Grace_score\"] = df[\"Marks\"] + 10    # add new column to dataset"
   ]
  },
  {
   "cell_type": "code",
   "execution_count": null,
   "id": "b6e343d4-0297-48d3-9462-5ac0ca5e40a8",
   "metadata": {},
   "outputs": [],
   "source": [
    "df.head()"
   ]
  },
  {
   "cell_type": "markdown",
   "id": "bacc71c0-f83a-4ecf-9259-ea2414688dd9",
   "metadata": {},
   "source": [
    "### **22. Drop Column**"
   ]
  },
  {
   "cell_type": "code",
   "execution_count": null,
   "id": "63e95dfe-47f9-43f4-82fc-d50a6a5630c1",
   "metadata": {},
   "outputs": [],
   "source": [
    "df.drop(\"Grace_score\", axis = 1, inplace = True)"
   ]
  },
  {
   "cell_type": "code",
   "execution_count": null,
   "id": "bc8487ce-29c2-481d-9297-e91b5e43be81",
   "metadata": {},
   "outputs": [],
   "source": [
    "df.head()"
   ]
  },
  {
   "cell_type": "markdown",
   "id": "69f0d2d3-9597-4f92-a58f-3cd4fca62ab1",
   "metadata": {},
   "source": [
    "### **23. Rank()** - Rank values in a column. Assigning numerical position based on ranks"
   ]
  },
  {
   "cell_type": "code",
   "execution_count": null,
   "id": "2d78d0a1-755b-4dd8-b5dc-c3664dac5766",
   "metadata": {},
   "outputs": [],
   "source": [
    "df[\"Marks\"].rank(ascending = False).head()   # index is not changed"
   ]
  },
  {
   "cell_type": "markdown",
   "id": "07fe3ee0-a1c7-4b89-83bd-f543821ecfe6",
   "metadata": {},
   "source": [
    "### **24. astype()** - Converts the datatype of column"
   ]
  },
  {
   "cell_type": "code",
   "execution_count": null,
   "id": "ebc34081-f794-483f-bd47-f488f1a31a5f",
   "metadata": {},
   "outputs": [],
   "source": [
    "df[\"Marks\"].astype(float).head()"
   ]
  },
  {
   "cell_type": "markdown",
   "id": "e9a6638f-5b0e-4a4a-aa21-bd07414ea768",
   "metadata": {},
   "source": [
    "### **25. apply()** - Used to apply function to each row or column "
   ]
  },
  {
   "cell_type": "code",
   "execution_count": null,
   "id": "c345f99c-ae0b-4dff-9dac-6aab09d64fe0",
   "metadata": {},
   "outputs": [],
   "source": [
    "df[\"Result\"] = df[\"Marks\"].apply(lambda x : \"Pass\" if x >= 50 else \"Fail\")"
   ]
  },
  {
   "cell_type": "code",
   "execution_count": null,
   "id": "48d2d491-7ee2-418a-80b9-67e63b2e6c5c",
   "metadata": {},
   "outputs": [],
   "source": [
    "df['Top'] = df['Marks'].apply(lambda x : 'TOPPER' if x == 100 else '-') "
   ]
  },
  {
   "cell_type": "code",
   "execution_count": null,
   "id": "7483c603-7c8b-4d62-a2af-fc13b00822d8",
   "metadata": {},
   "outputs": [],
   "source": [
    "df.head()"
   ]
  },
  {
   "cell_type": "markdown",
   "id": "92567e43-1fda-4bce-8ae1-0cb87612af87",
   "metadata": {},
   "source": [
    "### **26. query()** - Uses sql like queries to filter data "
   ]
  },
  {
   "cell_type": "code",
   "execution_count": null,
   "id": "bc24ee82-b5e3-4942-a586-e7b8402c5c95",
   "metadata": {},
   "outputs": [],
   "source": [
    "df.query(\"Gender == 'Female' and Marks > 75\").head()"
   ]
  },
  {
   "cell_type": "markdown",
   "id": "a263c8c6-292b-494d-b813-ce174f0a25b7",
   "metadata": {},
   "source": [
    "### **27. pivot_table()** - Summarizes data by using aggregating functions"
   ]
  },
  {
   "cell_type": "code",
   "execution_count": null,
   "id": "373312e9-0053-4d29-b386-1ca2593d0b52",
   "metadata": {},
   "outputs": [],
   "source": [
    "df.pivot_table(values = \"Marks\", index = \"Course\", columns = \"Gender\", aggfunc = \"mean\")    "
   ]
  },
  {
   "cell_type": "code",
   "execution_count": null,
   "id": "e9e283cd-bc27-44a3-bda2-e2ec765c4061",
   "metadata": {},
   "outputs": [],
   "source": [
    "df.pivot_table(values = \"Marks\", index = \"Course\", columns = \"City\", aggfunc = \"max\")"
   ]
  },
  {
   "cell_type": "markdown",
   "id": "1680f32e-30b1-4739-9de5-07aac2e0702d",
   "metadata": {},
   "source": [
    "### **28. tail()** - Returns last five rows"
   ]
  },
  {
   "cell_type": "code",
   "execution_count": null,
   "id": "8af7833b-6497-49bd-933e-70cb9c6b04cd",
   "metadata": {},
   "outputs": [],
   "source": [
    "df.tail()"
   ]
  },
  {
   "cell_type": "markdown",
   "id": "ddd0e860-3d60-4065-914e-07e6945a0371",
   "metadata": {},
   "source": [
    "### **29. group_by()** - Used to group data based on one or more columns and then apply a aggregate function "
   ]
  },
  {
   "cell_type": "code",
   "execution_count": null,
   "id": "437622c3-3471-4d34-a1f9-02d9cc9294c9",
   "metadata": {},
   "outputs": [],
   "source": [
    "# what is the average marks for each course\n",
    "df.groupby('Course')['Marks'].mean()"
   ]
  },
  {
   "cell_type": "code",
   "execution_count": null,
   "id": "10134211-cc8f-4231-9026-7807e3539bfa",
   "metadata": {},
   "outputs": [],
   "source": [
    "df.groupby('Gender')['Marks'].mean()"
   ]
  },
  {
   "cell_type": "markdown",
   "id": "00a571e6-a584-477f-8207-5c4214bc4336",
   "metadata": {},
   "source": [
    "### **30. nlargest** - Top n rows with highest values"
   ]
  },
  {
   "cell_type": "code",
   "execution_count": null,
   "id": "83a31c25-d54e-45e2-b09d-23b345ae7204",
   "metadata": {},
   "outputs": [],
   "source": [
    "df.nlargest(5,\"Marks\")  "
   ]
  },
  {
   "cell_type": "markdown",
   "id": "8e5f0663-1e17-4c9c-8e3b-2d31c9406d0b",
   "metadata": {},
   "source": [
    "### **31. nsmallest** - Top n rows with smallest values"
   ]
  },
  {
   "cell_type": "code",
   "execution_count": null,
   "id": "e1d44b8b-c2d6-4414-82c9-aa6d2fbd18a3",
   "metadata": {},
   "outputs": [],
   "source": [
    "df.nsmallest(5,\"Age\")"
   ]
  }
 ],
 "metadata": {
  "kernelspec": {
   "display_name": "Python [conda env:base] *",
   "language": "python",
   "name": "conda-base-py"
  },
  "language_info": {
   "codemirror_mode": {
    "name": "ipython",
    "version": 3
   },
   "file_extension": ".py",
   "mimetype": "text/x-python",
   "name": "python",
   "nbconvert_exporter": "python",
   "pygments_lexer": "ipython3",
   "version": "3.12.7"
  }
 },
 "nbformat": 4,
 "nbformat_minor": 5
}
