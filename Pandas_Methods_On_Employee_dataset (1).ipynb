{
 "cells": [
  {
   "cell_type": "markdown",
   "id": "9c998eda-74a4-4607-91bf-6933f4d0b659",
   "metadata": {},
   "source": [
    "# **Pandas - Python Library**"
   ]
  },
  {
   "cell_type": "markdown",
   "id": "78cd379c-9728-4e31-87a5-c93ea6e64293",
   "metadata": {},
   "source": [
    "### **What is Pandas ?**"
   ]
  },
  {
   "cell_type": "markdown",
   "id": "bf944300-c36b-4b28-a507-1e9eb5bd62f8",
   "metadata": {},
   "source": [
    "- **Pandas is a python library which helps in Data Analysis**\n",
    "- **Used to analyze data**\n",
    "- **Pandas has functions for analyzing, cleaning, exploring and manipulating data**"
   ]
  },
  {
   "cell_type": "markdown",
   "id": "52ef76f7-7c32-4acc-a284-0e3aba3f2839",
   "metadata": {},
   "source": [
    "### **Why Use Pandas ?**"
   ]
  },
  {
   "cell_type": "markdown",
   "id": "39fe86a9-2434-490d-b5b9-c1c9bde3ac5e",
   "metadata": {},
   "source": [
    "- **It helps to anlyze big data**\n",
    "- **Makes conclusion on statistical theories**\n",
    "- **Pandas can clean messy datasets**\n",
    "- **Pandas methods can delete rows, clean data, rename columns, access specific data, filter data**"
   ]
  },
  {
   "cell_type": "markdown",
   "id": "712ba56c-ffa5-4d64-8bcf-e3ae70dc88e6",
   "metadata": {},
   "source": [
    "### **Installing Pandas**"
   ]
  },
  {
   "cell_type": "raw",
   "id": "dbf2027f-c122-4ac7-9cb8-0fe999990255",
   "metadata": {},
   "source": [
    "pip install pandas"
   ]
  },
  {
   "cell_type": "markdown",
   "id": "aa533785-eddf-4c4e-a481-745ee81e43c3",
   "metadata": {},
   "source": [
    "## **- Pandas Series**"
   ]
  },
  {
   "cell_type": "markdown",
   "id": "386f1fc2-aafd-4f3c-a124-f4b064ecf8f5",
   "metadata": {},
   "source": [
    "- **A pandas series is like column in a table**\n",
    "- **It is one dimensional array holding data of any type**"
   ]
  },
  {
   "cell_type": "markdown",
   "id": "20440b79-cf0d-436e-9d4d-b9d23319e9b8",
   "metadata": {},
   "source": [
    "## **- Pandas Dataframes**"
   ]
  },
  {
   "cell_type": "markdown",
   "id": "76ac1217-55ad-4a0f-8c35-15e1724f637b",
   "metadata": {},
   "source": [
    "- **Data sets in Pandas are usually multi-dimensional tables, called DataFrames.**\n",
    "- **Series is like a column, a DataFrame is the whole table.**\n",
    "- **Pandas dataframe is like 2 dimensional data structure, like two dimensional array, or table with columns and rows**\n",
    "- **Dataframe is like table with columns and rows**"
   ]
  },
  {
   "cell_type": "markdown",
   "id": "16aba5d3-9cce-481b-8eb6-796951521461",
   "metadata": {},
   "source": [
    "### **Import Pandas**"
   ]
  },
  {
   "cell_type": "code",
   "execution_count": 12,
   "id": "323ed936-4d82-4a84-a12f-3e1186aa3c07",
   "metadata": {},
   "outputs": [],
   "source": [
    "# importing pandas library so we can use its methods in our notebook\n",
    "import pandas as pd     # here we create alias name for pandas library which is pd"
   ]
  },
  {
   "cell_type": "markdown",
   "id": "1b66e60e-a663-452d-ad7a-40274e086faf",
   "metadata": {},
   "source": [
    "### **Load Files into DataFrame**"
   ]
  },
  {
   "cell_type": "markdown",
   "id": "1ab873ec-d517-4965-b8cf-4c3f624a0ab2",
   "metadata": {},
   "source": [
    "#### **Pandas - Read CSV file**"
   ]
  },
  {
   "cell_type": "code",
   "execution_count": 15,
   "id": "8aa13afc-f0bf-4e43-8f79-ea9a25eb3d90",
   "metadata": {},
   "outputs": [],
   "source": [
    "# loading given dataset using read_csv() method of pandas \n",
    "# here df is a variable that stores data which we reading from this employee_csv dataset\n",
    "df = pd.read_csv(\"C:\\\\Users\\\\HP\\\\Documents\\\\employee_dataset.csv\")"
   ]
  },
  {
   "cell_type": "markdown",
   "id": "8145aeb9-a223-4f05-b8ff-119a19b730f7",
   "metadata": {},
   "source": [
    "## **Functions -**"
   ]
  },
  {
   "cell_type": "markdown",
   "id": "5b3d7af6-2505-4112-86ac-d37a47a87721",
   "metadata": {},
   "source": [
    "### **1. shape** - Returns number of rows and columns"
   ]
  },
  {
   "cell_type": "code",
   "execution_count": 18,
   "id": "51650542-e2e8-4894-b3b4-26ec43bea83e",
   "metadata": {},
   "outputs": [
    {
     "data": {
      "text/plain": [
       "(100, 6)"
      ]
     },
     "execution_count": 18,
     "metadata": {},
     "output_type": "execute_result"
    }
   ],
   "source": [
    "# how many rows and columns are there\n",
    "df.shape"
   ]
  },
  {
   "cell_type": "markdown",
   "id": "439ec033-a964-4672-b696-631582956845",
   "metadata": {},
   "source": [
    "- **In this dataset their are 100 rows and 6 columns**"
   ]
  },
  {
   "cell_type": "markdown",
   "id": "05120dc9-955e-414c-bb51-9718d4ebab2d",
   "metadata": {},
   "source": [
    "### **2. head()** - Used to view rows"
   ]
  },
  {
   "cell_type": "code",
   "execution_count": 21,
   "id": "93b64b10-d150-4760-9e32-d31111dcd212",
   "metadata": {},
   "outputs": [
    {
     "data": {
      "text/html": [
       "<div>\n",
       "<style scoped>\n",
       "    .dataframe tbody tr th:only-of-type {\n",
       "        vertical-align: middle;\n",
       "    }\n",
       "\n",
       "    .dataframe tbody tr th {\n",
       "        vertical-align: top;\n",
       "    }\n",
       "\n",
       "    .dataframe thead th {\n",
       "        text-align: right;\n",
       "    }\n",
       "</style>\n",
       "<table border=\"1\" class=\"dataframe\">\n",
       "  <thead>\n",
       "    <tr style=\"text-align: right;\">\n",
       "      <th></th>\n",
       "      <th>EmployeeID</th>\n",
       "      <th>Name</th>\n",
       "      <th>Department</th>\n",
       "      <th>Location</th>\n",
       "      <th>Age</th>\n",
       "      <th>Salary</th>\n",
       "    </tr>\n",
       "  </thead>\n",
       "  <tbody>\n",
       "    <tr>\n",
       "      <th>0</th>\n",
       "      <td>1001</td>\n",
       "      <td>Ian</td>\n",
       "      <td>Marketing</td>\n",
       "      <td>Phoenix</td>\n",
       "      <td>60</td>\n",
       "      <td>42096</td>\n",
       "    </tr>\n",
       "    <tr>\n",
       "      <th>1</th>\n",
       "      <td>1002</td>\n",
       "      <td>Grace</td>\n",
       "      <td>HR</td>\n",
       "      <td>Los Angeles</td>\n",
       "      <td>45</td>\n",
       "      <td>68219</td>\n",
       "    </tr>\n",
       "    <tr>\n",
       "      <th>2</th>\n",
       "      <td>1003</td>\n",
       "      <td>Eva</td>\n",
       "      <td>Sales</td>\n",
       "      <td>New York</td>\n",
       "      <td>25</td>\n",
       "      <td>55736</td>\n",
       "    </tr>\n",
       "  </tbody>\n",
       "</table>\n",
       "</div>"
      ],
      "text/plain": [
       "   EmployeeID   Name Department     Location  Age  Salary\n",
       "0        1001    Ian  Marketing      Phoenix   60   42096\n",
       "1        1002  Grace         HR  Los Angeles   45   68219\n",
       "2        1003    Eva      Sales     New York   25   55736"
      ]
     },
     "execution_count": 21,
     "metadata": {},
     "output_type": "execute_result"
    }
   ],
   "source": [
    "# display the first 3 rows\n",
    "df.head(3)"
   ]
  },
  {
   "cell_type": "code",
   "execution_count": 22,
   "id": "bd209279-df9c-44c4-9071-961e6be8faf9",
   "metadata": {},
   "outputs": [
    {
     "data": {
      "text/html": [
       "<div>\n",
       "<style scoped>\n",
       "    .dataframe tbody tr th:only-of-type {\n",
       "        vertical-align: middle;\n",
       "    }\n",
       "\n",
       "    .dataframe tbody tr th {\n",
       "        vertical-align: top;\n",
       "    }\n",
       "\n",
       "    .dataframe thead th {\n",
       "        text-align: right;\n",
       "    }\n",
       "</style>\n",
       "<table border=\"1\" class=\"dataframe\">\n",
       "  <thead>\n",
       "    <tr style=\"text-align: right;\">\n",
       "      <th></th>\n",
       "      <th>EmployeeID</th>\n",
       "      <th>Name</th>\n",
       "      <th>Department</th>\n",
       "      <th>Location</th>\n",
       "      <th>Age</th>\n",
       "      <th>Salary</th>\n",
       "    </tr>\n",
       "  </thead>\n",
       "  <tbody>\n",
       "    <tr>\n",
       "      <th>0</th>\n",
       "      <td>1001</td>\n",
       "      <td>Ian</td>\n",
       "      <td>Marketing</td>\n",
       "      <td>Phoenix</td>\n",
       "      <td>60</td>\n",
       "      <td>42096</td>\n",
       "    </tr>\n",
       "    <tr>\n",
       "      <th>1</th>\n",
       "      <td>1002</td>\n",
       "      <td>Grace</td>\n",
       "      <td>HR</td>\n",
       "      <td>Los Angeles</td>\n",
       "      <td>45</td>\n",
       "      <td>68219</td>\n",
       "    </tr>\n",
       "    <tr>\n",
       "      <th>2</th>\n",
       "      <td>1003</td>\n",
       "      <td>Eva</td>\n",
       "      <td>Sales</td>\n",
       "      <td>New York</td>\n",
       "      <td>25</td>\n",
       "      <td>55736</td>\n",
       "    </tr>\n",
       "    <tr>\n",
       "      <th>3</th>\n",
       "      <td>1004</td>\n",
       "      <td>Charlie</td>\n",
       "      <td>HR</td>\n",
       "      <td>Chicago</td>\n",
       "      <td>44</td>\n",
       "      <td>57057</td>\n",
       "    </tr>\n",
       "    <tr>\n",
       "      <th>4</th>\n",
       "      <td>1005</td>\n",
       "      <td>Grace</td>\n",
       "      <td>Finance</td>\n",
       "      <td>Los Angeles</td>\n",
       "      <td>32</td>\n",
       "      <td>48955</td>\n",
       "    </tr>\n",
       "  </tbody>\n",
       "</table>\n",
       "</div>"
      ],
      "text/plain": [
       "   EmployeeID     Name Department     Location  Age  Salary\n",
       "0        1001      Ian  Marketing      Phoenix   60   42096\n",
       "1        1002    Grace         HR  Los Angeles   45   68219\n",
       "2        1003      Eva      Sales     New York   25   55736\n",
       "3        1004  Charlie         HR      Chicago   44   57057\n",
       "4        1005    Grace    Finance  Los Angeles   32   48955"
      ]
     },
     "execution_count": 22,
     "metadata": {},
     "output_type": "execute_result"
    }
   ],
   "source": [
    "# display first 5 rows\n",
    "df.head()    # head() fuction display 5 rows in default "
   ]
  },
  {
   "cell_type": "markdown",
   "id": "00c1d730-354a-4e49-ac78-63dd764db9dd",
   "metadata": {},
   "source": [
    "### **3. columns** - Used to view column names"
   ]
  },
  {
   "cell_type": "code",
   "execution_count": 24,
   "id": "3426ac1e-55dc-47ad-b468-3353c6471be2",
   "metadata": {},
   "outputs": [
    {
     "data": {
      "text/plain": [
       "Index(['EmployeeID', 'Name', 'Department', 'Location', 'Age', 'Salary'], dtype='object')"
      ]
     },
     "execution_count": 24,
     "metadata": {},
     "output_type": "execute_result"
    }
   ],
   "source": [
    "# display the column names\n",
    "df.columns"
   ]
  },
  {
   "cell_type": "markdown",
   "id": "1e83ff7e-fed8-4d77-b397-5a0e44cc5f67",
   "metadata": {},
   "source": [
    "### **4. dtypes** - Used to view datatype of each column"
   ]
  },
  {
   "cell_type": "code",
   "execution_count": 26,
   "id": "72c50b4f-3918-494b-81c9-522c8277d7b8",
   "metadata": {},
   "outputs": [
    {
     "data": {
      "text/plain": [
       "EmployeeID     int64\n",
       "Name          object\n",
       "Department    object\n",
       "Location      object\n",
       "Age            int64\n",
       "Salary         int64\n",
       "dtype: object"
      ]
     },
     "execution_count": 26,
     "metadata": {},
     "output_type": "execute_result"
    }
   ],
   "source": [
    "# display datatypes of all columns\n",
    "df.dtypes"
   ]
  },
  {
   "cell_type": "markdown",
   "id": "4fcf8f3f-61ab-4320-b86a-feab240a7993",
   "metadata": {},
   "source": [
    "1. **In this dataset EmployeeID, Age, Salary are of integer datatype**\n",
    "2. **And Name, Department, Location are of object datatype**"
   ]
  },
  {
   "cell_type": "markdown",
   "id": "5ee0ff9e-cf54-475f-a5a1-fee0d46bf46d",
   "metadata": {},
   "source": [
    "### **5. isnull()** - For checking missing values"
   ]
  },
  {
   "cell_type": "code",
   "execution_count": 29,
   "id": "baaf945f-2a25-468e-a176-69fbb916d6be",
   "metadata": {},
   "outputs": [
    {
     "data": {
      "text/html": [
       "<div>\n",
       "<style scoped>\n",
       "    .dataframe tbody tr th:only-of-type {\n",
       "        vertical-align: middle;\n",
       "    }\n",
       "\n",
       "    .dataframe tbody tr th {\n",
       "        vertical-align: top;\n",
       "    }\n",
       "\n",
       "    .dataframe thead th {\n",
       "        text-align: right;\n",
       "    }\n",
       "</style>\n",
       "<table border=\"1\" class=\"dataframe\">\n",
       "  <thead>\n",
       "    <tr style=\"text-align: right;\">\n",
       "      <th></th>\n",
       "      <th>EmployeeID</th>\n",
       "      <th>Name</th>\n",
       "      <th>Department</th>\n",
       "      <th>Location</th>\n",
       "      <th>Age</th>\n",
       "      <th>Salary</th>\n",
       "    </tr>\n",
       "  </thead>\n",
       "  <tbody>\n",
       "    <tr>\n",
       "      <th>0</th>\n",
       "      <td>False</td>\n",
       "      <td>False</td>\n",
       "      <td>False</td>\n",
       "      <td>False</td>\n",
       "      <td>False</td>\n",
       "      <td>False</td>\n",
       "    </tr>\n",
       "    <tr>\n",
       "      <th>1</th>\n",
       "      <td>False</td>\n",
       "      <td>False</td>\n",
       "      <td>False</td>\n",
       "      <td>False</td>\n",
       "      <td>False</td>\n",
       "      <td>False</td>\n",
       "    </tr>\n",
       "    <tr>\n",
       "      <th>2</th>\n",
       "      <td>False</td>\n",
       "      <td>False</td>\n",
       "      <td>False</td>\n",
       "      <td>False</td>\n",
       "      <td>False</td>\n",
       "      <td>False</td>\n",
       "    </tr>\n",
       "    <tr>\n",
       "      <th>3</th>\n",
       "      <td>False</td>\n",
       "      <td>False</td>\n",
       "      <td>False</td>\n",
       "      <td>False</td>\n",
       "      <td>False</td>\n",
       "      <td>False</td>\n",
       "    </tr>\n",
       "    <tr>\n",
       "      <th>4</th>\n",
       "      <td>False</td>\n",
       "      <td>False</td>\n",
       "      <td>False</td>\n",
       "      <td>False</td>\n",
       "      <td>False</td>\n",
       "      <td>False</td>\n",
       "    </tr>\n",
       "    <tr>\n",
       "      <th>...</th>\n",
       "      <td>...</td>\n",
       "      <td>...</td>\n",
       "      <td>...</td>\n",
       "      <td>...</td>\n",
       "      <td>...</td>\n",
       "      <td>...</td>\n",
       "    </tr>\n",
       "    <tr>\n",
       "      <th>95</th>\n",
       "      <td>False</td>\n",
       "      <td>False</td>\n",
       "      <td>False</td>\n",
       "      <td>False</td>\n",
       "      <td>False</td>\n",
       "      <td>False</td>\n",
       "    </tr>\n",
       "    <tr>\n",
       "      <th>96</th>\n",
       "      <td>False</td>\n",
       "      <td>False</td>\n",
       "      <td>False</td>\n",
       "      <td>False</td>\n",
       "      <td>False</td>\n",
       "      <td>False</td>\n",
       "    </tr>\n",
       "    <tr>\n",
       "      <th>97</th>\n",
       "      <td>False</td>\n",
       "      <td>False</td>\n",
       "      <td>False</td>\n",
       "      <td>False</td>\n",
       "      <td>False</td>\n",
       "      <td>False</td>\n",
       "    </tr>\n",
       "    <tr>\n",
       "      <th>98</th>\n",
       "      <td>False</td>\n",
       "      <td>False</td>\n",
       "      <td>False</td>\n",
       "      <td>False</td>\n",
       "      <td>False</td>\n",
       "      <td>False</td>\n",
       "    </tr>\n",
       "    <tr>\n",
       "      <th>99</th>\n",
       "      <td>False</td>\n",
       "      <td>False</td>\n",
       "      <td>False</td>\n",
       "      <td>False</td>\n",
       "      <td>False</td>\n",
       "      <td>False</td>\n",
       "    </tr>\n",
       "  </tbody>\n",
       "</table>\n",
       "<p>100 rows × 6 columns</p>\n",
       "</div>"
      ],
      "text/plain": [
       "    EmployeeID   Name  Department  Location    Age  Salary\n",
       "0        False  False       False     False  False   False\n",
       "1        False  False       False     False  False   False\n",
       "2        False  False       False     False  False   False\n",
       "3        False  False       False     False  False   False\n",
       "4        False  False       False     False  False   False\n",
       "..         ...    ...         ...       ...    ...     ...\n",
       "95       False  False       False     False  False   False\n",
       "96       False  False       False     False  False   False\n",
       "97       False  False       False     False  False   False\n",
       "98       False  False       False     False  False   False\n",
       "99       False  False       False     False  False   False\n",
       "\n",
       "[100 rows x 6 columns]"
      ]
     },
     "execution_count": 29,
     "metadata": {},
     "output_type": "execute_result"
    }
   ],
   "source": [
    "df.isnull()   # returns True where values are NAN and false otherwise and gives boolean output"
   ]
  },
  {
   "cell_type": "code",
   "execution_count": 30,
   "id": "4305716c-0dc3-4799-bcb4-c720ddf4be4d",
   "metadata": {},
   "outputs": [
    {
     "data": {
      "text/plain": [
       "EmployeeID    0\n",
       "Name          0\n",
       "Department    0\n",
       "Location      0\n",
       "Age           0\n",
       "Salary        0\n",
       "dtype: int64"
      ]
     },
     "execution_count": 30,
     "metadata": {},
     "output_type": "execute_result"
    }
   ],
   "source": [
    "# check for missing values \n",
    "df.isnull().sum()    # isnull() method checks if null and sum() method gives count of null values for each column"
   ]
  },
  {
   "cell_type": "markdown",
   "id": "c02ac4c4-4819-4bb0-97e7-5d99221c7d3c",
   "metadata": {},
   "source": [
    "### **6. duplicated()** - Used to check duplicates"
   ]
  },
  {
   "cell_type": "code",
   "execution_count": 32,
   "id": "fa247f38-36ad-47fa-8172-533f84ec79f0",
   "metadata": {},
   "outputs": [
    {
     "data": {
      "text/plain": [
       "0     False\n",
       "1     False\n",
       "2     False\n",
       "3     False\n",
       "4     False\n",
       "      ...  \n",
       "95    False\n",
       "96    False\n",
       "97    False\n",
       "98    False\n",
       "99    False\n",
       "Length: 100, dtype: bool"
      ]
     },
     "execution_count": 32,
     "metadata": {},
     "output_type": "execute_result"
    }
   ],
   "source": [
    "# check duplicate or not for each row\n",
    "df.duplicated()    # check each row is duplicate or not and return boolean output"
   ]
  },
  {
   "cell_type": "code",
   "execution_count": 33,
   "id": "83a17b05-9024-447d-8370-e6ae29e600d6",
   "metadata": {},
   "outputs": [
    {
     "data": {
      "text/plain": [
       "0"
      ]
     },
     "execution_count": 33,
     "metadata": {},
     "output_type": "execute_result"
    }
   ],
   "source": [
    "# get how many duplicate records in this dataset\n",
    "df.duplicated().sum()   "
   ]
  },
  {
   "cell_type": "code",
   "execution_count": 34,
   "id": "fbe21dd0-26b9-4d9e-933b-355f4ed50286",
   "metadata": {},
   "outputs": [
    {
     "data": {
      "text/plain": [
       "90"
      ]
     },
     "execution_count": 34,
     "metadata": {},
     "output_type": "execute_result"
    }
   ],
   "source": [
    "df['Name'].duplicated().sum()     # duplicates in Name column"
   ]
  },
  {
   "cell_type": "markdown",
   "id": "6f45838a-f21b-4d59-887a-5111dfb50fa3",
   "metadata": {},
   "source": [
    "### **7. describe()** - Used to get statistical summary of dataframe"
   ]
  },
  {
   "cell_type": "code",
   "execution_count": 36,
   "id": "815ec279-546f-4a88-b3cd-fa01d40c6a51",
   "metadata": {},
   "outputs": [
    {
     "data": {
      "text/html": [
       "<div>\n",
       "<style scoped>\n",
       "    .dataframe tbody tr th:only-of-type {\n",
       "        vertical-align: middle;\n",
       "    }\n",
       "\n",
       "    .dataframe tbody tr th {\n",
       "        vertical-align: top;\n",
       "    }\n",
       "\n",
       "    .dataframe thead th {\n",
       "        text-align: right;\n",
       "    }\n",
       "</style>\n",
       "<table border=\"1\" class=\"dataframe\">\n",
       "  <thead>\n",
       "    <tr style=\"text-align: right;\">\n",
       "      <th></th>\n",
       "      <th>EmployeeID</th>\n",
       "      <th>Age</th>\n",
       "      <th>Salary</th>\n",
       "    </tr>\n",
       "  </thead>\n",
       "  <tbody>\n",
       "    <tr>\n",
       "      <th>count</th>\n",
       "      <td>100.000000</td>\n",
       "      <td>100.000000</td>\n",
       "      <td>100.000000</td>\n",
       "    </tr>\n",
       "    <tr>\n",
       "      <th>mean</th>\n",
       "      <td>1050.500000</td>\n",
       "      <td>39.660000</td>\n",
       "      <td>76764.470000</td>\n",
       "    </tr>\n",
       "    <tr>\n",
       "      <th>std</th>\n",
       "      <td>29.011492</td>\n",
       "      <td>11.701006</td>\n",
       "      <td>23632.927154</td>\n",
       "    </tr>\n",
       "    <tr>\n",
       "      <th>min</th>\n",
       "      <td>1001.000000</td>\n",
       "      <td>22.000000</td>\n",
       "      <td>40321.000000</td>\n",
       "    </tr>\n",
       "    <tr>\n",
       "      <th>25%</th>\n",
       "      <td>1025.750000</td>\n",
       "      <td>28.000000</td>\n",
       "      <td>56902.750000</td>\n",
       "    </tr>\n",
       "    <tr>\n",
       "      <th>50%</th>\n",
       "      <td>1050.500000</td>\n",
       "      <td>38.500000</td>\n",
       "      <td>71988.500000</td>\n",
       "    </tr>\n",
       "    <tr>\n",
       "      <th>75%</th>\n",
       "      <td>1075.250000</td>\n",
       "      <td>50.250000</td>\n",
       "      <td>96983.500000</td>\n",
       "    </tr>\n",
       "    <tr>\n",
       "      <th>max</th>\n",
       "      <td>1100.000000</td>\n",
       "      <td>60.000000</td>\n",
       "      <td>119368.000000</td>\n",
       "    </tr>\n",
       "  </tbody>\n",
       "</table>\n",
       "</div>"
      ],
      "text/plain": [
       "        EmployeeID         Age         Salary\n",
       "count   100.000000  100.000000     100.000000\n",
       "mean   1050.500000   39.660000   76764.470000\n",
       "std      29.011492   11.701006   23632.927154\n",
       "min    1001.000000   22.000000   40321.000000\n",
       "25%    1025.750000   28.000000   56902.750000\n",
       "50%    1050.500000   38.500000   71988.500000\n",
       "75%    1075.250000   50.250000   96983.500000\n",
       "max    1100.000000   60.000000  119368.000000"
      ]
     },
     "execution_count": 36,
     "metadata": {},
     "output_type": "execute_result"
    }
   ],
   "source": [
    "# get the basic statistical summary of numerical columns\n",
    "df.describe()"
   ]
  },
  {
   "cell_type": "code",
   "execution_count": 37,
   "id": "e57e3384-0e52-4532-ae58-0e9abf34338b",
   "metadata": {},
   "outputs": [
    {
     "data": {
      "text/html": [
       "<div>\n",
       "<style scoped>\n",
       "    .dataframe tbody tr th:only-of-type {\n",
       "        vertical-align: middle;\n",
       "    }\n",
       "\n",
       "    .dataframe tbody tr th {\n",
       "        vertical-align: top;\n",
       "    }\n",
       "\n",
       "    .dataframe thead th {\n",
       "        text-align: right;\n",
       "    }\n",
       "</style>\n",
       "<table border=\"1\" class=\"dataframe\">\n",
       "  <thead>\n",
       "    <tr style=\"text-align: right;\">\n",
       "      <th></th>\n",
       "      <th>EmployeeID</th>\n",
       "      <th>Name</th>\n",
       "      <th>Department</th>\n",
       "      <th>Location</th>\n",
       "      <th>Age</th>\n",
       "      <th>Salary</th>\n",
       "    </tr>\n",
       "  </thead>\n",
       "  <tbody>\n",
       "    <tr>\n",
       "      <th>count</th>\n",
       "      <td>100.000000</td>\n",
       "      <td>100</td>\n",
       "      <td>100</td>\n",
       "      <td>100</td>\n",
       "      <td>100.000000</td>\n",
       "      <td>100.000000</td>\n",
       "    </tr>\n",
       "    <tr>\n",
       "      <th>unique</th>\n",
       "      <td>NaN</td>\n",
       "      <td>10</td>\n",
       "      <td>5</td>\n",
       "      <td>5</td>\n",
       "      <td>NaN</td>\n",
       "      <td>NaN</td>\n",
       "    </tr>\n",
       "    <tr>\n",
       "      <th>top</th>\n",
       "      <td>NaN</td>\n",
       "      <td>Grace</td>\n",
       "      <td>IT</td>\n",
       "      <td>Chicago</td>\n",
       "      <td>NaN</td>\n",
       "      <td>NaN</td>\n",
       "    </tr>\n",
       "    <tr>\n",
       "      <th>freq</th>\n",
       "      <td>NaN</td>\n",
       "      <td>17</td>\n",
       "      <td>26</td>\n",
       "      <td>26</td>\n",
       "      <td>NaN</td>\n",
       "      <td>NaN</td>\n",
       "    </tr>\n",
       "    <tr>\n",
       "      <th>mean</th>\n",
       "      <td>1050.500000</td>\n",
       "      <td>NaN</td>\n",
       "      <td>NaN</td>\n",
       "      <td>NaN</td>\n",
       "      <td>39.660000</td>\n",
       "      <td>76764.470000</td>\n",
       "    </tr>\n",
       "    <tr>\n",
       "      <th>std</th>\n",
       "      <td>29.011492</td>\n",
       "      <td>NaN</td>\n",
       "      <td>NaN</td>\n",
       "      <td>NaN</td>\n",
       "      <td>11.701006</td>\n",
       "      <td>23632.927154</td>\n",
       "    </tr>\n",
       "    <tr>\n",
       "      <th>min</th>\n",
       "      <td>1001.000000</td>\n",
       "      <td>NaN</td>\n",
       "      <td>NaN</td>\n",
       "      <td>NaN</td>\n",
       "      <td>22.000000</td>\n",
       "      <td>40321.000000</td>\n",
       "    </tr>\n",
       "    <tr>\n",
       "      <th>25%</th>\n",
       "      <td>1025.750000</td>\n",
       "      <td>NaN</td>\n",
       "      <td>NaN</td>\n",
       "      <td>NaN</td>\n",
       "      <td>28.000000</td>\n",
       "      <td>56902.750000</td>\n",
       "    </tr>\n",
       "    <tr>\n",
       "      <th>50%</th>\n",
       "      <td>1050.500000</td>\n",
       "      <td>NaN</td>\n",
       "      <td>NaN</td>\n",
       "      <td>NaN</td>\n",
       "      <td>38.500000</td>\n",
       "      <td>71988.500000</td>\n",
       "    </tr>\n",
       "    <tr>\n",
       "      <th>75%</th>\n",
       "      <td>1075.250000</td>\n",
       "      <td>NaN</td>\n",
       "      <td>NaN</td>\n",
       "      <td>NaN</td>\n",
       "      <td>50.250000</td>\n",
       "      <td>96983.500000</td>\n",
       "    </tr>\n",
       "    <tr>\n",
       "      <th>max</th>\n",
       "      <td>1100.000000</td>\n",
       "      <td>NaN</td>\n",
       "      <td>NaN</td>\n",
       "      <td>NaN</td>\n",
       "      <td>60.000000</td>\n",
       "      <td>119368.000000</td>\n",
       "    </tr>\n",
       "  </tbody>\n",
       "</table>\n",
       "</div>"
      ],
      "text/plain": [
       "         EmployeeID   Name Department Location         Age         Salary\n",
       "count    100.000000    100        100      100  100.000000     100.000000\n",
       "unique          NaN     10          5        5         NaN            NaN\n",
       "top             NaN  Grace         IT  Chicago         NaN            NaN\n",
       "freq            NaN     17         26       26         NaN            NaN\n",
       "mean    1050.500000    NaN        NaN      NaN   39.660000   76764.470000\n",
       "std       29.011492    NaN        NaN      NaN   11.701006   23632.927154\n",
       "min     1001.000000    NaN        NaN      NaN   22.000000   40321.000000\n",
       "25%     1025.750000    NaN        NaN      NaN   28.000000   56902.750000\n",
       "50%     1050.500000    NaN        NaN      NaN   38.500000   71988.500000\n",
       "75%     1075.250000    NaN        NaN      NaN   50.250000   96983.500000\n",
       "max     1100.000000    NaN        NaN      NaN   60.000000  119368.000000"
      ]
     },
     "execution_count": 37,
     "metadata": {},
     "output_type": "execute_result"
    }
   ],
   "source": [
    "# to get statistical summary of numerical as well as categorical columns\n",
    "df.describe(include = \"all\")"
   ]
  },
  {
   "cell_type": "markdown",
   "id": "1fef9074-6b6b-4902-b2f0-6af9d81bce5f",
   "metadata": {},
   "source": [
    "- **This dataset has 100 entries with no missing and duplicate values**\n",
    "- **The average age of the employee is 39**\n",
    "- **The minimum age of the employee is 22**\n",
    "- **The maximum age of the employee is 60**\n",
    "- **The average salary of the employee is 76764**\n",
    "- **The minimum salary of the employee is 40321**\n",
    "- **The maximum salary of the employee is 119368**"
   ]
  },
  {
   "cell_type": "markdown",
   "id": "60a87d8e-229c-476f-80a6-1dfb316fb1b0",
   "metadata": {},
   "source": [
    "### **8. unique()** - Used to get unique values from a specific column "
   ]
  },
  {
   "cell_type": "code",
   "execution_count": 40,
   "id": "b3b2bb48-5ae3-4261-9c0d-47201d7af4e4",
   "metadata": {},
   "outputs": [
    {
     "data": {
      "text/plain": [
       "array(['Ian', 'Grace', 'Eva', 'Charlie', 'Jane', 'Helen', 'Bob', 'David',\n",
       "       'Alice', 'Frank'], dtype=object)"
      ]
     },
     "execution_count": 40,
     "metadata": {},
     "output_type": "execute_result"
    }
   ],
   "source": [
    "# display unique values in a name column\n",
    "df['Name'].unique()"
   ]
  },
  {
   "cell_type": "code",
   "execution_count": 41,
   "id": "9f4ead94-76a4-47af-84d3-ebd9509ee189",
   "metadata": {},
   "outputs": [
    {
     "data": {
      "text/plain": [
       "array(['Marketing', 'HR', 'Sales', 'Finance', 'IT'], dtype=object)"
      ]
     },
     "execution_count": 41,
     "metadata": {},
     "output_type": "execute_result"
    }
   ],
   "source": [
    "# display the unique values in department column\n",
    "df['Department'].unique()"
   ]
  },
  {
   "cell_type": "code",
   "execution_count": 42,
   "id": "21b41beb-2522-4687-b413-4ea69800709b",
   "metadata": {},
   "outputs": [
    {
     "data": {
      "text/plain": [
       "array(['Phoenix', 'Los Angeles', 'New York', 'Chicago', 'Houston'],\n",
       "      dtype=object)"
      ]
     },
     "execution_count": 42,
     "metadata": {},
     "output_type": "execute_result"
    }
   ],
   "source": [
    "# display the unique values in Location column\n",
    "df['Location'].unique()"
   ]
  },
  {
   "cell_type": "markdown",
   "id": "45b03178-b560-410f-88ad-8d59d59fcb5f",
   "metadata": {},
   "source": [
    "### **9. value_counts()** - Count the number of occurences of each unique value in a column"
   ]
  },
  {
   "cell_type": "code",
   "execution_count": 44,
   "id": "58b7b65c-ffd1-4ac8-bc99-6dd7c043af99",
   "metadata": {},
   "outputs": [
    {
     "data": {
      "text/plain": [
       "Location\n",
       "Chicago        26\n",
       "Houston        20\n",
       "Phoenix        19\n",
       "New York       18\n",
       "Los Angeles    17\n",
       "Name: count, dtype: int64"
      ]
     },
     "execution_count": 44,
     "metadata": {},
     "output_type": "execute_result"
    }
   ],
   "source": [
    "# count the number of employees of location \n",
    "df['Location'].value_counts()"
   ]
  },
  {
   "cell_type": "code",
   "execution_count": 45,
   "id": "8c033497-97ba-4c2c-aab0-07c1951bb907",
   "metadata": {},
   "outputs": [
    {
     "data": {
      "text/plain": [
       "Department\n",
       "IT           26\n",
       "Finance      24\n",
       "HR           18\n",
       "Marketing    17\n",
       "Sales        15\n",
       "Name: count, dtype: int64"
      ]
     },
     "execution_count": 45,
     "metadata": {},
     "output_type": "execute_result"
    }
   ],
   "source": [
    "# count the number of employees of each department\n",
    "df['Department'].value_counts()"
   ]
  },
  {
   "cell_type": "code",
   "execution_count": 46,
   "id": "2a274ea7-3131-4756-9eea-70ec4c73542f",
   "metadata": {},
   "outputs": [
    {
     "data": {
      "text/plain": [
       "Name\n",
       "Grace      17\n",
       "Ian        14\n",
       "Helen      12\n",
       "Jane       10\n",
       "Bob        10\n",
       "Eva         9\n",
       "Charlie     9\n",
       "David       8\n",
       "Alice       7\n",
       "Frank       4\n",
       "Name: count, dtype: int64"
      ]
     },
     "execution_count": 46,
     "metadata": {},
     "output_type": "execute_result"
    }
   ],
   "source": [
    "# find no of employees from each name\n",
    "df['Name'].value_counts()"
   ]
  },
  {
   "cell_type": "markdown",
   "id": "26a39a05-73a6-431d-b058-de8d4f979b7f",
   "metadata": {},
   "source": [
    "### **10. nunique()** - Count no of unique values in a column"
   ]
  },
  {
   "cell_type": "code",
   "execution_count": 48,
   "id": "54f9ed32-d9d7-435a-8dd9-3c84d015185a",
   "metadata": {},
   "outputs": [
    {
     "data": {
      "text/plain": [
       "5"
      ]
     },
     "execution_count": 48,
     "metadata": {},
     "output_type": "execute_result"
    }
   ],
   "source": [
    "# find the number of unique locations\n",
    "df['Location'].nunique()"
   ]
  },
  {
   "cell_type": "code",
   "execution_count": 49,
   "id": "2ca4a276-544e-4660-8ec2-9524befad876",
   "metadata": {},
   "outputs": [
    {
     "data": {
      "text/plain": [
       "5"
      ]
     },
     "execution_count": 49,
     "metadata": {},
     "output_type": "execute_result"
    }
   ],
   "source": [
    "# find the number of unique department\n",
    "df['Department'].nunique()"
   ]
  },
  {
   "cell_type": "code",
   "execution_count": 50,
   "id": "bb657c2e-0537-46be-848d-908b7bb1e3f0",
   "metadata": {},
   "outputs": [
    {
     "data": {
      "text/plain": [
       "10"
      ]
     },
     "execution_count": 50,
     "metadata": {},
     "output_type": "execute_result"
    }
   ],
   "source": [
    "# find the number of unique names\n",
    "df['Name'].nunique()"
   ]
  },
  {
   "cell_type": "markdown",
   "id": "6fe80592-6df2-4fb7-b1e4-c1a31ab0aa7c",
   "metadata": {},
   "source": [
    "### **11. info()** -  Used to get summary of dataframe"
   ]
  },
  {
   "cell_type": "code",
   "execution_count": 52,
   "id": "605b3143-cb2b-4464-8308-e826bd16fcfa",
   "metadata": {},
   "outputs": [
    {
     "name": "stdout",
     "output_type": "stream",
     "text": [
      "<class 'pandas.core.frame.DataFrame'>\n",
      "RangeIndex: 100 entries, 0 to 99\n",
      "Data columns (total 6 columns):\n",
      " #   Column      Non-Null Count  Dtype \n",
      "---  ------      --------------  ----- \n",
      " 0   EmployeeID  100 non-null    int64 \n",
      " 1   Name        100 non-null    object\n",
      " 2   Department  100 non-null    object\n",
      " 3   Location    100 non-null    object\n",
      " 4   Age         100 non-null    int64 \n",
      " 5   Salary      100 non-null    int64 \n",
      "dtypes: int64(3), object(3)\n",
      "memory usage: 4.8+ KB\n"
     ]
    }
   ],
   "source": [
    "df.info()"
   ]
  },
  {
   "cell_type": "markdown",
   "id": "c486dafa-45be-4fb1-ae53-2642005812bd",
   "metadata": {},
   "source": [
    "### **12. max() / min()** - Returns maximum and minimum values"
   ]
  },
  {
   "cell_type": "code",
   "execution_count": 54,
   "id": "86d6944d-159b-4373-873f-98edb95e3378",
   "metadata": {},
   "outputs": [
    {
     "name": "stdout",
     "output_type": "stream",
     "text": [
      "Max marks are : 119368\n",
      "Min marks are : 40321\n"
     ]
    }
   ],
   "source": [
    "# what is maximum and minimum salary of employee\n",
    "print(\"Max marks are :\", df['Salary'].max())\n",
    "print(\"Min marks are :\", df['Salary'].min())"
   ]
  },
  {
   "cell_type": "markdown",
   "id": "75b7702a-5242-4a05-bf5f-5fd3a5b4eda2",
   "metadata": {},
   "source": [
    "### **13. sum()** - Used to calculate sum of elements in a dataframe"
   ]
  },
  {
   "cell_type": "code",
   "execution_count": 56,
   "id": "97e66a15-8cec-4940-b8eb-faa81dd5e2bc",
   "metadata": {},
   "outputs": [
    {
     "data": {
      "text/html": [
       "<div>\n",
       "<style scoped>\n",
       "    .dataframe tbody tr th:only-of-type {\n",
       "        vertical-align: middle;\n",
       "    }\n",
       "\n",
       "    .dataframe tbody tr th {\n",
       "        vertical-align: top;\n",
       "    }\n",
       "\n",
       "    .dataframe thead th {\n",
       "        text-align: right;\n",
       "    }\n",
       "</style>\n",
       "<table border=\"1\" class=\"dataframe\">\n",
       "  <thead>\n",
       "    <tr style=\"text-align: right;\">\n",
       "      <th></th>\n",
       "      <th>EmployeeID</th>\n",
       "      <th>Name</th>\n",
       "      <th>Department</th>\n",
       "      <th>Location</th>\n",
       "      <th>Age</th>\n",
       "      <th>Salary</th>\n",
       "    </tr>\n",
       "  </thead>\n",
       "  <tbody>\n",
       "    <tr>\n",
       "      <th>0</th>\n",
       "      <td>1001</td>\n",
       "      <td>Ian</td>\n",
       "      <td>Marketing</td>\n",
       "      <td>Phoenix</td>\n",
       "      <td>60</td>\n",
       "      <td>42096</td>\n",
       "    </tr>\n",
       "    <tr>\n",
       "      <th>1</th>\n",
       "      <td>1002</td>\n",
       "      <td>Grace</td>\n",
       "      <td>HR</td>\n",
       "      <td>Los Angeles</td>\n",
       "      <td>45</td>\n",
       "      <td>68219</td>\n",
       "    </tr>\n",
       "    <tr>\n",
       "      <th>2</th>\n",
       "      <td>1003</td>\n",
       "      <td>Eva</td>\n",
       "      <td>Sales</td>\n",
       "      <td>New York</td>\n",
       "      <td>25</td>\n",
       "      <td>55736</td>\n",
       "    </tr>\n",
       "    <tr>\n",
       "      <th>3</th>\n",
       "      <td>1004</td>\n",
       "      <td>Charlie</td>\n",
       "      <td>HR</td>\n",
       "      <td>Chicago</td>\n",
       "      <td>44</td>\n",
       "      <td>57057</td>\n",
       "    </tr>\n",
       "    <tr>\n",
       "      <th>4</th>\n",
       "      <td>1005</td>\n",
       "      <td>Grace</td>\n",
       "      <td>Finance</td>\n",
       "      <td>Los Angeles</td>\n",
       "      <td>32</td>\n",
       "      <td>48955</td>\n",
       "    </tr>\n",
       "  </tbody>\n",
       "</table>\n",
       "</div>"
      ],
      "text/plain": [
       "   EmployeeID     Name Department     Location  Age  Salary\n",
       "0        1001      Ian  Marketing      Phoenix   60   42096\n",
       "1        1002    Grace         HR  Los Angeles   45   68219\n",
       "2        1003      Eva      Sales     New York   25   55736\n",
       "3        1004  Charlie         HR      Chicago   44   57057\n",
       "4        1005    Grace    Finance  Los Angeles   32   48955"
      ]
     },
     "execution_count": 56,
     "metadata": {},
     "output_type": "execute_result"
    }
   ],
   "source": [
    "df.head()"
   ]
  },
  {
   "cell_type": "code",
   "execution_count": 57,
   "id": "31bd0976-fa01-49fb-be7b-d17a3135c9ef",
   "metadata": {},
   "outputs": [
    {
     "data": {
      "text/plain": [
       "18"
      ]
     },
     "execution_count": 57,
     "metadata": {},
     "output_type": "execute_result"
    }
   ],
   "source": [
    "# how many employees are HR\n",
    "(df['Department'] == \"HR\").sum()"
   ]
  },
  {
   "cell_type": "code",
   "execution_count": 58,
   "id": "797a3371-6fae-4dd0-80cb-809f348ed77d",
   "metadata": {},
   "outputs": [
    {
     "data": {
      "text/plain": [
       "19"
      ]
     },
     "execution_count": 58,
     "metadata": {},
     "output_type": "execute_result"
    }
   ],
   "source": [
    "# how many employee has location Phoenix\n",
    "(df['Location'] == \"Phoenix\").sum()"
   ]
  },
  {
   "cell_type": "code",
   "execution_count": 59,
   "id": "9c45e99a-e6f2-4f67-a9fa-f8046cfaa9bb",
   "metadata": {},
   "outputs": [
    {
     "data": {
      "text/plain": [
       "3"
      ]
     },
     "execution_count": 59,
     "metadata": {},
     "output_type": "execute_result"
    }
   ],
   "source": [
    "# how many employees of age = 60\n",
    "(df['Age'] == 60).sum()"
   ]
  },
  {
   "cell_type": "markdown",
   "id": "3c0c7693-fa5f-4afa-be31-8571d90ab02a",
   "metadata": {},
   "source": [
    "### **14. len()** - length or entries in dataframe"
   ]
  },
  {
   "cell_type": "code",
   "execution_count": 61,
   "id": "4854a195-5c42-428f-9028-6e7695d92a2f",
   "metadata": {},
   "outputs": [
    {
     "data": {
      "text/plain": [
       "100"
      ]
     },
     "execution_count": 61,
     "metadata": {},
     "output_type": "execute_result"
    }
   ],
   "source": [
    "len(df)"
   ]
  },
  {
   "cell_type": "markdown",
   "id": "73b64d22-d8c5-4f4b-9145-0bc27faf7675",
   "metadata": {},
   "source": [
    "### **15. index()** - Returns the row index"
   ]
  },
  {
   "cell_type": "code",
   "execution_count": 63,
   "id": "bbdbbf4c-fe95-407b-b0b8-e21fdf29b528",
   "metadata": {},
   "outputs": [
    {
     "data": {
      "text/plain": [
       "RangeIndex(start=0, stop=100, step=1)"
      ]
     },
     "execution_count": 63,
     "metadata": {},
     "output_type": "execute_result"
    }
   ],
   "source": [
    "df.index"
   ]
  },
  {
   "cell_type": "markdown",
   "id": "0058e3f9-840f-4db3-9ea3-e4d133de23e8",
   "metadata": {},
   "source": [
    "### **16. rename()** - rename the specified column or row"
   ]
  },
  {
   "cell_type": "code",
   "execution_count": 65,
   "id": "9d422083-85a7-407d-8424-94f2be79bf99",
   "metadata": {},
   "outputs": [],
   "source": [
    "df.rename(columns = {\"EmployeeID\":\"ID\"}, inplace = True)"
   ]
  },
  {
   "cell_type": "code",
   "execution_count": 66,
   "id": "7863ebf2-7d4c-43c7-9fbf-e25149741548",
   "metadata": {},
   "outputs": [
    {
     "data": {
      "text/html": [
       "<div>\n",
       "<style scoped>\n",
       "    .dataframe tbody tr th:only-of-type {\n",
       "        vertical-align: middle;\n",
       "    }\n",
       "\n",
       "    .dataframe tbody tr th {\n",
       "        vertical-align: top;\n",
       "    }\n",
       "\n",
       "    .dataframe thead th {\n",
       "        text-align: right;\n",
       "    }\n",
       "</style>\n",
       "<table border=\"1\" class=\"dataframe\">\n",
       "  <thead>\n",
       "    <tr style=\"text-align: right;\">\n",
       "      <th></th>\n",
       "      <th>ID</th>\n",
       "      <th>Name</th>\n",
       "      <th>Department</th>\n",
       "      <th>Location</th>\n",
       "      <th>Age</th>\n",
       "      <th>Salary</th>\n",
       "    </tr>\n",
       "  </thead>\n",
       "  <tbody>\n",
       "    <tr>\n",
       "      <th>0</th>\n",
       "      <td>1001</td>\n",
       "      <td>Ian</td>\n",
       "      <td>Marketing</td>\n",
       "      <td>Phoenix</td>\n",
       "      <td>60</td>\n",
       "      <td>42096</td>\n",
       "    </tr>\n",
       "    <tr>\n",
       "      <th>1</th>\n",
       "      <td>1002</td>\n",
       "      <td>Grace</td>\n",
       "      <td>HR</td>\n",
       "      <td>Los Angeles</td>\n",
       "      <td>45</td>\n",
       "      <td>68219</td>\n",
       "    </tr>\n",
       "    <tr>\n",
       "      <th>2</th>\n",
       "      <td>1003</td>\n",
       "      <td>Eva</td>\n",
       "      <td>Sales</td>\n",
       "      <td>New York</td>\n",
       "      <td>25</td>\n",
       "      <td>55736</td>\n",
       "    </tr>\n",
       "    <tr>\n",
       "      <th>3</th>\n",
       "      <td>1004</td>\n",
       "      <td>Charlie</td>\n",
       "      <td>HR</td>\n",
       "      <td>Chicago</td>\n",
       "      <td>44</td>\n",
       "      <td>57057</td>\n",
       "    </tr>\n",
       "    <tr>\n",
       "      <th>4</th>\n",
       "      <td>1005</td>\n",
       "      <td>Grace</td>\n",
       "      <td>Finance</td>\n",
       "      <td>Los Angeles</td>\n",
       "      <td>32</td>\n",
       "      <td>48955</td>\n",
       "    </tr>\n",
       "  </tbody>\n",
       "</table>\n",
       "</div>"
      ],
      "text/plain": [
       "     ID     Name Department     Location  Age  Salary\n",
       "0  1001      Ian  Marketing      Phoenix   60   42096\n",
       "1  1002    Grace         HR  Los Angeles   45   68219\n",
       "2  1003      Eva      Sales     New York   25   55736\n",
       "3  1004  Charlie         HR      Chicago   44   57057\n",
       "4  1005    Grace    Finance  Los Angeles   32   48955"
      ]
     },
     "execution_count": 66,
     "metadata": {},
     "output_type": "execute_result"
    }
   ],
   "source": [
    "df.head()    # display first five rows"
   ]
  },
  {
   "cell_type": "markdown",
   "id": "4311fc13-49f2-4415-83b5-33b13fd78d6e",
   "metadata": {},
   "source": [
    "### **17. sort_values()** - Sort values"
   ]
  },
  {
   "cell_type": "code",
   "execution_count": 68,
   "id": "b573b911-4ea2-4ff1-aa55-652d22cba59f",
   "metadata": {},
   "outputs": [
    {
     "data": {
      "text/html": [
       "<div>\n",
       "<style scoped>\n",
       "    .dataframe tbody tr th:only-of-type {\n",
       "        vertical-align: middle;\n",
       "    }\n",
       "\n",
       "    .dataframe tbody tr th {\n",
       "        vertical-align: top;\n",
       "    }\n",
       "\n",
       "    .dataframe thead th {\n",
       "        text-align: right;\n",
       "    }\n",
       "</style>\n",
       "<table border=\"1\" class=\"dataframe\">\n",
       "  <thead>\n",
       "    <tr style=\"text-align: right;\">\n",
       "      <th></th>\n",
       "      <th>ID</th>\n",
       "      <th>Name</th>\n",
       "      <th>Department</th>\n",
       "      <th>Location</th>\n",
       "      <th>Age</th>\n",
       "      <th>Salary</th>\n",
       "    </tr>\n",
       "  </thead>\n",
       "  <tbody>\n",
       "    <tr>\n",
       "      <th>54</th>\n",
       "      <td>1055</td>\n",
       "      <td>Helen</td>\n",
       "      <td>IT</td>\n",
       "      <td>Los Angeles</td>\n",
       "      <td>56</td>\n",
       "      <td>119368</td>\n",
       "    </tr>\n",
       "    <tr>\n",
       "      <th>24</th>\n",
       "      <td>1025</td>\n",
       "      <td>Jane</td>\n",
       "      <td>HR</td>\n",
       "      <td>Chicago</td>\n",
       "      <td>27</td>\n",
       "      <td>119311</td>\n",
       "    </tr>\n",
       "    <tr>\n",
       "      <th>51</th>\n",
       "      <td>1052</td>\n",
       "      <td>Ian</td>\n",
       "      <td>HR</td>\n",
       "      <td>New York</td>\n",
       "      <td>41</td>\n",
       "      <td>117742</td>\n",
       "    </tr>\n",
       "    <tr>\n",
       "      <th>37</th>\n",
       "      <td>1038</td>\n",
       "      <td>Eva</td>\n",
       "      <td>IT</td>\n",
       "      <td>Phoenix</td>\n",
       "      <td>22</td>\n",
       "      <td>117485</td>\n",
       "    </tr>\n",
       "    <tr>\n",
       "      <th>85</th>\n",
       "      <td>1086</td>\n",
       "      <td>Ian</td>\n",
       "      <td>Finance</td>\n",
       "      <td>New York</td>\n",
       "      <td>41</td>\n",
       "      <td>116158</td>\n",
       "    </tr>\n",
       "  </tbody>\n",
       "</table>\n",
       "</div>"
      ],
      "text/plain": [
       "      ID   Name Department     Location  Age  Salary\n",
       "54  1055  Helen         IT  Los Angeles   56  119368\n",
       "24  1025   Jane         HR      Chicago   27  119311\n",
       "51  1052    Ian         HR     New York   41  117742\n",
       "37  1038    Eva         IT      Phoenix   22  117485\n",
       "85  1086    Ian    Finance     New York   41  116158"
      ]
     },
     "execution_count": 68,
     "metadata": {},
     "output_type": "execute_result"
    }
   ],
   "source": [
    "# sort the records by Salary in descending\n",
    "df.sort_values(by = 'Salary', ascending = False).head()"
   ]
  },
  {
   "cell_type": "code",
   "execution_count": 69,
   "id": "d52c8c7b-83c7-4da2-b54a-ed452dd1b85e",
   "metadata": {},
   "outputs": [
    {
     "data": {
      "text/html": [
       "<div>\n",
       "<style scoped>\n",
       "    .dataframe tbody tr th:only-of-type {\n",
       "        vertical-align: middle;\n",
       "    }\n",
       "\n",
       "    .dataframe tbody tr th {\n",
       "        vertical-align: top;\n",
       "    }\n",
       "\n",
       "    .dataframe thead th {\n",
       "        text-align: right;\n",
       "    }\n",
       "</style>\n",
       "<table border=\"1\" class=\"dataframe\">\n",
       "  <thead>\n",
       "    <tr style=\"text-align: right;\">\n",
       "      <th></th>\n",
       "      <th>ID</th>\n",
       "      <th>Name</th>\n",
       "      <th>Department</th>\n",
       "      <th>Location</th>\n",
       "      <th>Age</th>\n",
       "      <th>Salary</th>\n",
       "    </tr>\n",
       "  </thead>\n",
       "  <tbody>\n",
       "    <tr>\n",
       "      <th>0</th>\n",
       "      <td>1001</td>\n",
       "      <td>Ian</td>\n",
       "      <td>Marketing</td>\n",
       "      <td>Phoenix</td>\n",
       "      <td>60</td>\n",
       "      <td>42096</td>\n",
       "    </tr>\n",
       "    <tr>\n",
       "      <th>12</th>\n",
       "      <td>1013</td>\n",
       "      <td>Grace</td>\n",
       "      <td>HR</td>\n",
       "      <td>Houston</td>\n",
       "      <td>60</td>\n",
       "      <td>67425</td>\n",
       "    </tr>\n",
       "    <tr>\n",
       "      <th>71</th>\n",
       "      <td>1072</td>\n",
       "      <td>Jane</td>\n",
       "      <td>Sales</td>\n",
       "      <td>New York</td>\n",
       "      <td>60</td>\n",
       "      <td>61215</td>\n",
       "    </tr>\n",
       "    <tr>\n",
       "      <th>45</th>\n",
       "      <td>1046</td>\n",
       "      <td>Bob</td>\n",
       "      <td>Finance</td>\n",
       "      <td>New York</td>\n",
       "      <td>59</td>\n",
       "      <td>57004</td>\n",
       "    </tr>\n",
       "    <tr>\n",
       "      <th>18</th>\n",
       "      <td>1019</td>\n",
       "      <td>David</td>\n",
       "      <td>Finance</td>\n",
       "      <td>Chicago</td>\n",
       "      <td>59</td>\n",
       "      <td>59458</td>\n",
       "    </tr>\n",
       "  </tbody>\n",
       "</table>\n",
       "</div>"
      ],
      "text/plain": [
       "      ID   Name Department  Location  Age  Salary\n",
       "0   1001    Ian  Marketing   Phoenix   60   42096\n",
       "12  1013  Grace         HR   Houston   60   67425\n",
       "71  1072   Jane      Sales  New York   60   61215\n",
       "45  1046    Bob    Finance  New York   59   57004\n",
       "18  1019  David    Finance   Chicago   59   59458"
      ]
     },
     "execution_count": 69,
     "metadata": {},
     "output_type": "execute_result"
    }
   ],
   "source": [
    "# sort the records by age descending\n",
    "df.sort_values(by = \"Age\", ascending = False).head()"
   ]
  },
  {
   "cell_type": "code",
   "execution_count": 70,
   "id": "4fa8b5b7-0e2a-49e3-bee6-9ca41c37d371",
   "metadata": {},
   "outputs": [
    {
     "data": {
      "text/html": [
       "<div>\n",
       "<style scoped>\n",
       "    .dataframe tbody tr th:only-of-type {\n",
       "        vertical-align: middle;\n",
       "    }\n",
       "\n",
       "    .dataframe tbody tr th {\n",
       "        vertical-align: top;\n",
       "    }\n",
       "\n",
       "    .dataframe thead th {\n",
       "        text-align: right;\n",
       "    }\n",
       "</style>\n",
       "<table border=\"1\" class=\"dataframe\">\n",
       "  <thead>\n",
       "    <tr style=\"text-align: right;\">\n",
       "      <th></th>\n",
       "      <th>ID</th>\n",
       "      <th>Name</th>\n",
       "      <th>Department</th>\n",
       "      <th>Location</th>\n",
       "      <th>Age</th>\n",
       "      <th>Salary</th>\n",
       "    </tr>\n",
       "  </thead>\n",
       "  <tbody>\n",
       "    <tr>\n",
       "      <th>41</th>\n",
       "      <td>1042</td>\n",
       "      <td>Grace</td>\n",
       "      <td>IT</td>\n",
       "      <td>Chicago</td>\n",
       "      <td>48</td>\n",
       "      <td>64992</td>\n",
       "    </tr>\n",
       "    <tr>\n",
       "      <th>67</th>\n",
       "      <td>1068</td>\n",
       "      <td>Eva</td>\n",
       "      <td>IT</td>\n",
       "      <td>Chicago</td>\n",
       "      <td>30</td>\n",
       "      <td>107477</td>\n",
       "    </tr>\n",
       "    <tr>\n",
       "      <th>66</th>\n",
       "      <td>1067</td>\n",
       "      <td>Jane</td>\n",
       "      <td>Sales</td>\n",
       "      <td>Chicago</td>\n",
       "      <td>28</td>\n",
       "      <td>99157</td>\n",
       "    </tr>\n",
       "    <tr>\n",
       "      <th>24</th>\n",
       "      <td>1025</td>\n",
       "      <td>Jane</td>\n",
       "      <td>HR</td>\n",
       "      <td>Chicago</td>\n",
       "      <td>27</td>\n",
       "      <td>119311</td>\n",
       "    </tr>\n",
       "    <tr>\n",
       "      <th>65</th>\n",
       "      <td>1066</td>\n",
       "      <td>Grace</td>\n",
       "      <td>IT</td>\n",
       "      <td>Chicago</td>\n",
       "      <td>33</td>\n",
       "      <td>66169</td>\n",
       "    </tr>\n",
       "  </tbody>\n",
       "</table>\n",
       "</div>"
      ],
      "text/plain": [
       "      ID   Name Department Location  Age  Salary\n",
       "41  1042  Grace         IT  Chicago   48   64992\n",
       "67  1068    Eva         IT  Chicago   30  107477\n",
       "66  1067   Jane      Sales  Chicago   28   99157\n",
       "24  1025   Jane         HR  Chicago   27  119311\n",
       "65  1066  Grace         IT  Chicago   33   66169"
      ]
     },
     "execution_count": 70,
     "metadata": {},
     "output_type": "execute_result"
    }
   ],
   "source": [
    "# sort the records by location\n",
    "df.sort_values(by = \"Location\", ascending = True).head()"
   ]
  },
  {
   "cell_type": "code",
   "execution_count": 71,
   "id": "dd4beab8-8bcc-415b-b887-c78e332e4a9a",
   "metadata": {},
   "outputs": [],
   "source": [
    "# axis = 0 for rows\n",
    "# axis = 1 for columns"
   ]
  },
  {
   "cell_type": "markdown",
   "id": "4cb2bf27-cae1-4777-bfda-3cef618646f5",
   "metadata": {},
   "source": [
    "### **18. Filtering** - Selecting rows and columns that meets condition"
   ]
  },
  {
   "cell_type": "code",
   "execution_count": 73,
   "id": "00b8a189-d550-46c6-a9d6-5bb02c190a2d",
   "metadata": {},
   "outputs": [
    {
     "data": {
      "text/html": [
       "<div>\n",
       "<style scoped>\n",
       "    .dataframe tbody tr th:only-of-type {\n",
       "        vertical-align: middle;\n",
       "    }\n",
       "\n",
       "    .dataframe tbody tr th {\n",
       "        vertical-align: top;\n",
       "    }\n",
       "\n",
       "    .dataframe thead th {\n",
       "        text-align: right;\n",
       "    }\n",
       "</style>\n",
       "<table border=\"1\" class=\"dataframe\">\n",
       "  <thead>\n",
       "    <tr style=\"text-align: right;\">\n",
       "      <th></th>\n",
       "      <th>ID</th>\n",
       "      <th>Name</th>\n",
       "      <th>Department</th>\n",
       "      <th>Location</th>\n",
       "      <th>Age</th>\n",
       "      <th>Salary</th>\n",
       "    </tr>\n",
       "  </thead>\n",
       "  <tbody>\n",
       "    <tr>\n",
       "      <th>3</th>\n",
       "      <td>1004</td>\n",
       "      <td>Charlie</td>\n",
       "      <td>HR</td>\n",
       "      <td>Chicago</td>\n",
       "      <td>44</td>\n",
       "      <td>57057</td>\n",
       "    </tr>\n",
       "    <tr>\n",
       "      <th>6</th>\n",
       "      <td>1007</td>\n",
       "      <td>Helen</td>\n",
       "      <td>Finance</td>\n",
       "      <td>Chicago</td>\n",
       "      <td>51</td>\n",
       "      <td>110252</td>\n",
       "    </tr>\n",
       "    <tr>\n",
       "      <th>13</th>\n",
       "      <td>1014</td>\n",
       "      <td>Charlie</td>\n",
       "      <td>Finance</td>\n",
       "      <td>Chicago</td>\n",
       "      <td>33</td>\n",
       "      <td>72632</td>\n",
       "    </tr>\n",
       "    <tr>\n",
       "      <th>18</th>\n",
       "      <td>1019</td>\n",
       "      <td>David</td>\n",
       "      <td>Finance</td>\n",
       "      <td>Chicago</td>\n",
       "      <td>59</td>\n",
       "      <td>59458</td>\n",
       "    </tr>\n",
       "    <tr>\n",
       "      <th>24</th>\n",
       "      <td>1025</td>\n",
       "      <td>Jane</td>\n",
       "      <td>HR</td>\n",
       "      <td>Chicago</td>\n",
       "      <td>27</td>\n",
       "      <td>119311</td>\n",
       "    </tr>\n",
       "  </tbody>\n",
       "</table>\n",
       "</div>"
      ],
      "text/plain": [
       "      ID     Name Department Location  Age  Salary\n",
       "3   1004  Charlie         HR  Chicago   44   57057\n",
       "6   1007    Helen    Finance  Chicago   51  110252\n",
       "13  1014  Charlie    Finance  Chicago   33   72632\n",
       "18  1019    David    Finance  Chicago   59   59458\n",
       "24  1025     Jane         HR  Chicago   27  119311"
      ]
     },
     "execution_count": 73,
     "metadata": {},
     "output_type": "execute_result"
    }
   ],
   "source": [
    "# Show the details of employees from location Chicago\n",
    "df[df['Location'] =='Chicago'].head()"
   ]
  },
  {
   "cell_type": "code",
   "execution_count": 74,
   "id": "419fc354-0488-47ac-a7b8-21db095b24fc",
   "metadata": {},
   "outputs": [
    {
     "data": {
      "text/html": [
       "<div>\n",
       "<style scoped>\n",
       "    .dataframe tbody tr th:only-of-type {\n",
       "        vertical-align: middle;\n",
       "    }\n",
       "\n",
       "    .dataframe tbody tr th {\n",
       "        vertical-align: top;\n",
       "    }\n",
       "\n",
       "    .dataframe thead th {\n",
       "        text-align: right;\n",
       "    }\n",
       "</style>\n",
       "<table border=\"1\" class=\"dataframe\">\n",
       "  <thead>\n",
       "    <tr style=\"text-align: right;\">\n",
       "      <th></th>\n",
       "      <th>ID</th>\n",
       "      <th>Name</th>\n",
       "      <th>Department</th>\n",
       "      <th>Location</th>\n",
       "      <th>Age</th>\n",
       "      <th>Salary</th>\n",
       "    </tr>\n",
       "  </thead>\n",
       "  <tbody>\n",
       "    <tr>\n",
       "      <th>18</th>\n",
       "      <td>1019</td>\n",
       "      <td>David</td>\n",
       "      <td>Finance</td>\n",
       "      <td>Chicago</td>\n",
       "      <td>59</td>\n",
       "      <td>59458</td>\n",
       "    </tr>\n",
       "    <tr>\n",
       "      <th>45</th>\n",
       "      <td>1046</td>\n",
       "      <td>Bob</td>\n",
       "      <td>Finance</td>\n",
       "      <td>New York</td>\n",
       "      <td>59</td>\n",
       "      <td>57004</td>\n",
       "    </tr>\n",
       "  </tbody>\n",
       "</table>\n",
       "</div>"
      ],
      "text/plain": [
       "      ID   Name Department  Location  Age  Salary\n",
       "18  1019  David    Finance   Chicago   59   59458\n",
       "45  1046    Bob    Finance  New York   59   57004"
      ]
     },
     "execution_count": 74,
     "metadata": {},
     "output_type": "execute_result"
    }
   ],
   "source": [
    "# show the details of employees with age == 59\n",
    "df[df['Age'] == 59]"
   ]
  },
  {
   "cell_type": "code",
   "execution_count": 75,
   "id": "f6b6e541-43fb-45f8-bff2-0c6c3eb281c0",
   "metadata": {},
   "outputs": [
    {
     "data": {
      "text/html": [
       "<div>\n",
       "<style scoped>\n",
       "    .dataframe tbody tr th:only-of-type {\n",
       "        vertical-align: middle;\n",
       "    }\n",
       "\n",
       "    .dataframe tbody tr th {\n",
       "        vertical-align: top;\n",
       "    }\n",
       "\n",
       "    .dataframe thead th {\n",
       "        text-align: right;\n",
       "    }\n",
       "</style>\n",
       "<table border=\"1\" class=\"dataframe\">\n",
       "  <thead>\n",
       "    <tr style=\"text-align: right;\">\n",
       "      <th></th>\n",
       "      <th>ID</th>\n",
       "      <th>Name</th>\n",
       "      <th>Department</th>\n",
       "      <th>Location</th>\n",
       "      <th>Age</th>\n",
       "      <th>Salary</th>\n",
       "    </tr>\n",
       "  </thead>\n",
       "  <tbody>\n",
       "    <tr>\n",
       "      <th>5</th>\n",
       "      <td>1006</td>\n",
       "      <td>Jane</td>\n",
       "      <td>Finance</td>\n",
       "      <td>Houston</td>\n",
       "      <td>36</td>\n",
       "      <td>96617</td>\n",
       "    </tr>\n",
       "    <tr>\n",
       "      <th>6</th>\n",
       "      <td>1007</td>\n",
       "      <td>Helen</td>\n",
       "      <td>Finance</td>\n",
       "      <td>Chicago</td>\n",
       "      <td>51</td>\n",
       "      <td>110252</td>\n",
       "    </tr>\n",
       "    <tr>\n",
       "      <th>8</th>\n",
       "      <td>1009</td>\n",
       "      <td>Charlie</td>\n",
       "      <td>Sales</td>\n",
       "      <td>Houston</td>\n",
       "      <td>26</td>\n",
       "      <td>110688</td>\n",
       "    </tr>\n",
       "    <tr>\n",
       "      <th>10</th>\n",
       "      <td>1011</td>\n",
       "      <td>Grace</td>\n",
       "      <td>Finance</td>\n",
       "      <td>Phoenix</td>\n",
       "      <td>24</td>\n",
       "      <td>110777</td>\n",
       "    </tr>\n",
       "    <tr>\n",
       "      <th>11</th>\n",
       "      <td>1012</td>\n",
       "      <td>Helen</td>\n",
       "      <td>Marketing</td>\n",
       "      <td>Houston</td>\n",
       "      <td>33</td>\n",
       "      <td>88183</td>\n",
       "    </tr>\n",
       "  </tbody>\n",
       "</table>\n",
       "</div>"
      ],
      "text/plain": [
       "      ID     Name Department Location  Age  Salary\n",
       "5   1006     Jane    Finance  Houston   36   96617\n",
       "6   1007    Helen    Finance  Chicago   51  110252\n",
       "8   1009  Charlie      Sales  Houston   26  110688\n",
       "10  1011    Grace    Finance  Phoenix   24  110777\n",
       "11  1012    Helen  Marketing  Houston   33   88183"
      ]
     },
     "execution_count": 75,
     "metadata": {},
     "output_type": "execute_result"
    }
   ],
   "source": [
    "# show the name of all employees having salary more than 80000\n",
    "df[df['Salary'] > 80000].head()"
   ]
  },
  {
   "cell_type": "code",
   "execution_count": 76,
   "id": "9ef007f3-2642-4b8b-a749-cf6d56bf51d3",
   "metadata": {},
   "outputs": [
    {
     "data": {
      "text/html": [
       "<div>\n",
       "<style scoped>\n",
       "    .dataframe tbody tr th:only-of-type {\n",
       "        vertical-align: middle;\n",
       "    }\n",
       "\n",
       "    .dataframe tbody tr th {\n",
       "        vertical-align: top;\n",
       "    }\n",
       "\n",
       "    .dataframe thead th {\n",
       "        text-align: right;\n",
       "    }\n",
       "</style>\n",
       "<table border=\"1\" class=\"dataframe\">\n",
       "  <thead>\n",
       "    <tr style=\"text-align: right;\">\n",
       "      <th></th>\n",
       "      <th>ID</th>\n",
       "      <th>Name</th>\n",
       "      <th>Department</th>\n",
       "      <th>Location</th>\n",
       "      <th>Age</th>\n",
       "      <th>Salary</th>\n",
       "    </tr>\n",
       "  </thead>\n",
       "  <tbody>\n",
       "    <tr>\n",
       "      <th>2</th>\n",
       "      <td>1003</td>\n",
       "      <td>Eva</td>\n",
       "      <td>Sales</td>\n",
       "      <td>New York</td>\n",
       "      <td>25</td>\n",
       "      <td>55736</td>\n",
       "    </tr>\n",
       "    <tr>\n",
       "      <th>4</th>\n",
       "      <td>1005</td>\n",
       "      <td>Grace</td>\n",
       "      <td>Finance</td>\n",
       "      <td>Los Angeles</td>\n",
       "      <td>32</td>\n",
       "      <td>48955</td>\n",
       "    </tr>\n",
       "    <tr>\n",
       "      <th>5</th>\n",
       "      <td>1006</td>\n",
       "      <td>Jane</td>\n",
       "      <td>Finance</td>\n",
       "      <td>Houston</td>\n",
       "      <td>36</td>\n",
       "      <td>96617</td>\n",
       "    </tr>\n",
       "    <tr>\n",
       "      <th>8</th>\n",
       "      <td>1009</td>\n",
       "      <td>Charlie</td>\n",
       "      <td>Sales</td>\n",
       "      <td>Houston</td>\n",
       "      <td>26</td>\n",
       "      <td>110688</td>\n",
       "    </tr>\n",
       "    <tr>\n",
       "      <th>9</th>\n",
       "      <td>1010</td>\n",
       "      <td>Bob</td>\n",
       "      <td>Finance</td>\n",
       "      <td>Houston</td>\n",
       "      <td>25</td>\n",
       "      <td>59472</td>\n",
       "    </tr>\n",
       "  </tbody>\n",
       "</table>\n",
       "</div>"
      ],
      "text/plain": [
       "     ID     Name Department     Location  Age  Salary\n",
       "2  1003      Eva      Sales     New York   25   55736\n",
       "4  1005    Grace    Finance  Los Angeles   32   48955\n",
       "5  1006     Jane    Finance      Houston   36   96617\n",
       "8  1009  Charlie      Sales      Houston   26  110688\n",
       "9  1010      Bob    Finance      Houston   25   59472"
      ]
     },
     "execution_count": 76,
     "metadata": {},
     "output_type": "execute_result"
    }
   ],
   "source": [
    "# get records of age less than 40 \n",
    "df[df['Age'] < 40].head()"
   ]
  },
  {
   "cell_type": "markdown",
   "id": "cbeae748-c38b-438e-ab59-cc1984cadc85",
   "metadata": {},
   "source": [
    "### **19. loc()** - Used to access rows and columns (Label - based - indexing)"
   ]
  },
  {
   "cell_type": "code",
   "execution_count": 78,
   "id": "ef573d96-7c52-4364-b42a-521713452839",
   "metadata": {},
   "outputs": [
    {
     "data": {
      "text/html": [
       "<div>\n",
       "<style scoped>\n",
       "    .dataframe tbody tr th:only-of-type {\n",
       "        vertical-align: middle;\n",
       "    }\n",
       "\n",
       "    .dataframe tbody tr th {\n",
       "        vertical-align: top;\n",
       "    }\n",
       "\n",
       "    .dataframe thead th {\n",
       "        text-align: right;\n",
       "    }\n",
       "</style>\n",
       "<table border=\"1\" class=\"dataframe\">\n",
       "  <thead>\n",
       "    <tr style=\"text-align: right;\">\n",
       "      <th></th>\n",
       "      <th>Name</th>\n",
       "      <th>Location</th>\n",
       "      <th>Age</th>\n",
       "    </tr>\n",
       "  </thead>\n",
       "  <tbody>\n",
       "    <tr>\n",
       "      <th>0</th>\n",
       "      <td>Ian</td>\n",
       "      <td>Phoenix</td>\n",
       "      <td>60</td>\n",
       "    </tr>\n",
       "    <tr>\n",
       "      <th>1</th>\n",
       "      <td>Grace</td>\n",
       "      <td>Los Angeles</td>\n",
       "      <td>45</td>\n",
       "    </tr>\n",
       "    <tr>\n",
       "      <th>2</th>\n",
       "      <td>Eva</td>\n",
       "      <td>New York</td>\n",
       "      <td>25</td>\n",
       "    </tr>\n",
       "    <tr>\n",
       "      <th>3</th>\n",
       "      <td>Charlie</td>\n",
       "      <td>Chicago</td>\n",
       "      <td>44</td>\n",
       "    </tr>\n",
       "    <tr>\n",
       "      <th>4</th>\n",
       "      <td>Grace</td>\n",
       "      <td>Los Angeles</td>\n",
       "      <td>32</td>\n",
       "    </tr>\n",
       "  </tbody>\n",
       "</table>\n",
       "</div>"
      ],
      "text/plain": [
       "      Name     Location  Age\n",
       "0      Ian      Phoenix   60\n",
       "1    Grace  Los Angeles   45\n",
       "2      Eva     New York   25\n",
       "3  Charlie      Chicago   44\n",
       "4    Grace  Los Angeles   32"
      ]
     },
     "execution_count": 78,
     "metadata": {},
     "output_type": "execute_result"
    }
   ],
   "source": [
    "# get name of the employees with name,location and age and return 5 records\n",
    "df.loc[:4,['Name','Location','Age']]"
   ]
  },
  {
   "cell_type": "code",
   "execution_count": 79,
   "id": "7e6c0bce-6427-4519-90e4-97c58ed075c3",
   "metadata": {},
   "outputs": [
    {
     "data": {
      "text/html": [
       "<div>\n",
       "<style scoped>\n",
       "    .dataframe tbody tr th:only-of-type {\n",
       "        vertical-align: middle;\n",
       "    }\n",
       "\n",
       "    .dataframe tbody tr th {\n",
       "        vertical-align: top;\n",
       "    }\n",
       "\n",
       "    .dataframe thead th {\n",
       "        text-align: right;\n",
       "    }\n",
       "</style>\n",
       "<table border=\"1\" class=\"dataframe\">\n",
       "  <thead>\n",
       "    <tr style=\"text-align: right;\">\n",
       "      <th></th>\n",
       "      <th>ID</th>\n",
       "      <th>Name</th>\n",
       "      <th>Department</th>\n",
       "      <th>Location</th>\n",
       "      <th>Age</th>\n",
       "      <th>Salary</th>\n",
       "    </tr>\n",
       "  </thead>\n",
       "  <tbody>\n",
       "    <tr>\n",
       "      <th>0</th>\n",
       "      <td>1001</td>\n",
       "      <td>Ian</td>\n",
       "      <td>Marketing</td>\n",
       "      <td>Phoenix</td>\n",
       "      <td>60</td>\n",
       "      <td>42096</td>\n",
       "    </tr>\n",
       "    <tr>\n",
       "      <th>1</th>\n",
       "      <td>1002</td>\n",
       "      <td>Grace</td>\n",
       "      <td>HR</td>\n",
       "      <td>Los Angeles</td>\n",
       "      <td>45</td>\n",
       "      <td>68219</td>\n",
       "    </tr>\n",
       "    <tr>\n",
       "      <th>2</th>\n",
       "      <td>1003</td>\n",
       "      <td>Eva</td>\n",
       "      <td>Sales</td>\n",
       "      <td>New York</td>\n",
       "      <td>25</td>\n",
       "      <td>55736</td>\n",
       "    </tr>\n",
       "    <tr>\n",
       "      <th>3</th>\n",
       "      <td>1004</td>\n",
       "      <td>Charlie</td>\n",
       "      <td>HR</td>\n",
       "      <td>Chicago</td>\n",
       "      <td>44</td>\n",
       "      <td>57057</td>\n",
       "    </tr>\n",
       "    <tr>\n",
       "      <th>4</th>\n",
       "      <td>1005</td>\n",
       "      <td>Grace</td>\n",
       "      <td>Finance</td>\n",
       "      <td>Los Angeles</td>\n",
       "      <td>32</td>\n",
       "      <td>48955</td>\n",
       "    </tr>\n",
       "    <tr>\n",
       "      <th>...</th>\n",
       "      <td>...</td>\n",
       "      <td>...</td>\n",
       "      <td>...</td>\n",
       "      <td>...</td>\n",
       "      <td>...</td>\n",
       "      <td>...</td>\n",
       "    </tr>\n",
       "    <tr>\n",
       "      <th>95</th>\n",
       "      <td>1096</td>\n",
       "      <td>Frank</td>\n",
       "      <td>IT</td>\n",
       "      <td>Chicago</td>\n",
       "      <td>51</td>\n",
       "      <td>73683</td>\n",
       "    </tr>\n",
       "    <tr>\n",
       "      <th>96</th>\n",
       "      <td>1097</td>\n",
       "      <td>Alice</td>\n",
       "      <td>IT</td>\n",
       "      <td>Phoenix</td>\n",
       "      <td>38</td>\n",
       "      <td>58905</td>\n",
       "    </tr>\n",
       "    <tr>\n",
       "      <th>97</th>\n",
       "      <td>1098</td>\n",
       "      <td>Ian</td>\n",
       "      <td>Marketing</td>\n",
       "      <td>Chicago</td>\n",
       "      <td>24</td>\n",
       "      <td>40321</td>\n",
       "    </tr>\n",
       "    <tr>\n",
       "      <th>98</th>\n",
       "      <td>1099</td>\n",
       "      <td>Alice</td>\n",
       "      <td>IT</td>\n",
       "      <td>Phoenix</td>\n",
       "      <td>44</td>\n",
       "      <td>40760</td>\n",
       "    </tr>\n",
       "    <tr>\n",
       "      <th>99</th>\n",
       "      <td>1100</td>\n",
       "      <td>David</td>\n",
       "      <td>Finance</td>\n",
       "      <td>Los Angeles</td>\n",
       "      <td>43</td>\n",
       "      <td>113139</td>\n",
       "    </tr>\n",
       "  </tbody>\n",
       "</table>\n",
       "<p>100 rows × 6 columns</p>\n",
       "</div>"
      ],
      "text/plain": [
       "      ID     Name Department     Location  Age  Salary\n",
       "0   1001      Ian  Marketing      Phoenix   60   42096\n",
       "1   1002    Grace         HR  Los Angeles   45   68219\n",
       "2   1003      Eva      Sales     New York   25   55736\n",
       "3   1004  Charlie         HR      Chicago   44   57057\n",
       "4   1005    Grace    Finance  Los Angeles   32   48955\n",
       "..   ...      ...        ...          ...  ...     ...\n",
       "95  1096    Frank         IT      Chicago   51   73683\n",
       "96  1097    Alice         IT      Phoenix   38   58905\n",
       "97  1098      Ian  Marketing      Chicago   24   40321\n",
       "98  1099    Alice         IT      Phoenix   44   40760\n",
       "99  1100    David    Finance  Los Angeles   43  113139\n",
       "\n",
       "[100 rows x 6 columns]"
      ]
     },
     "execution_count": 79,
     "metadata": {},
     "output_type": "execute_result"
    }
   ],
   "source": [
    "# access all data\n",
    "df.loc[:,:]"
   ]
  },
  {
   "cell_type": "code",
   "execution_count": 80,
   "id": "0f4b623d-eb91-46b1-8016-58267950affc",
   "metadata": {},
   "outputs": [
    {
     "data": {
      "text/html": [
       "<div>\n",
       "<style scoped>\n",
       "    .dataframe tbody tr th:only-of-type {\n",
       "        vertical-align: middle;\n",
       "    }\n",
       "\n",
       "    .dataframe tbody tr th {\n",
       "        vertical-align: top;\n",
       "    }\n",
       "\n",
       "    .dataframe thead th {\n",
       "        text-align: right;\n",
       "    }\n",
       "</style>\n",
       "<table border=\"1\" class=\"dataframe\">\n",
       "  <thead>\n",
       "    <tr style=\"text-align: right;\">\n",
       "      <th></th>\n",
       "      <th>ID</th>\n",
       "      <th>Name</th>\n",
       "      <th>Department</th>\n",
       "    </tr>\n",
       "  </thead>\n",
       "  <tbody>\n",
       "    <tr>\n",
       "      <th>0</th>\n",
       "      <td>1001</td>\n",
       "      <td>Ian</td>\n",
       "      <td>Marketing</td>\n",
       "    </tr>\n",
       "    <tr>\n",
       "      <th>1</th>\n",
       "      <td>1002</td>\n",
       "      <td>Grace</td>\n",
       "      <td>HR</td>\n",
       "    </tr>\n",
       "    <tr>\n",
       "      <th>2</th>\n",
       "      <td>1003</td>\n",
       "      <td>Eva</td>\n",
       "      <td>Sales</td>\n",
       "    </tr>\n",
       "    <tr>\n",
       "      <th>3</th>\n",
       "      <td>1004</td>\n",
       "      <td>Charlie</td>\n",
       "      <td>HR</td>\n",
       "    </tr>\n",
       "    <tr>\n",
       "      <th>4</th>\n",
       "      <td>1005</td>\n",
       "      <td>Grace</td>\n",
       "      <td>Finance</td>\n",
       "    </tr>\n",
       "  </tbody>\n",
       "</table>\n",
       "</div>"
      ],
      "text/plain": [
       "     ID     Name Department\n",
       "0  1001      Ian  Marketing\n",
       "1  1002    Grace         HR\n",
       "2  1003      Eva      Sales\n",
       "3  1004  Charlie         HR\n",
       "4  1005    Grace    Finance"
      ]
     },
     "execution_count": 80,
     "metadata": {},
     "output_type": "execute_result"
    }
   ],
   "source": [
    "# get first 3 columns with all records\n",
    "df.loc[:,['ID','Name','Department']].head()"
   ]
  },
  {
   "cell_type": "markdown",
   "id": "1882017e-af9f-4e5a-ab31-6b13fcae7fac",
   "metadata": {},
   "source": [
    "### **20. iloc()** - Used to access rows and columns (position - based - indexing)"
   ]
  },
  {
   "cell_type": "code",
   "execution_count": 82,
   "id": "ade1208a-6f21-4c14-b41e-e634c9c3a7e7",
   "metadata": {},
   "outputs": [
    {
     "data": {
      "text/plain": [
       "ID               1009\n",
       "Name          Charlie\n",
       "Department      Sales\n",
       "Location      Houston\n",
       "Age                26\n",
       "Salary         110688\n",
       "Name: 8, dtype: object"
      ]
     },
     "execution_count": 82,
     "metadata": {},
     "output_type": "execute_result"
    }
   ],
   "source": [
    "# get info of 8 record \n",
    "df.iloc[8]   "
   ]
  },
  {
   "cell_type": "code",
   "execution_count": 83,
   "id": "046fa103-88bd-46a1-a3a1-866ad4da8713",
   "metadata": {},
   "outputs": [
    {
     "data": {
      "text/html": [
       "<div>\n",
       "<style scoped>\n",
       "    .dataframe tbody tr th:only-of-type {\n",
       "        vertical-align: middle;\n",
       "    }\n",
       "\n",
       "    .dataframe tbody tr th {\n",
       "        vertical-align: top;\n",
       "    }\n",
       "\n",
       "    .dataframe thead th {\n",
       "        text-align: right;\n",
       "    }\n",
       "</style>\n",
       "<table border=\"1\" class=\"dataframe\">\n",
       "  <thead>\n",
       "    <tr style=\"text-align: right;\">\n",
       "      <th></th>\n",
       "      <th>ID</th>\n",
       "      <th>Name</th>\n",
       "      <th>Department</th>\n",
       "      <th>Location</th>\n",
       "      <th>Age</th>\n",
       "    </tr>\n",
       "  </thead>\n",
       "  <tbody>\n",
       "    <tr>\n",
       "      <th>0</th>\n",
       "      <td>1001</td>\n",
       "      <td>Ian</td>\n",
       "      <td>Marketing</td>\n",
       "      <td>Phoenix</td>\n",
       "      <td>60</td>\n",
       "    </tr>\n",
       "    <tr>\n",
       "      <th>1</th>\n",
       "      <td>1002</td>\n",
       "      <td>Grace</td>\n",
       "      <td>HR</td>\n",
       "      <td>Los Angeles</td>\n",
       "      <td>45</td>\n",
       "    </tr>\n",
       "    <tr>\n",
       "      <th>2</th>\n",
       "      <td>1003</td>\n",
       "      <td>Eva</td>\n",
       "      <td>Sales</td>\n",
       "      <td>New York</td>\n",
       "      <td>25</td>\n",
       "    </tr>\n",
       "    <tr>\n",
       "      <th>3</th>\n",
       "      <td>1004</td>\n",
       "      <td>Charlie</td>\n",
       "      <td>HR</td>\n",
       "      <td>Chicago</td>\n",
       "      <td>44</td>\n",
       "    </tr>\n",
       "    <tr>\n",
       "      <th>4</th>\n",
       "      <td>1005</td>\n",
       "      <td>Grace</td>\n",
       "      <td>Finance</td>\n",
       "      <td>Los Angeles</td>\n",
       "      <td>32</td>\n",
       "    </tr>\n",
       "    <tr>\n",
       "      <th>5</th>\n",
       "      <td>1006</td>\n",
       "      <td>Jane</td>\n",
       "      <td>Finance</td>\n",
       "      <td>Houston</td>\n",
       "      <td>36</td>\n",
       "    </tr>\n",
       "  </tbody>\n",
       "</table>\n",
       "</div>"
      ],
      "text/plain": [
       "     ID     Name Department     Location  Age\n",
       "0  1001      Ian  Marketing      Phoenix   60\n",
       "1  1002    Grace         HR  Los Angeles   45\n",
       "2  1003      Eva      Sales     New York   25\n",
       "3  1004  Charlie         HR      Chicago   44\n",
       "4  1005    Grace    Finance  Los Angeles   32\n",
       "5  1006     Jane    Finance      Houston   36"
      ]
     },
     "execution_count": 83,
     "metadata": {},
     "output_type": "execute_result"
    }
   ],
   "source": [
    "# access records 6 with first five columns \n",
    "df.iloc[0:6, 0:5]"
   ]
  },
  {
   "cell_type": "markdown",
   "id": "d0333707-9ecc-4a3d-bb55-b366b7b6ba2b",
   "metadata": {},
   "source": [
    "### **21. Add column**"
   ]
  },
  {
   "cell_type": "code",
   "execution_count": 85,
   "id": "8d290d2f-05cf-4ecc-9449-ad5b958a385c",
   "metadata": {},
   "outputs": [],
   "source": [
    "df[\"Is_Senior\"] = df[\"Age\"] > 40    # add new column to dataset"
   ]
  },
  {
   "cell_type": "code",
   "execution_count": 86,
   "id": "b6e343d4-0297-48d3-9462-5ac0ca5e40a8",
   "metadata": {},
   "outputs": [
    {
     "data": {
      "text/html": [
       "<div>\n",
       "<style scoped>\n",
       "    .dataframe tbody tr th:only-of-type {\n",
       "        vertical-align: middle;\n",
       "    }\n",
       "\n",
       "    .dataframe tbody tr th {\n",
       "        vertical-align: top;\n",
       "    }\n",
       "\n",
       "    .dataframe thead th {\n",
       "        text-align: right;\n",
       "    }\n",
       "</style>\n",
       "<table border=\"1\" class=\"dataframe\">\n",
       "  <thead>\n",
       "    <tr style=\"text-align: right;\">\n",
       "      <th></th>\n",
       "      <th>ID</th>\n",
       "      <th>Name</th>\n",
       "      <th>Department</th>\n",
       "      <th>Location</th>\n",
       "      <th>Age</th>\n",
       "      <th>Salary</th>\n",
       "      <th>Is_Senior</th>\n",
       "    </tr>\n",
       "  </thead>\n",
       "  <tbody>\n",
       "    <tr>\n",
       "      <th>0</th>\n",
       "      <td>1001</td>\n",
       "      <td>Ian</td>\n",
       "      <td>Marketing</td>\n",
       "      <td>Phoenix</td>\n",
       "      <td>60</td>\n",
       "      <td>42096</td>\n",
       "      <td>True</td>\n",
       "    </tr>\n",
       "    <tr>\n",
       "      <th>1</th>\n",
       "      <td>1002</td>\n",
       "      <td>Grace</td>\n",
       "      <td>HR</td>\n",
       "      <td>Los Angeles</td>\n",
       "      <td>45</td>\n",
       "      <td>68219</td>\n",
       "      <td>True</td>\n",
       "    </tr>\n",
       "    <tr>\n",
       "      <th>2</th>\n",
       "      <td>1003</td>\n",
       "      <td>Eva</td>\n",
       "      <td>Sales</td>\n",
       "      <td>New York</td>\n",
       "      <td>25</td>\n",
       "      <td>55736</td>\n",
       "      <td>False</td>\n",
       "    </tr>\n",
       "    <tr>\n",
       "      <th>3</th>\n",
       "      <td>1004</td>\n",
       "      <td>Charlie</td>\n",
       "      <td>HR</td>\n",
       "      <td>Chicago</td>\n",
       "      <td>44</td>\n",
       "      <td>57057</td>\n",
       "      <td>True</td>\n",
       "    </tr>\n",
       "    <tr>\n",
       "      <th>4</th>\n",
       "      <td>1005</td>\n",
       "      <td>Grace</td>\n",
       "      <td>Finance</td>\n",
       "      <td>Los Angeles</td>\n",
       "      <td>32</td>\n",
       "      <td>48955</td>\n",
       "      <td>False</td>\n",
       "    </tr>\n",
       "  </tbody>\n",
       "</table>\n",
       "</div>"
      ],
      "text/plain": [
       "     ID     Name Department     Location  Age  Salary  Is_Senior\n",
       "0  1001      Ian  Marketing      Phoenix   60   42096       True\n",
       "1  1002    Grace         HR  Los Angeles   45   68219       True\n",
       "2  1003      Eva      Sales     New York   25   55736      False\n",
       "3  1004  Charlie         HR      Chicago   44   57057       True\n",
       "4  1005    Grace    Finance  Los Angeles   32   48955      False"
      ]
     },
     "execution_count": 86,
     "metadata": {},
     "output_type": "execute_result"
    }
   ],
   "source": [
    "df.head()"
   ]
  },
  {
   "cell_type": "markdown",
   "id": "bacc71c0-f83a-4ecf-9259-ea2414688dd9",
   "metadata": {},
   "source": [
    "### **22. Drop Column** - Used to drop the column"
   ]
  },
  {
   "cell_type": "code",
   "execution_count": 88,
   "id": "63e95dfe-47f9-43f4-82fc-d50a6a5630c1",
   "metadata": {},
   "outputs": [],
   "source": [
    "df.drop(\"Is_Senior\", axis = 1, inplace = True)"
   ]
  },
  {
   "cell_type": "code",
   "execution_count": 89,
   "id": "bc8487ce-29c2-481d-9297-e91b5e43be81",
   "metadata": {},
   "outputs": [
    {
     "data": {
      "text/html": [
       "<div>\n",
       "<style scoped>\n",
       "    .dataframe tbody tr th:only-of-type {\n",
       "        vertical-align: middle;\n",
       "    }\n",
       "\n",
       "    .dataframe tbody tr th {\n",
       "        vertical-align: top;\n",
       "    }\n",
       "\n",
       "    .dataframe thead th {\n",
       "        text-align: right;\n",
       "    }\n",
       "</style>\n",
       "<table border=\"1\" class=\"dataframe\">\n",
       "  <thead>\n",
       "    <tr style=\"text-align: right;\">\n",
       "      <th></th>\n",
       "      <th>ID</th>\n",
       "      <th>Name</th>\n",
       "      <th>Department</th>\n",
       "      <th>Location</th>\n",
       "      <th>Age</th>\n",
       "      <th>Salary</th>\n",
       "    </tr>\n",
       "  </thead>\n",
       "  <tbody>\n",
       "    <tr>\n",
       "      <th>0</th>\n",
       "      <td>1001</td>\n",
       "      <td>Ian</td>\n",
       "      <td>Marketing</td>\n",
       "      <td>Phoenix</td>\n",
       "      <td>60</td>\n",
       "      <td>42096</td>\n",
       "    </tr>\n",
       "    <tr>\n",
       "      <th>1</th>\n",
       "      <td>1002</td>\n",
       "      <td>Grace</td>\n",
       "      <td>HR</td>\n",
       "      <td>Los Angeles</td>\n",
       "      <td>45</td>\n",
       "      <td>68219</td>\n",
       "    </tr>\n",
       "    <tr>\n",
       "      <th>2</th>\n",
       "      <td>1003</td>\n",
       "      <td>Eva</td>\n",
       "      <td>Sales</td>\n",
       "      <td>New York</td>\n",
       "      <td>25</td>\n",
       "      <td>55736</td>\n",
       "    </tr>\n",
       "    <tr>\n",
       "      <th>3</th>\n",
       "      <td>1004</td>\n",
       "      <td>Charlie</td>\n",
       "      <td>HR</td>\n",
       "      <td>Chicago</td>\n",
       "      <td>44</td>\n",
       "      <td>57057</td>\n",
       "    </tr>\n",
       "    <tr>\n",
       "      <th>4</th>\n",
       "      <td>1005</td>\n",
       "      <td>Grace</td>\n",
       "      <td>Finance</td>\n",
       "      <td>Los Angeles</td>\n",
       "      <td>32</td>\n",
       "      <td>48955</td>\n",
       "    </tr>\n",
       "  </tbody>\n",
       "</table>\n",
       "</div>"
      ],
      "text/plain": [
       "     ID     Name Department     Location  Age  Salary\n",
       "0  1001      Ian  Marketing      Phoenix   60   42096\n",
       "1  1002    Grace         HR  Los Angeles   45   68219\n",
       "2  1003      Eva      Sales     New York   25   55736\n",
       "3  1004  Charlie         HR      Chicago   44   57057\n",
       "4  1005    Grace    Finance  Los Angeles   32   48955"
      ]
     },
     "execution_count": 89,
     "metadata": {},
     "output_type": "execute_result"
    }
   ],
   "source": [
    "df.head()"
   ]
  },
  {
   "cell_type": "markdown",
   "id": "69f0d2d3-9597-4f92-a58f-3cd4fca62ab1",
   "metadata": {},
   "source": [
    "### **23. Rank()** - Rank values in a column. Assigning numerical position based on ranks"
   ]
  },
  {
   "cell_type": "code",
   "execution_count": 91,
   "id": "2d78d0a1-755b-4dd8-b5dc-c3664dac5766",
   "metadata": {},
   "outputs": [
    {
     "data": {
      "text/plain": [
       "0    96.0\n",
       "1    53.0\n",
       "2    80.0\n",
       "3    74.0\n",
       "4    90.0\n",
       "Name: Salary, dtype: float64"
      ]
     },
     "execution_count": 91,
     "metadata": {},
     "output_type": "execute_result"
    }
   ],
   "source": [
    "df[\"Salary\"].rank(ascending = False).head()   # index is not changed"
   ]
  },
  {
   "cell_type": "markdown",
   "id": "07fe3ee0-a1c7-4b89-83bd-f543821ecfe6",
   "metadata": {},
   "source": [
    "### **24. astype()** - Converts the datatype of column"
   ]
  },
  {
   "cell_type": "code",
   "execution_count": 93,
   "id": "ebc34081-f794-483f-bd47-f488f1a31a5f",
   "metadata": {},
   "outputs": [
    {
     "data": {
      "text/plain": [
       "0    42096.0\n",
       "1    68219.0\n",
       "2    55736.0\n",
       "3    57057.0\n",
       "4    48955.0\n",
       "Name: Salary, dtype: float64"
      ]
     },
     "execution_count": 93,
     "metadata": {},
     "output_type": "execute_result"
    }
   ],
   "source": [
    "df[\"Salary\"].astype(float).head()"
   ]
  },
  {
   "cell_type": "markdown",
   "id": "e9a6638f-5b0e-4a4a-aa21-bd07414ea768",
   "metadata": {},
   "source": [
    "### **25. apply()** - Used to apply function to each row or column "
   ]
  },
  {
   "cell_type": "code",
   "execution_count": 95,
   "id": "c345f99c-ae0b-4dff-9dac-6aab09d64fe0",
   "metadata": {},
   "outputs": [],
   "source": [
    "df[\"Is_Senior\"] = df[\"Age\"].apply(lambda x : \"Senior\" if x > 40 else \"Junior\")"
   ]
  },
  {
   "cell_type": "code",
   "execution_count": 96,
   "id": "7483c603-7c8b-4d62-a2af-fc13b00822d8",
   "metadata": {},
   "outputs": [
    {
     "data": {
      "text/html": [
       "<div>\n",
       "<style scoped>\n",
       "    .dataframe tbody tr th:only-of-type {\n",
       "        vertical-align: middle;\n",
       "    }\n",
       "\n",
       "    .dataframe tbody tr th {\n",
       "        vertical-align: top;\n",
       "    }\n",
       "\n",
       "    .dataframe thead th {\n",
       "        text-align: right;\n",
       "    }\n",
       "</style>\n",
       "<table border=\"1\" class=\"dataframe\">\n",
       "  <thead>\n",
       "    <tr style=\"text-align: right;\">\n",
       "      <th></th>\n",
       "      <th>ID</th>\n",
       "      <th>Name</th>\n",
       "      <th>Department</th>\n",
       "      <th>Location</th>\n",
       "      <th>Age</th>\n",
       "      <th>Salary</th>\n",
       "      <th>Is_Senior</th>\n",
       "    </tr>\n",
       "  </thead>\n",
       "  <tbody>\n",
       "    <tr>\n",
       "      <th>0</th>\n",
       "      <td>1001</td>\n",
       "      <td>Ian</td>\n",
       "      <td>Marketing</td>\n",
       "      <td>Phoenix</td>\n",
       "      <td>60</td>\n",
       "      <td>42096</td>\n",
       "      <td>Senior</td>\n",
       "    </tr>\n",
       "    <tr>\n",
       "      <th>1</th>\n",
       "      <td>1002</td>\n",
       "      <td>Grace</td>\n",
       "      <td>HR</td>\n",
       "      <td>Los Angeles</td>\n",
       "      <td>45</td>\n",
       "      <td>68219</td>\n",
       "      <td>Senior</td>\n",
       "    </tr>\n",
       "    <tr>\n",
       "      <th>2</th>\n",
       "      <td>1003</td>\n",
       "      <td>Eva</td>\n",
       "      <td>Sales</td>\n",
       "      <td>New York</td>\n",
       "      <td>25</td>\n",
       "      <td>55736</td>\n",
       "      <td>Junior</td>\n",
       "    </tr>\n",
       "    <tr>\n",
       "      <th>3</th>\n",
       "      <td>1004</td>\n",
       "      <td>Charlie</td>\n",
       "      <td>HR</td>\n",
       "      <td>Chicago</td>\n",
       "      <td>44</td>\n",
       "      <td>57057</td>\n",
       "      <td>Senior</td>\n",
       "    </tr>\n",
       "    <tr>\n",
       "      <th>4</th>\n",
       "      <td>1005</td>\n",
       "      <td>Grace</td>\n",
       "      <td>Finance</td>\n",
       "      <td>Los Angeles</td>\n",
       "      <td>32</td>\n",
       "      <td>48955</td>\n",
       "      <td>Junior</td>\n",
       "    </tr>\n",
       "  </tbody>\n",
       "</table>\n",
       "</div>"
      ],
      "text/plain": [
       "     ID     Name Department     Location  Age  Salary Is_Senior\n",
       "0  1001      Ian  Marketing      Phoenix   60   42096    Senior\n",
       "1  1002    Grace         HR  Los Angeles   45   68219    Senior\n",
       "2  1003      Eva      Sales     New York   25   55736    Junior\n",
       "3  1004  Charlie         HR      Chicago   44   57057    Senior\n",
       "4  1005    Grace    Finance  Los Angeles   32   48955    Junior"
      ]
     },
     "execution_count": 96,
     "metadata": {},
     "output_type": "execute_result"
    }
   ],
   "source": [
    "df.head()"
   ]
  },
  {
   "cell_type": "markdown",
   "id": "92567e43-1fda-4bce-8ae1-0cb87612af87",
   "metadata": {},
   "source": [
    "### **26. query()** - Uses sql like queries to filter data "
   ]
  },
  {
   "cell_type": "code",
   "execution_count": 98,
   "id": "bc24ee82-b5e3-4942-a586-e7b8402c5c95",
   "metadata": {},
   "outputs": [
    {
     "data": {
      "text/html": [
       "<div>\n",
       "<style scoped>\n",
       "    .dataframe tbody tr th:only-of-type {\n",
       "        vertical-align: middle;\n",
       "    }\n",
       "\n",
       "    .dataframe tbody tr th {\n",
       "        vertical-align: top;\n",
       "    }\n",
       "\n",
       "    .dataframe thead th {\n",
       "        text-align: right;\n",
       "    }\n",
       "</style>\n",
       "<table border=\"1\" class=\"dataframe\">\n",
       "  <thead>\n",
       "    <tr style=\"text-align: right;\">\n",
       "      <th></th>\n",
       "      <th>ID</th>\n",
       "      <th>Name</th>\n",
       "      <th>Department</th>\n",
       "      <th>Location</th>\n",
       "      <th>Age</th>\n",
       "      <th>Salary</th>\n",
       "      <th>Is_Senior</th>\n",
       "    </tr>\n",
       "  </thead>\n",
       "  <tbody>\n",
       "    <tr>\n",
       "      <th>8</th>\n",
       "      <td>1009</td>\n",
       "      <td>Charlie</td>\n",
       "      <td>Sales</td>\n",
       "      <td>Houston</td>\n",
       "      <td>26</td>\n",
       "      <td>110688</td>\n",
       "      <td>Junior</td>\n",
       "    </tr>\n",
       "    <tr>\n",
       "      <th>17</th>\n",
       "      <td>1018</td>\n",
       "      <td>Bob</td>\n",
       "      <td>Sales</td>\n",
       "      <td>New York</td>\n",
       "      <td>35</td>\n",
       "      <td>98083</td>\n",
       "      <td>Junior</td>\n",
       "    </tr>\n",
       "    <tr>\n",
       "      <th>19</th>\n",
       "      <td>1020</td>\n",
       "      <td>Grace</td>\n",
       "      <td>Sales</td>\n",
       "      <td>New York</td>\n",
       "      <td>34</td>\n",
       "      <td>99134</td>\n",
       "      <td>Junior</td>\n",
       "    </tr>\n",
       "    <tr>\n",
       "      <th>44</th>\n",
       "      <td>1045</td>\n",
       "      <td>Helen</td>\n",
       "      <td>Sales</td>\n",
       "      <td>Chicago</td>\n",
       "      <td>25</td>\n",
       "      <td>104759</td>\n",
       "      <td>Junior</td>\n",
       "    </tr>\n",
       "    <tr>\n",
       "      <th>47</th>\n",
       "      <td>1048</td>\n",
       "      <td>Ian</td>\n",
       "      <td>Sales</td>\n",
       "      <td>Phoenix</td>\n",
       "      <td>24</td>\n",
       "      <td>112395</td>\n",
       "      <td>Junior</td>\n",
       "    </tr>\n",
       "  </tbody>\n",
       "</table>\n",
       "</div>"
      ],
      "text/plain": [
       "      ID     Name Department  Location  Age  Salary Is_Senior\n",
       "8   1009  Charlie      Sales   Houston   26  110688    Junior\n",
       "17  1018      Bob      Sales  New York   35   98083    Junior\n",
       "19  1020    Grace      Sales  New York   34   99134    Junior\n",
       "44  1045    Helen      Sales   Chicago   25  104759    Junior\n",
       "47  1048      Ian      Sales   Phoenix   24  112395    Junior"
      ]
     },
     "execution_count": 98,
     "metadata": {},
     "output_type": "execute_result"
    }
   ],
   "source": [
    "df.query(\"Department == 'Sales' and Salary > 80000 and Is_Senior == 'Junior'\").head()"
   ]
  },
  {
   "cell_type": "markdown",
   "id": "a263c8c6-292b-494d-b813-ce174f0a25b7",
   "metadata": {},
   "source": [
    "### **27. pivot_table()** - Summarizes data by using aggregating functions"
   ]
  },
  {
   "cell_type": "code",
   "execution_count": 100,
   "id": "373312e9-0053-4d29-b386-1ca2593d0b52",
   "metadata": {},
   "outputs": [
    {
     "data": {
      "text/html": [
       "<div>\n",
       "<style scoped>\n",
       "    .dataframe tbody tr th:only-of-type {\n",
       "        vertical-align: middle;\n",
       "    }\n",
       "\n",
       "    .dataframe tbody tr th {\n",
       "        vertical-align: top;\n",
       "    }\n",
       "\n",
       "    .dataframe thead th {\n",
       "        text-align: right;\n",
       "    }\n",
       "</style>\n",
       "<table border=\"1\" class=\"dataframe\">\n",
       "  <thead>\n",
       "    <tr style=\"text-align: right;\">\n",
       "      <th>Department</th>\n",
       "      <th>Finance</th>\n",
       "      <th>HR</th>\n",
       "      <th>IT</th>\n",
       "      <th>Marketing</th>\n",
       "      <th>Sales</th>\n",
       "    </tr>\n",
       "    <tr>\n",
       "      <th>Location</th>\n",
       "      <th></th>\n",
       "      <th></th>\n",
       "      <th></th>\n",
       "      <th></th>\n",
       "      <th></th>\n",
       "    </tr>\n",
       "  </thead>\n",
       "  <tbody>\n",
       "    <tr>\n",
       "      <th>Chicago</th>\n",
       "      <td>66507.166667</td>\n",
       "      <td>80530.000000</td>\n",
       "      <td>69681.777778</td>\n",
       "      <td>40321.0</td>\n",
       "      <td>75299.0</td>\n",
       "    </tr>\n",
       "    <tr>\n",
       "      <th>Houston</th>\n",
       "      <td>81342.833333</td>\n",
       "      <td>62348.333333</td>\n",
       "      <td>77889.200000</td>\n",
       "      <td>73169.2</td>\n",
       "      <td>110688.0</td>\n",
       "    </tr>\n",
       "    <tr>\n",
       "      <th>Los Angeles</th>\n",
       "      <td>93108.250000</td>\n",
       "      <td>83061.333333</td>\n",
       "      <td>74021.666667</td>\n",
       "      <td>89086.4</td>\n",
       "      <td>75851.0</td>\n",
       "    </tr>\n",
       "    <tr>\n",
       "      <th>New York</th>\n",
       "      <td>86439.500000</td>\n",
       "      <td>89389.500000</td>\n",
       "      <td>84160.750000</td>\n",
       "      <td>67760.5</td>\n",
       "      <td>78542.0</td>\n",
       "    </tr>\n",
       "    <tr>\n",
       "      <th>Phoenix</th>\n",
       "      <td>79288.000000</td>\n",
       "      <td>69842.600000</td>\n",
       "      <td>81355.800000</td>\n",
       "      <td>52552.5</td>\n",
       "      <td>74755.0</td>\n",
       "    </tr>\n",
       "  </tbody>\n",
       "</table>\n",
       "</div>"
      ],
      "text/plain": [
       "Department        Finance            HR            IT  Marketing     Sales\n",
       "Location                                                                  \n",
       "Chicago      66507.166667  80530.000000  69681.777778    40321.0   75299.0\n",
       "Houston      81342.833333  62348.333333  77889.200000    73169.2  110688.0\n",
       "Los Angeles  93108.250000  83061.333333  74021.666667    89086.4   75851.0\n",
       "New York     86439.500000  89389.500000  84160.750000    67760.5   78542.0\n",
       "Phoenix      79288.000000  69842.600000  81355.800000    52552.5   74755.0"
      ]
     },
     "execution_count": 100,
     "metadata": {},
     "output_type": "execute_result"
    }
   ],
   "source": [
    "df.pivot_table(values = \"Salary\", index = \"Location\", columns = \"Department\", aggfunc = \"mean\")    "
   ]
  },
  {
   "cell_type": "markdown",
   "id": "1680f32e-30b1-4739-9de5-07aac2e0702d",
   "metadata": {},
   "source": [
    "### **28. tail()** - Returns last five rows"
   ]
  },
  {
   "cell_type": "code",
   "execution_count": 102,
   "id": "8af7833b-6497-49bd-933e-70cb9c6b04cd",
   "metadata": {},
   "outputs": [
    {
     "data": {
      "text/html": [
       "<div>\n",
       "<style scoped>\n",
       "    .dataframe tbody tr th:only-of-type {\n",
       "        vertical-align: middle;\n",
       "    }\n",
       "\n",
       "    .dataframe tbody tr th {\n",
       "        vertical-align: top;\n",
       "    }\n",
       "\n",
       "    .dataframe thead th {\n",
       "        text-align: right;\n",
       "    }\n",
       "</style>\n",
       "<table border=\"1\" class=\"dataframe\">\n",
       "  <thead>\n",
       "    <tr style=\"text-align: right;\">\n",
       "      <th></th>\n",
       "      <th>ID</th>\n",
       "      <th>Name</th>\n",
       "      <th>Department</th>\n",
       "      <th>Location</th>\n",
       "      <th>Age</th>\n",
       "      <th>Salary</th>\n",
       "      <th>Is_Senior</th>\n",
       "    </tr>\n",
       "  </thead>\n",
       "  <tbody>\n",
       "    <tr>\n",
       "      <th>95</th>\n",
       "      <td>1096</td>\n",
       "      <td>Frank</td>\n",
       "      <td>IT</td>\n",
       "      <td>Chicago</td>\n",
       "      <td>51</td>\n",
       "      <td>73683</td>\n",
       "      <td>Senior</td>\n",
       "    </tr>\n",
       "    <tr>\n",
       "      <th>96</th>\n",
       "      <td>1097</td>\n",
       "      <td>Alice</td>\n",
       "      <td>IT</td>\n",
       "      <td>Phoenix</td>\n",
       "      <td>38</td>\n",
       "      <td>58905</td>\n",
       "      <td>Junior</td>\n",
       "    </tr>\n",
       "    <tr>\n",
       "      <th>97</th>\n",
       "      <td>1098</td>\n",
       "      <td>Ian</td>\n",
       "      <td>Marketing</td>\n",
       "      <td>Chicago</td>\n",
       "      <td>24</td>\n",
       "      <td>40321</td>\n",
       "      <td>Junior</td>\n",
       "    </tr>\n",
       "    <tr>\n",
       "      <th>98</th>\n",
       "      <td>1099</td>\n",
       "      <td>Alice</td>\n",
       "      <td>IT</td>\n",
       "      <td>Phoenix</td>\n",
       "      <td>44</td>\n",
       "      <td>40760</td>\n",
       "      <td>Senior</td>\n",
       "    </tr>\n",
       "    <tr>\n",
       "      <th>99</th>\n",
       "      <td>1100</td>\n",
       "      <td>David</td>\n",
       "      <td>Finance</td>\n",
       "      <td>Los Angeles</td>\n",
       "      <td>43</td>\n",
       "      <td>113139</td>\n",
       "      <td>Senior</td>\n",
       "    </tr>\n",
       "  </tbody>\n",
       "</table>\n",
       "</div>"
      ],
      "text/plain": [
       "      ID   Name Department     Location  Age  Salary Is_Senior\n",
       "95  1096  Frank         IT      Chicago   51   73683    Senior\n",
       "96  1097  Alice         IT      Phoenix   38   58905    Junior\n",
       "97  1098    Ian  Marketing      Chicago   24   40321    Junior\n",
       "98  1099  Alice         IT      Phoenix   44   40760    Senior\n",
       "99  1100  David    Finance  Los Angeles   43  113139    Senior"
      ]
     },
     "execution_count": 102,
     "metadata": {},
     "output_type": "execute_result"
    }
   ],
   "source": [
    "df.tail()"
   ]
  },
  {
   "cell_type": "markdown",
   "id": "ddd0e860-3d60-4065-914e-07e6945a0371",
   "metadata": {},
   "source": [
    "### **29. group_by()** - Used to group data based on one or more columns and then apply a aggregate function "
   ]
  },
  {
   "cell_type": "code",
   "execution_count": 104,
   "id": "437622c3-3471-4d34-a1f9-02d9cc9294c9",
   "metadata": {},
   "outputs": [
    {
     "data": {
      "text/plain": [
       "Department\n",
       "Finance      116158\n",
       "HR           119311\n",
       "IT           119368\n",
       "Marketing    114295\n",
       "Sales        112395\n",
       "Name: Salary, dtype: int64"
      ]
     },
     "execution_count": 104,
     "metadata": {},
     "output_type": "execute_result"
    }
   ],
   "source": [
    "# what is the average salary for each department\n",
    "df.groupby('Department')['Salary'].max()"
   ]
  },
  {
   "cell_type": "code",
   "execution_count": 105,
   "id": "10134211-cc8f-4231-9026-7807e3539bfa",
   "metadata": {},
   "outputs": [
    {
     "data": {
      "text/plain": [
       "Location\n",
       "Chicago        40321\n",
       "Houston        49841\n",
       "Los Angeles    48955\n",
       "New York       53636\n",
       "Phoenix        40374\n",
       "Name: Salary, dtype: int64"
      ]
     },
     "execution_count": 105,
     "metadata": {},
     "output_type": "execute_result"
    }
   ],
   "source": [
    "df.groupby('Location')['Salary'].min()"
   ]
  },
  {
   "cell_type": "markdown",
   "id": "00a571e6-a584-477f-8207-5c4214bc4336",
   "metadata": {},
   "source": [
    "### **30. nlargest** - Top n rows with highest values"
   ]
  },
  {
   "cell_type": "code",
   "execution_count": 107,
   "id": "83a31c25-d54e-45e2-b09d-23b345ae7204",
   "metadata": {},
   "outputs": [
    {
     "data": {
      "text/html": [
       "<div>\n",
       "<style scoped>\n",
       "    .dataframe tbody tr th:only-of-type {\n",
       "        vertical-align: middle;\n",
       "    }\n",
       "\n",
       "    .dataframe tbody tr th {\n",
       "        vertical-align: top;\n",
       "    }\n",
       "\n",
       "    .dataframe thead th {\n",
       "        text-align: right;\n",
       "    }\n",
       "</style>\n",
       "<table border=\"1\" class=\"dataframe\">\n",
       "  <thead>\n",
       "    <tr style=\"text-align: right;\">\n",
       "      <th></th>\n",
       "      <th>ID</th>\n",
       "      <th>Name</th>\n",
       "      <th>Department</th>\n",
       "      <th>Location</th>\n",
       "      <th>Age</th>\n",
       "      <th>Salary</th>\n",
       "      <th>Is_Senior</th>\n",
       "    </tr>\n",
       "  </thead>\n",
       "  <tbody>\n",
       "    <tr>\n",
       "      <th>54</th>\n",
       "      <td>1055</td>\n",
       "      <td>Helen</td>\n",
       "      <td>IT</td>\n",
       "      <td>Los Angeles</td>\n",
       "      <td>56</td>\n",
       "      <td>119368</td>\n",
       "      <td>Senior</td>\n",
       "    </tr>\n",
       "    <tr>\n",
       "      <th>24</th>\n",
       "      <td>1025</td>\n",
       "      <td>Jane</td>\n",
       "      <td>HR</td>\n",
       "      <td>Chicago</td>\n",
       "      <td>27</td>\n",
       "      <td>119311</td>\n",
       "      <td>Junior</td>\n",
       "    </tr>\n",
       "    <tr>\n",
       "      <th>51</th>\n",
       "      <td>1052</td>\n",
       "      <td>Ian</td>\n",
       "      <td>HR</td>\n",
       "      <td>New York</td>\n",
       "      <td>41</td>\n",
       "      <td>117742</td>\n",
       "      <td>Senior</td>\n",
       "    </tr>\n",
       "    <tr>\n",
       "      <th>37</th>\n",
       "      <td>1038</td>\n",
       "      <td>Eva</td>\n",
       "      <td>IT</td>\n",
       "      <td>Phoenix</td>\n",
       "      <td>22</td>\n",
       "      <td>117485</td>\n",
       "      <td>Junior</td>\n",
       "    </tr>\n",
       "    <tr>\n",
       "      <th>85</th>\n",
       "      <td>1086</td>\n",
       "      <td>Ian</td>\n",
       "      <td>Finance</td>\n",
       "      <td>New York</td>\n",
       "      <td>41</td>\n",
       "      <td>116158</td>\n",
       "      <td>Senior</td>\n",
       "    </tr>\n",
       "  </tbody>\n",
       "</table>\n",
       "</div>"
      ],
      "text/plain": [
       "      ID   Name Department     Location  Age  Salary Is_Senior\n",
       "54  1055  Helen         IT  Los Angeles   56  119368    Senior\n",
       "24  1025   Jane         HR      Chicago   27  119311    Junior\n",
       "51  1052    Ian         HR     New York   41  117742    Senior\n",
       "37  1038    Eva         IT      Phoenix   22  117485    Junior\n",
       "85  1086    Ian    Finance     New York   41  116158    Senior"
      ]
     },
     "execution_count": 107,
     "metadata": {},
     "output_type": "execute_result"
    }
   ],
   "source": [
    "df.nlargest(5,\"Salary\")  "
   ]
  },
  {
   "cell_type": "markdown",
   "id": "8e5f0663-1e17-4c9c-8e3b-2d31c9406d0b",
   "metadata": {},
   "source": [
    "### **31. nsmallest** - Top n rows with smallest values"
   ]
  },
  {
   "cell_type": "code",
   "execution_count": 173,
   "id": "e1d44b8b-c2d6-4414-82c9-aa6d2fbd18a3",
   "metadata": {},
   "outputs": [
    {
     "data": {
      "text/html": [
       "<div>\n",
       "<style scoped>\n",
       "    .dataframe tbody tr th:only-of-type {\n",
       "        vertical-align: middle;\n",
       "    }\n",
       "\n",
       "    .dataframe tbody tr th {\n",
       "        vertical-align: top;\n",
       "    }\n",
       "\n",
       "    .dataframe thead th {\n",
       "        text-align: right;\n",
       "    }\n",
       "</style>\n",
       "<table border=\"1\" class=\"dataframe\">\n",
       "  <thead>\n",
       "    <tr style=\"text-align: right;\">\n",
       "      <th></th>\n",
       "      <th>ID</th>\n",
       "      <th>Name</th>\n",
       "      <th>Department</th>\n",
       "      <th>Location</th>\n",
       "      <th>Age</th>\n",
       "      <th>Salary</th>\n",
       "      <th>Is_Senior</th>\n",
       "    </tr>\n",
       "  </thead>\n",
       "  <tbody>\n",
       "    <tr>\n",
       "      <th>97</th>\n",
       "      <td>1098</td>\n",
       "      <td>Ian</td>\n",
       "      <td>Marketing</td>\n",
       "      <td>Chicago</td>\n",
       "      <td>24</td>\n",
       "      <td>40321</td>\n",
       "      <td>Junior</td>\n",
       "    </tr>\n",
       "    <tr>\n",
       "      <th>49</th>\n",
       "      <td>1050</td>\n",
       "      <td>Jane</td>\n",
       "      <td>HR</td>\n",
       "      <td>Phoenix</td>\n",
       "      <td>40</td>\n",
       "      <td>40374</td>\n",
       "      <td>Junior</td>\n",
       "    </tr>\n",
       "    <tr>\n",
       "      <th>98</th>\n",
       "      <td>1099</td>\n",
       "      <td>Alice</td>\n",
       "      <td>IT</td>\n",
       "      <td>Phoenix</td>\n",
       "      <td>44</td>\n",
       "      <td>40760</td>\n",
       "      <td>Senior</td>\n",
       "    </tr>\n",
       "    <tr>\n",
       "      <th>70</th>\n",
       "      <td>1071</td>\n",
       "      <td>Bob</td>\n",
       "      <td>IT</td>\n",
       "      <td>Chicago</td>\n",
       "      <td>57</td>\n",
       "      <td>41974</td>\n",
       "      <td>Senior</td>\n",
       "    </tr>\n",
       "    <tr>\n",
       "      <th>0</th>\n",
       "      <td>1001</td>\n",
       "      <td>Ian</td>\n",
       "      <td>Marketing</td>\n",
       "      <td>Phoenix</td>\n",
       "      <td>60</td>\n",
       "      <td>42096</td>\n",
       "      <td>Senior</td>\n",
       "    </tr>\n",
       "  </tbody>\n",
       "</table>\n",
       "</div>"
      ],
      "text/plain": [
       "      ID   Name Department Location  Age  Salary Is_Senior\n",
       "97  1098    Ian  Marketing  Chicago   24   40321    Junior\n",
       "49  1050   Jane         HR  Phoenix   40   40374    Junior\n",
       "98  1099  Alice         IT  Phoenix   44   40760    Senior\n",
       "70  1071    Bob         IT  Chicago   57   41974    Senior\n",
       "0   1001    Ian  Marketing  Phoenix   60   42096    Senior"
      ]
     },
     "execution_count": 173,
     "metadata": {},
     "output_type": "execute_result"
    }
   ],
   "source": [
    "df.nsmallest(5,\"Salary\")"
   ]
  }
 ],
 "metadata": {
  "kernelspec": {
   "display_name": "Python [conda env:base] *",
   "language": "python",
   "name": "conda-base-py"
  },
  "language_info": {
   "codemirror_mode": {
    "name": "ipython",
    "version": 3
   },
   "file_extension": ".py",
   "mimetype": "text/x-python",
   "name": "python",
   "nbconvert_exporter": "python",
   "pygments_lexer": "ipython3",
   "version": "3.12.7"
  }
 },
 "nbformat": 4,
 "nbformat_minor": 5
}
